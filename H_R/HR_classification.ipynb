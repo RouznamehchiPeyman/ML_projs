{
 "cells": [
  {
   "cell_type": "code",
   "execution_count": 422,
   "id": "41aed9e9",
   "metadata": {},
   "outputs": [],
   "source": [
    "import numpy as np\n",
    "import pandas as pd\n",
    "import matplotlib.pyplot as plt\n",
    "import seaborn as sns\n",
    "import preProcessing_uniTeh as pu\n",
    "from scipy import stats\n",
    "from IPython.core.display import display, HTML\n",
    "from pylab import rcParams"
   ]
  },
  {
   "cell_type": "code",
   "execution_count": 226,
   "id": "7319b19c",
   "metadata": {},
   "outputs": [
    {
     "data": {
      "text/html": [
       "<style>div.output_scroll { height: 44em; }</style>"
      ],
      "text/plain": [
       "<IPython.core.display.HTML object>"
      ]
     },
     "metadata": {},
     "output_type": "display_data"
    }
   ],
   "source": [
    "display(HTML(\"<style>div.output_scroll { height: 44em; }</style>\"))"
   ]
  },
  {
   "cell_type": "code",
   "execution_count": 227,
   "id": "1e86767a",
   "metadata": {},
   "outputs": [],
   "source": [
    "import warnings\n",
    "warnings.filterwarnings(\"ignore\")"
   ]
  },
  {
   "cell_type": "code",
   "execution_count": 228,
   "id": "ecf37ba1",
   "metadata": {},
   "outputs": [],
   "source": [
    "data = pd.read_csv('F:/O_C/T_U_C/dS_C9/7_Py(T)/3T/projects_classification/HR/cleanHRData.csv')"
   ]
  },
  {
   "cell_type": "code",
   "execution_count": 229,
   "id": "f7dd210e",
   "metadata": {},
   "outputs": [],
   "source": [
    "df = data.copy()"
   ]
  },
  {
   "cell_type": "code",
   "execution_count": 230,
   "id": "505f6a51",
   "metadata": {},
   "outputs": [],
   "source": [
    "X = df.drop('left', axis=1)\n",
    "y = df.left"
   ]
  },
  {
   "cell_type": "code",
   "execution_count": 231,
   "id": "7eebfcfa",
   "metadata": {},
   "outputs": [
    {
     "data": {
      "text/plain": [
       "(11991, 17)"
      ]
     },
     "execution_count": 231,
     "metadata": {},
     "output_type": "execute_result"
    }
   ],
   "source": [
    "X.shape"
   ]
  },
  {
   "cell_type": "code",
   "execution_count": 232,
   "id": "ad19522f",
   "metadata": {},
   "outputs": [
    {
     "data": {
      "text/plain": [
       "(11991,)"
      ]
     },
     "execution_count": 232,
     "metadata": {},
     "output_type": "execute_result"
    }
   ],
   "source": [
    "y.shape"
   ]
  },
  {
   "cell_type": "code",
   "execution_count": 233,
   "id": "98991b82",
   "metadata": {},
   "outputs": [
    {
     "data": {
      "text/html": [
       "<div>\n",
       "<style scoped>\n",
       "    .dataframe tbody tr th:only-of-type {\n",
       "        vertical-align: middle;\n",
       "    }\n",
       "\n",
       "    .dataframe tbody tr th {\n",
       "        vertical-align: top;\n",
       "    }\n",
       "\n",
       "    .dataframe thead th {\n",
       "        text-align: right;\n",
       "    }\n",
       "</style>\n",
       "<table border=\"1\" class=\"dataframe\">\n",
       "  <thead>\n",
       "    <tr style=\"text-align: right;\">\n",
       "      <th></th>\n",
       "      <th>satisfaction_level</th>\n",
       "      <th>last_evaluation</th>\n",
       "      <th>number_project</th>\n",
       "      <th>average_montly_hours</th>\n",
       "      <th>time_spend_company</th>\n",
       "      <th>Work_accident</th>\n",
       "      <th>promotion_last_5years</th>\n",
       "      <th>salary</th>\n",
       "      <th>RandD</th>\n",
       "      <th>accounting</th>\n",
       "      <th>hr</th>\n",
       "      <th>management</th>\n",
       "      <th>marketing</th>\n",
       "      <th>product_mng</th>\n",
       "      <th>sales</th>\n",
       "      <th>support</th>\n",
       "      <th>technical</th>\n",
       "    </tr>\n",
       "  </thead>\n",
       "  <tbody>\n",
       "    <tr>\n",
       "      <th>0</th>\n",
       "      <td>0.318681</td>\n",
       "      <td>0.265625</td>\n",
       "      <td>0.0</td>\n",
       "      <td>0.285047</td>\n",
       "      <td>0.25</td>\n",
       "      <td>0.0</td>\n",
       "      <td>0.0</td>\n",
       "      <td>0.0</td>\n",
       "      <td>0.0</td>\n",
       "      <td>0.0</td>\n",
       "      <td>0.0</td>\n",
       "      <td>0.0</td>\n",
       "      <td>0.0</td>\n",
       "      <td>0.0</td>\n",
       "      <td>1.0</td>\n",
       "      <td>0.0</td>\n",
       "      <td>0.0</td>\n",
       "    </tr>\n",
       "    <tr>\n",
       "      <th>1</th>\n",
       "      <td>0.780220</td>\n",
       "      <td>0.781250</td>\n",
       "      <td>0.6</td>\n",
       "      <td>0.775701</td>\n",
       "      <td>1.00</td>\n",
       "      <td>0.0</td>\n",
       "      <td>0.0</td>\n",
       "      <td>0.5</td>\n",
       "      <td>0.0</td>\n",
       "      <td>0.0</td>\n",
       "      <td>0.0</td>\n",
       "      <td>0.0</td>\n",
       "      <td>0.0</td>\n",
       "      <td>0.0</td>\n",
       "      <td>1.0</td>\n",
       "      <td>0.0</td>\n",
       "      <td>0.0</td>\n",
       "    </tr>\n",
       "    <tr>\n",
       "      <th>2</th>\n",
       "      <td>0.021978</td>\n",
       "      <td>0.812500</td>\n",
       "      <td>1.0</td>\n",
       "      <td>0.822430</td>\n",
       "      <td>0.50</td>\n",
       "      <td>0.0</td>\n",
       "      <td>0.0</td>\n",
       "      <td>0.5</td>\n",
       "      <td>0.0</td>\n",
       "      <td>0.0</td>\n",
       "      <td>0.0</td>\n",
       "      <td>0.0</td>\n",
       "      <td>0.0</td>\n",
       "      <td>0.0</td>\n",
       "      <td>1.0</td>\n",
       "      <td>0.0</td>\n",
       "      <td>0.0</td>\n",
       "    </tr>\n",
       "    <tr>\n",
       "      <th>3</th>\n",
       "      <td>0.692308</td>\n",
       "      <td>0.796875</td>\n",
       "      <td>0.6</td>\n",
       "      <td>0.593458</td>\n",
       "      <td>0.75</td>\n",
       "      <td>0.0</td>\n",
       "      <td>0.0</td>\n",
       "      <td>0.0</td>\n",
       "      <td>0.0</td>\n",
       "      <td>0.0</td>\n",
       "      <td>0.0</td>\n",
       "      <td>0.0</td>\n",
       "      <td>0.0</td>\n",
       "      <td>0.0</td>\n",
       "      <td>1.0</td>\n",
       "      <td>0.0</td>\n",
       "      <td>0.0</td>\n",
       "    </tr>\n",
       "    <tr>\n",
       "      <th>4</th>\n",
       "      <td>0.307692</td>\n",
       "      <td>0.250000</td>\n",
       "      <td>0.0</td>\n",
       "      <td>0.294393</td>\n",
       "      <td>0.25</td>\n",
       "      <td>0.0</td>\n",
       "      <td>0.0</td>\n",
       "      <td>0.0</td>\n",
       "      <td>0.0</td>\n",
       "      <td>0.0</td>\n",
       "      <td>0.0</td>\n",
       "      <td>0.0</td>\n",
       "      <td>0.0</td>\n",
       "      <td>0.0</td>\n",
       "      <td>1.0</td>\n",
       "      <td>0.0</td>\n",
       "      <td>0.0</td>\n",
       "    </tr>\n",
       "    <tr>\n",
       "      <th>...</th>\n",
       "      <td>...</td>\n",
       "      <td>...</td>\n",
       "      <td>...</td>\n",
       "      <td>...</td>\n",
       "      <td>...</td>\n",
       "      <td>...</td>\n",
       "      <td>...</td>\n",
       "      <td>...</td>\n",
       "      <td>...</td>\n",
       "      <td>...</td>\n",
       "      <td>...</td>\n",
       "      <td>...</td>\n",
       "      <td>...</td>\n",
       "      <td>...</td>\n",
       "      <td>...</td>\n",
       "      <td>...</td>\n",
       "      <td>...</td>\n",
       "    </tr>\n",
       "    <tr>\n",
       "      <th>11986</th>\n",
       "      <td>0.890110</td>\n",
       "      <td>0.296875</td>\n",
       "      <td>0.2</td>\n",
       "      <td>0.761682</td>\n",
       "      <td>1.00</td>\n",
       "      <td>1.0</td>\n",
       "      <td>1.0</td>\n",
       "      <td>1.0</td>\n",
       "      <td>0.0</td>\n",
       "      <td>0.0</td>\n",
       "      <td>0.0</td>\n",
       "      <td>1.0</td>\n",
       "      <td>0.0</td>\n",
       "      <td>0.0</td>\n",
       "      <td>0.0</td>\n",
       "      <td>0.0</td>\n",
       "      <td>0.0</td>\n",
       "    </tr>\n",
       "    <tr>\n",
       "      <th>11987</th>\n",
       "      <td>0.714286</td>\n",
       "      <td>0.921875</td>\n",
       "      <td>0.6</td>\n",
       "      <td>0.794393</td>\n",
       "      <td>1.00</td>\n",
       "      <td>0.0</td>\n",
       "      <td>1.0</td>\n",
       "      <td>1.0</td>\n",
       "      <td>0.0</td>\n",
       "      <td>0.0</td>\n",
       "      <td>0.0</td>\n",
       "      <td>1.0</td>\n",
       "      <td>0.0</td>\n",
       "      <td>0.0</td>\n",
       "      <td>0.0</td>\n",
       "      <td>0.0</td>\n",
       "      <td>0.0</td>\n",
       "    </tr>\n",
       "    <tr>\n",
       "      <th>11988</th>\n",
       "      <td>0.835165</td>\n",
       "      <td>0.281250</td>\n",
       "      <td>0.2</td>\n",
       "      <td>0.415888</td>\n",
       "      <td>1.00</td>\n",
       "      <td>0.0</td>\n",
       "      <td>1.0</td>\n",
       "      <td>1.0</td>\n",
       "      <td>0.0</td>\n",
       "      <td>0.0</td>\n",
       "      <td>0.0</td>\n",
       "      <td>1.0</td>\n",
       "      <td>0.0</td>\n",
       "      <td>0.0</td>\n",
       "      <td>0.0</td>\n",
       "      <td>0.0</td>\n",
       "      <td>0.0</td>\n",
       "    </tr>\n",
       "    <tr>\n",
       "      <th>11989</th>\n",
       "      <td>0.263736</td>\n",
       "      <td>0.453125</td>\n",
       "      <td>0.2</td>\n",
       "      <td>0.355140</td>\n",
       "      <td>1.00</td>\n",
       "      <td>0.0</td>\n",
       "      <td>1.0</td>\n",
       "      <td>1.0</td>\n",
       "      <td>0.0</td>\n",
       "      <td>0.0</td>\n",
       "      <td>0.0</td>\n",
       "      <td>0.0</td>\n",
       "      <td>1.0</td>\n",
       "      <td>0.0</td>\n",
       "      <td>0.0</td>\n",
       "      <td>0.0</td>\n",
       "      <td>0.0</td>\n",
       "    </tr>\n",
       "    <tr>\n",
       "      <th>11990</th>\n",
       "      <td>0.450549</td>\n",
       "      <td>0.578125</td>\n",
       "      <td>0.4</td>\n",
       "      <td>0.392523</td>\n",
       "      <td>0.25</td>\n",
       "      <td>0.0</td>\n",
       "      <td>0.0</td>\n",
       "      <td>0.0</td>\n",
       "      <td>0.0</td>\n",
       "      <td>0.0</td>\n",
       "      <td>0.0</td>\n",
       "      <td>0.0</td>\n",
       "      <td>0.0</td>\n",
       "      <td>0.0</td>\n",
       "      <td>0.0</td>\n",
       "      <td>0.0</td>\n",
       "      <td>0.0</td>\n",
       "    </tr>\n",
       "  </tbody>\n",
       "</table>\n",
       "<p>11991 rows × 17 columns</p>\n",
       "</div>"
      ],
      "text/plain": [
       "       satisfaction_level  last_evaluation  number_project  \\\n",
       "0                0.318681         0.265625             0.0   \n",
       "1                0.780220         0.781250             0.6   \n",
       "2                0.021978         0.812500             1.0   \n",
       "3                0.692308         0.796875             0.6   \n",
       "4                0.307692         0.250000             0.0   \n",
       "...                   ...              ...             ...   \n",
       "11986            0.890110         0.296875             0.2   \n",
       "11987            0.714286         0.921875             0.6   \n",
       "11988            0.835165         0.281250             0.2   \n",
       "11989            0.263736         0.453125             0.2   \n",
       "11990            0.450549         0.578125             0.4   \n",
       "\n",
       "       average_montly_hours  time_spend_company  Work_accident  \\\n",
       "0                  0.285047                0.25            0.0   \n",
       "1                  0.775701                1.00            0.0   \n",
       "2                  0.822430                0.50            0.0   \n",
       "3                  0.593458                0.75            0.0   \n",
       "4                  0.294393                0.25            0.0   \n",
       "...                     ...                 ...            ...   \n",
       "11986              0.761682                1.00            1.0   \n",
       "11987              0.794393                1.00            0.0   \n",
       "11988              0.415888                1.00            0.0   \n",
       "11989              0.355140                1.00            0.0   \n",
       "11990              0.392523                0.25            0.0   \n",
       "\n",
       "       promotion_last_5years  salary  RandD  accounting   hr  management  \\\n",
       "0                        0.0     0.0    0.0         0.0  0.0         0.0   \n",
       "1                        0.0     0.5    0.0         0.0  0.0         0.0   \n",
       "2                        0.0     0.5    0.0         0.0  0.0         0.0   \n",
       "3                        0.0     0.0    0.0         0.0  0.0         0.0   \n",
       "4                        0.0     0.0    0.0         0.0  0.0         0.0   \n",
       "...                      ...     ...    ...         ...  ...         ...   \n",
       "11986                    1.0     1.0    0.0         0.0  0.0         1.0   \n",
       "11987                    1.0     1.0    0.0         0.0  0.0         1.0   \n",
       "11988                    1.0     1.0    0.0         0.0  0.0         1.0   \n",
       "11989                    1.0     1.0    0.0         0.0  0.0         0.0   \n",
       "11990                    0.0     0.0    0.0         0.0  0.0         0.0   \n",
       "\n",
       "       marketing  product_mng  sales  support  technical  \n",
       "0            0.0          0.0    1.0      0.0        0.0  \n",
       "1            0.0          0.0    1.0      0.0        0.0  \n",
       "2            0.0          0.0    1.0      0.0        0.0  \n",
       "3            0.0          0.0    1.0      0.0        0.0  \n",
       "4            0.0          0.0    1.0      0.0        0.0  \n",
       "...          ...          ...    ...      ...        ...  \n",
       "11986        0.0          0.0    0.0      0.0        0.0  \n",
       "11987        0.0          0.0    0.0      0.0        0.0  \n",
       "11988        0.0          0.0    0.0      0.0        0.0  \n",
       "11989        1.0          0.0    0.0      0.0        0.0  \n",
       "11990        0.0          0.0    0.0      0.0        0.0  \n",
       "\n",
       "[11991 rows x 17 columns]"
      ]
     },
     "execution_count": 233,
     "metadata": {},
     "output_type": "execute_result"
    }
   ],
   "source": [
    "X"
   ]
  },
  {
   "cell_type": "code",
   "execution_count": 234,
   "id": "a06eb4c7",
   "metadata": {},
   "outputs": [
    {
     "data": {
      "text/plain": [
       "0        1.0\n",
       "1        1.0\n",
       "2        1.0\n",
       "3        1.0\n",
       "4        1.0\n",
       "        ... \n",
       "11986    0.0\n",
       "11987    0.0\n",
       "11988    0.0\n",
       "11989    0.0\n",
       "11990    0.0\n",
       "Name: left, Length: 11991, dtype: float64"
      ]
     },
     "execution_count": 234,
     "metadata": {},
     "output_type": "execute_result"
    }
   ],
   "source": [
    "y"
   ]
  },
  {
   "cell_type": "code",
   "execution_count": 303,
   "id": "e16bf1a1",
   "metadata": {},
   "outputs": [],
   "source": [
    "X_train = pd.read_csv('F:/O_C/T_U_C/dS_C9/7_Py(T)/3T/projects_classification/HR/X_train_cleanHRData.csv')\n",
    "X_test = pd.read_csv('F:/O_C/T_U_C/dS_C9/7_Py(T)/3T/projects_classification/HR/X_test_cleanHRData.csv')\n",
    "y_train = pd.read_csv('F:/O_C/T_U_C/dS_C9/7_Py(T)/3T/projects_classification/HR/y_train_cleanHRData.csv')\n",
    "y_test = pd.read_csv('F:/O_C/T_U_C/dS_C9/7_Py(T)/3T/projects_classification/HR/y_test_cleanHRData.csv')"
   ]
  },
  {
   "cell_type": "code",
   "execution_count": 304,
   "id": "cfe7a8c4",
   "metadata": {},
   "outputs": [
    {
     "data": {
      "text/html": [
       "<div>\n",
       "<style scoped>\n",
       "    .dataframe tbody tr th:only-of-type {\n",
       "        vertical-align: middle;\n",
       "    }\n",
       "\n",
       "    .dataframe tbody tr th {\n",
       "        vertical-align: top;\n",
       "    }\n",
       "\n",
       "    .dataframe thead th {\n",
       "        text-align: right;\n",
       "    }\n",
       "</style>\n",
       "<table border=\"1\" class=\"dataframe\">\n",
       "  <thead>\n",
       "    <tr style=\"text-align: right;\">\n",
       "      <th></th>\n",
       "      <th>left</th>\n",
       "    </tr>\n",
       "  </thead>\n",
       "  <tbody>\n",
       "    <tr>\n",
       "      <th>0</th>\n",
       "      <td>0</td>\n",
       "    </tr>\n",
       "    <tr>\n",
       "      <th>1</th>\n",
       "      <td>0</td>\n",
       "    </tr>\n",
       "    <tr>\n",
       "      <th>2</th>\n",
       "      <td>0</td>\n",
       "    </tr>\n",
       "    <tr>\n",
       "      <th>3</th>\n",
       "      <td>0</td>\n",
       "    </tr>\n",
       "    <tr>\n",
       "      <th>4</th>\n",
       "      <td>0</td>\n",
       "    </tr>\n",
       "    <tr>\n",
       "      <th>...</th>\n",
       "      <td>...</td>\n",
       "    </tr>\n",
       "    <tr>\n",
       "      <th>9587</th>\n",
       "      <td>1</td>\n",
       "    </tr>\n",
       "    <tr>\n",
       "      <th>9588</th>\n",
       "      <td>0</td>\n",
       "    </tr>\n",
       "    <tr>\n",
       "      <th>9589</th>\n",
       "      <td>0</td>\n",
       "    </tr>\n",
       "    <tr>\n",
       "      <th>9590</th>\n",
       "      <td>0</td>\n",
       "    </tr>\n",
       "    <tr>\n",
       "      <th>9591</th>\n",
       "      <td>0</td>\n",
       "    </tr>\n",
       "  </tbody>\n",
       "</table>\n",
       "<p>9592 rows × 1 columns</p>\n",
       "</div>"
      ],
      "text/plain": [
       "      left\n",
       "0        0\n",
       "1        0\n",
       "2        0\n",
       "3        0\n",
       "4        0\n",
       "...    ...\n",
       "9587     1\n",
       "9588     0\n",
       "9589     0\n",
       "9590     0\n",
       "9591     0\n",
       "\n",
       "[9592 rows x 1 columns]"
      ]
     },
     "execution_count": 304,
     "metadata": {},
     "output_type": "execute_result"
    }
   ],
   "source": [
    "y_train"
   ]
  },
  {
   "cell_type": "code",
   "execution_count": 305,
   "id": "b9f43b63",
   "metadata": {},
   "outputs": [],
   "source": [
    "y_train = y_train.left"
   ]
  },
  {
   "cell_type": "code",
   "execution_count": 306,
   "id": "376a2683",
   "metadata": {},
   "outputs": [
    {
     "data": {
      "text/plain": [
       "0       0\n",
       "1       0\n",
       "2       0\n",
       "3       0\n",
       "4       0\n",
       "       ..\n",
       "9587    1\n",
       "9588    0\n",
       "9589    0\n",
       "9590    0\n",
       "9591    0\n",
       "Name: left, Length: 9592, dtype: int64"
      ]
     },
     "execution_count": 306,
     "metadata": {},
     "output_type": "execute_result"
    }
   ],
   "source": [
    "y_train"
   ]
  },
  {
   "cell_type": "code",
   "execution_count": 307,
   "id": "07cf118e",
   "metadata": {},
   "outputs": [],
   "source": [
    "y_test = y_test.left"
   ]
  },
  {
   "cell_type": "code",
   "execution_count": 308,
   "id": "c503acf9",
   "metadata": {},
   "outputs": [
    {
     "name": "stdout",
     "output_type": "stream",
     "text": [
      "(9592, 17)\n",
      "(2399, 17)\n",
      "(9592,)\n",
      "(2399,)\n"
     ]
    }
   ],
   "source": [
    "print(X_train.shape)\n",
    "print(X_test.shape)\n",
    "print(y_train.shape)\n",
    "print(y_test.shape)"
   ]
  },
  {
   "cell_type": "code",
   "execution_count": 393,
   "id": "55b6affe",
   "metadata": {},
   "outputs": [],
   "source": [
    "X_train_new = X_train\n",
    "X_test_new = X_test"
   ]
  },
  {
   "cell_type": "code",
   "execution_count": 241,
   "id": "cb7e3323",
   "metadata": {},
   "outputs": [],
   "source": [
    "# RFE: Recursive Feature Elimination\n",
    "# VIF: variance inflation factor\n",
    "\n",
    "from sklearn.feature_selection import RFE\n",
    "# from sklearn.linear_model import LinearRegression  #predict #dummy #ffill, bfill\n",
    "from sklearn.tree import DecisionTreeClassifier\n",
    "import statsmodels.api as sm \n",
    "from statsmodels.stats.outliers_influence import variance_inflation_factor"
   ]
  },
  {
   "cell_type": "code",
   "execution_count": 394,
   "id": "6b1857b8",
   "metadata": {},
   "outputs": [
    {
     "name": "stdout",
     "output_type": "stream",
     "text": [
      "best number of feature: 5\n",
      "acc based on best number of feature: 0.9729053772405168\n",
      "best number of feature: 6\n",
      "acc based on best number of feature: 0.9754064193413923\n",
      "best number of feature: 7\n",
      "acc based on best number of feature: 0.9716548561900792\n",
      "best number of feature: 8\n",
      "acc based on best number of feature: 0.9737390579408086\n",
      "best number of feature: 9\n",
      "acc based on best number of feature: 0.9712380158399333\n",
      "best number of feature: 10\n",
      "acc based on best number of feature: 0.9712380158399333\n",
      "best number of feature: 12\n",
      "acc based on best number of feature: 0.9704043351396415\n",
      "best number of feature: 14\n",
      "acc based on best number of feature: 0.9708211754897874\n",
      "best number of feature: 15\n",
      "acc based on best number of feature: 0.9729053772405168\n",
      "best number of feature: 17\n",
      "acc based on best number of feature: 0.9704043351396415\n"
     ]
    }
   ],
   "source": [
    "from sklearn.metrics import accuracy_score\n",
    "\n",
    "for i in range(1, X_train.shape[1]+1):\n",
    "#     lm = LinearRegression() #creat LR model on train set\n",
    "#     lm.fit(X_train,y_train)\n",
    "    \n",
    "    DT = DecisionTreeClassifier()\n",
    "    DT.fit(X_train, y_train)\n",
    "    \n",
    "    rfe = RFE(DT, i) #fit RFE model with different number of features 1 to 32\n",
    "    rfe = rfe.fit(X_train, y_train)\n",
    "    \n",
    "    y_pred= rfe.predict(X_test)\n",
    "    acc = accuracy_score(y_test, y_pred)\n",
    "    \n",
    "    if acc>0.97:\n",
    "        best_n_feature = i\n",
    "        print('best number of feature:',best_n_feature)\n",
    "        print('acc based on best number of feature:',acc)"
   ]
  },
  {
   "cell_type": "code",
   "execution_count": 395,
   "id": "bfd6b6e8",
   "metadata": {},
   "outputs": [],
   "source": [
    "DT = DecisionTreeClassifier()\n",
    "DT.fit(X_train, y_train)\n",
    "\n",
    "rfe = RFE(DT, 11)\n",
    "rfe = rfe.fit(X_train, y_train)\n",
    "\n",
    "# RFE (MODEL, Number of feature to select)"
   ]
  },
  {
   "cell_type": "code",
   "execution_count": 396,
   "id": "2d674a0c",
   "metadata": {},
   "outputs": [
    {
     "data": {
      "text/plain": [
       "[('satisfaction_level', True, 1),\n",
       " ('last_evaluation', True, 1),\n",
       " ('number_project', True, 1),\n",
       " ('average_montly_hours', True, 1),\n",
       " ('time_spend_company', True, 1),\n",
       " ('Work_accident', True, 1),\n",
       " ('promotion_last_5years', False, 4),\n",
       " ('salary', True, 1),\n",
       " ('RandD', True, 1),\n",
       " ('accounting', False, 2),\n",
       " ('hr', False, 7),\n",
       " ('management', False, 3),\n",
       " ('marketing', False, 5),\n",
       " ('product_mng', False, 6),\n",
       " ('sales', True, 1),\n",
       " ('support', True, 1),\n",
       " ('technical', True, 1)]"
      ]
     },
     "execution_count": 396,
     "metadata": {},
     "output_type": "execute_result"
    }
   ],
   "source": [
    "list(zip(X_train.columns,rfe.support_,rfe.ranking_))"
   ]
  },
  {
   "cell_type": "code",
   "execution_count": 397,
   "id": "99a8041f",
   "metadata": {},
   "outputs": [
    {
     "data": {
      "text/plain": [
       "Index(['satisfaction_level', 'last_evaluation', 'number_project',\n",
       "       'average_montly_hours', 'time_spend_company', 'Work_accident', 'salary',\n",
       "       'RandD', 'sales', 'support', 'technical'],\n",
       "      dtype='object')"
      ]
     },
     "execution_count": 397,
     "metadata": {},
     "output_type": "execute_result"
    }
   ],
   "source": [
    "X_train.columns[rfe.support_]"
   ]
  },
  {
   "cell_type": "code",
   "execution_count": 398,
   "id": "9a6f81b2",
   "metadata": {},
   "outputs": [
    {
     "data": {
      "text/html": [
       "<div>\n",
       "<style scoped>\n",
       "    .dataframe tbody tr th:only-of-type {\n",
       "        vertical-align: middle;\n",
       "    }\n",
       "\n",
       "    .dataframe tbody tr th {\n",
       "        vertical-align: top;\n",
       "    }\n",
       "\n",
       "    .dataframe thead th {\n",
       "        text-align: right;\n",
       "    }\n",
       "</style>\n",
       "<table border=\"1\" class=\"dataframe\">\n",
       "  <thead>\n",
       "    <tr style=\"text-align: right;\">\n",
       "      <th></th>\n",
       "      <th>satisfaction_level</th>\n",
       "      <th>last_evaluation</th>\n",
       "      <th>number_project</th>\n",
       "      <th>average_montly_hours</th>\n",
       "      <th>time_spend_company</th>\n",
       "      <th>Work_accident</th>\n",
       "      <th>salary</th>\n",
       "      <th>RandD</th>\n",
       "      <th>sales</th>\n",
       "      <th>support</th>\n",
       "      <th>technical</th>\n",
       "    </tr>\n",
       "  </thead>\n",
       "  <tbody>\n",
       "    <tr>\n",
       "      <th>0</th>\n",
       "      <td>0.494505</td>\n",
       "      <td>0.203125</td>\n",
       "      <td>0.4</td>\n",
       "      <td>0.261682</td>\n",
       "      <td>0.25</td>\n",
       "      <td>1.0</td>\n",
       "      <td>0.5</td>\n",
       "      <td>0.0</td>\n",
       "      <td>1.0</td>\n",
       "      <td>0.0</td>\n",
       "      <td>0.0</td>\n",
       "    </tr>\n",
       "    <tr>\n",
       "      <th>1</th>\n",
       "      <td>0.890110</td>\n",
       "      <td>0.515625</td>\n",
       "      <td>0.4</td>\n",
       "      <td>0.355140</td>\n",
       "      <td>0.25</td>\n",
       "      <td>0.0</td>\n",
       "      <td>0.5</td>\n",
       "      <td>0.0</td>\n",
       "      <td>0.0</td>\n",
       "      <td>0.0</td>\n",
       "      <td>0.0</td>\n",
       "    </tr>\n",
       "    <tr>\n",
       "      <th>2</th>\n",
       "      <td>0.879121</td>\n",
       "      <td>0.812500</td>\n",
       "      <td>0.2</td>\n",
       "      <td>0.322430</td>\n",
       "      <td>0.50</td>\n",
       "      <td>0.0</td>\n",
       "      <td>0.5</td>\n",
       "      <td>0.0</td>\n",
       "      <td>1.0</td>\n",
       "      <td>0.0</td>\n",
       "      <td>0.0</td>\n",
       "    </tr>\n",
       "    <tr>\n",
       "      <th>3</th>\n",
       "      <td>0.945055</td>\n",
       "      <td>0.593750</td>\n",
       "      <td>0.2</td>\n",
       "      <td>0.542056</td>\n",
       "      <td>0.25</td>\n",
       "      <td>0.0</td>\n",
       "      <td>0.5</td>\n",
       "      <td>0.0</td>\n",
       "      <td>1.0</td>\n",
       "      <td>0.0</td>\n",
       "      <td>0.0</td>\n",
       "    </tr>\n",
       "    <tr>\n",
       "      <th>4</th>\n",
       "      <td>0.802198</td>\n",
       "      <td>0.500000</td>\n",
       "      <td>0.0</td>\n",
       "      <td>0.883178</td>\n",
       "      <td>0.00</td>\n",
       "      <td>0.0</td>\n",
       "      <td>0.5</td>\n",
       "      <td>0.0</td>\n",
       "      <td>0.0</td>\n",
       "      <td>1.0</td>\n",
       "      <td>0.0</td>\n",
       "    </tr>\n",
       "  </tbody>\n",
       "</table>\n",
       "</div>"
      ],
      "text/plain": [
       "   satisfaction_level  last_evaluation  number_project  average_montly_hours  \\\n",
       "0            0.494505         0.203125             0.4              0.261682   \n",
       "1            0.890110         0.515625             0.4              0.355140   \n",
       "2            0.879121         0.812500             0.2              0.322430   \n",
       "3            0.945055         0.593750             0.2              0.542056   \n",
       "4            0.802198         0.500000             0.0              0.883178   \n",
       "\n",
       "   time_spend_company  Work_accident  salary  RandD  sales  support  technical  \n",
       "0                0.25            1.0     0.5    0.0    1.0      0.0        0.0  \n",
       "1                0.25            0.0     0.5    0.0    0.0      0.0        0.0  \n",
       "2                0.50            0.0     0.5    0.0    1.0      0.0        0.0  \n",
       "3                0.25            0.0     0.5    0.0    1.0      0.0        0.0  \n",
       "4                0.00            0.0     0.5    0.0    0.0      1.0        0.0  "
      ]
     },
     "execution_count": 398,
     "metadata": {},
     "output_type": "execute_result"
    }
   ],
   "source": [
    "X_train_rfe = X_train[X_train.columns[rfe.support_]]\n",
    "X_train_rfe.head()"
   ]
  },
  {
   "cell_type": "code",
   "execution_count": 399,
   "id": "5295e47f",
   "metadata": {},
   "outputs": [
    {
     "data": {
      "text/html": [
       "<div>\n",
       "<style scoped>\n",
       "    .dataframe tbody tr th:only-of-type {\n",
       "        vertical-align: middle;\n",
       "    }\n",
       "\n",
       "    .dataframe tbody tr th {\n",
       "        vertical-align: top;\n",
       "    }\n",
       "\n",
       "    .dataframe thead th {\n",
       "        text-align: right;\n",
       "    }\n",
       "</style>\n",
       "<table border=\"1\" class=\"dataframe\">\n",
       "  <thead>\n",
       "    <tr style=\"text-align: right;\">\n",
       "      <th></th>\n",
       "      <th>Features</th>\n",
       "      <th>VIF</th>\n",
       "    </tr>\n",
       "  </thead>\n",
       "  <tbody>\n",
       "    <tr>\n",
       "      <th>3</th>\n",
       "      <td>average_montly_hours</td>\n",
       "      <td>5.91</td>\n",
       "    </tr>\n",
       "    <tr>\n",
       "      <th>1</th>\n",
       "      <td>last_evaluation</td>\n",
       "      <td>5.86</td>\n",
       "    </tr>\n",
       "    <tr>\n",
       "      <th>0</th>\n",
       "      <td>satisfaction_level</td>\n",
       "      <td>4.51</td>\n",
       "    </tr>\n",
       "    <tr>\n",
       "      <th>2</th>\n",
       "      <td>number_project</td>\n",
       "      <td>4.06</td>\n",
       "    </tr>\n",
       "    <tr>\n",
       "      <th>4</th>\n",
       "      <td>time_spend_company</td>\n",
       "      <td>2.39</td>\n",
       "    </tr>\n",
       "    <tr>\n",
       "      <th>6</th>\n",
       "      <td>salary</td>\n",
       "      <td>1.82</td>\n",
       "    </tr>\n",
       "    <tr>\n",
       "      <th>8</th>\n",
       "      <td>sales</td>\n",
       "      <td>1.66</td>\n",
       "    </tr>\n",
       "    <tr>\n",
       "      <th>10</th>\n",
       "      <td>technical</td>\n",
       "      <td>1.47</td>\n",
       "    </tr>\n",
       "    <tr>\n",
       "      <th>9</th>\n",
       "      <td>support</td>\n",
       "      <td>1.39</td>\n",
       "    </tr>\n",
       "    <tr>\n",
       "      <th>5</th>\n",
       "      <td>Work_accident</td>\n",
       "      <td>1.17</td>\n",
       "    </tr>\n",
       "    <tr>\n",
       "      <th>7</th>\n",
       "      <td>RandD</td>\n",
       "      <td>1.15</td>\n",
       "    </tr>\n",
       "  </tbody>\n",
       "</table>\n",
       "</div>"
      ],
      "text/plain": [
       "                Features   VIF\n",
       "3   average_montly_hours  5.91\n",
       "1        last_evaluation  5.86\n",
       "0     satisfaction_level  4.51\n",
       "2         number_project  4.06\n",
       "4     time_spend_company  2.39\n",
       "6                 salary  1.82\n",
       "8                  sales  1.66\n",
       "10             technical  1.47\n",
       "9                support  1.39\n",
       "5          Work_accident  1.17\n",
       "7                  RandD  1.15"
      ]
     },
     "execution_count": 399,
     "metadata": {},
     "output_type": "execute_result"
    }
   ],
   "source": [
    "vif = pd.DataFrame()\n",
    "vif['Features'] = X_train_rfe.columns\n",
    "\n",
    "\n",
    "# pythonic\n",
    "vif['VIF'] = [variance_inflation_factor(X_train_rfe.values, i) for i in range(X_train_rfe.shape[1])]\n",
    "  \n",
    "vif['VIF'] = round(vif['VIF'], 2)\n",
    "vif = vif.sort_values(by = \"VIF\", ascending = False)\n",
    "vif\n",
    "\n",
    "#reset_index()"
   ]
  },
  {
   "cell_type": "code",
   "execution_count": 400,
   "id": "8ca134be",
   "metadata": {},
   "outputs": [],
   "source": [
    "# from sklearn.feature_selection import RFE\n",
    "# from sklearn.tree import DecisionTreeClassifier\n",
    "# import statsmodels.api as sm \n",
    "# from statsmodels.stats.outliers_influence import variance_inflation_factor"
   ]
  },
  {
   "cell_type": "code",
   "execution_count": 401,
   "id": "a6c9ff3e",
   "metadata": {},
   "outputs": [],
   "source": [
    "# def build_model(X,y):\n",
    "#     X = sm.add_constant(X)  #Adding the constant\n",
    "#     lm = sm.OLS(y,X).fit()  # fitting the model\n",
    "#     print(lm.summary())     # model summary\n",
    "#     return X\n",
    "\n",
    "  \n",
    "def build_model(X, y):\n",
    "    logit_model = sm.Logit(y, X).fit()\n",
    "    print(logit_model.summary())\n",
    "    return X\n",
    "\n",
    "def checkVIF(X):\n",
    "    vif = pd.DataFrame()\n",
    "    vif['Features'] = X.columns\n",
    "    \n",
    "    #pythonic\n",
    "    vif['VIF'] = [variance_inflation_factor(X.values, i) for i in range(X.shape[1])]\n",
    "    vif['VIF'] = round(vif['VIF'], 2)\n",
    "    vif = vif.sort_values(by = \"VIF\", ascending = False)\n",
    "    return(vif)\n"
   ]
  },
  {
   "cell_type": "code",
   "execution_count": 402,
   "id": "6e51a7cc",
   "metadata": {},
   "outputs": [
    {
     "data": {
      "text/html": [
       "<div>\n",
       "<style scoped>\n",
       "    .dataframe tbody tr th:only-of-type {\n",
       "        vertical-align: middle;\n",
       "    }\n",
       "\n",
       "    .dataframe tbody tr th {\n",
       "        vertical-align: top;\n",
       "    }\n",
       "\n",
       "    .dataframe thead th {\n",
       "        text-align: right;\n",
       "    }\n",
       "</style>\n",
       "<table border=\"1\" class=\"dataframe\">\n",
       "  <thead>\n",
       "    <tr style=\"text-align: right;\">\n",
       "      <th></th>\n",
       "      <th>Features</th>\n",
       "      <th>VIF</th>\n",
       "    </tr>\n",
       "  </thead>\n",
       "  <tbody>\n",
       "    <tr>\n",
       "      <th>3</th>\n",
       "      <td>average_montly_hours</td>\n",
       "      <td>5.91</td>\n",
       "    </tr>\n",
       "    <tr>\n",
       "      <th>1</th>\n",
       "      <td>last_evaluation</td>\n",
       "      <td>5.86</td>\n",
       "    </tr>\n",
       "    <tr>\n",
       "      <th>0</th>\n",
       "      <td>satisfaction_level</td>\n",
       "      <td>4.51</td>\n",
       "    </tr>\n",
       "    <tr>\n",
       "      <th>2</th>\n",
       "      <td>number_project</td>\n",
       "      <td>4.06</td>\n",
       "    </tr>\n",
       "    <tr>\n",
       "      <th>4</th>\n",
       "      <td>time_spend_company</td>\n",
       "      <td>2.39</td>\n",
       "    </tr>\n",
       "    <tr>\n",
       "      <th>6</th>\n",
       "      <td>salary</td>\n",
       "      <td>1.82</td>\n",
       "    </tr>\n",
       "    <tr>\n",
       "      <th>8</th>\n",
       "      <td>sales</td>\n",
       "      <td>1.66</td>\n",
       "    </tr>\n",
       "    <tr>\n",
       "      <th>10</th>\n",
       "      <td>technical</td>\n",
       "      <td>1.47</td>\n",
       "    </tr>\n",
       "    <tr>\n",
       "      <th>9</th>\n",
       "      <td>support</td>\n",
       "      <td>1.39</td>\n",
       "    </tr>\n",
       "    <tr>\n",
       "      <th>5</th>\n",
       "      <td>Work_accident</td>\n",
       "      <td>1.17</td>\n",
       "    </tr>\n",
       "    <tr>\n",
       "      <th>7</th>\n",
       "      <td>RandD</td>\n",
       "      <td>1.15</td>\n",
       "    </tr>\n",
       "  </tbody>\n",
       "</table>\n",
       "</div>"
      ],
      "text/plain": [
       "                Features   VIF\n",
       "3   average_montly_hours  5.91\n",
       "1        last_evaluation  5.86\n",
       "0     satisfaction_level  4.51\n",
       "2         number_project  4.06\n",
       "4     time_spend_company  2.39\n",
       "6                 salary  1.82\n",
       "8                  sales  1.66\n",
       "10             technical  1.47\n",
       "9                support  1.39\n",
       "5          Work_accident  1.17\n",
       "7                  RandD  1.15"
      ]
     },
     "execution_count": 402,
     "metadata": {},
     "output_type": "execute_result"
    }
   ],
   "source": [
    "checkVIF(X_train_rfe)"
   ]
  },
  {
   "cell_type": "code",
   "execution_count": 403,
   "id": "f07365ea",
   "metadata": {},
   "outputs": [
    {
     "name": "stdout",
     "output_type": "stream",
     "text": [
      "Optimization terminated successfully.\n",
      "         Current function value: 0.354209\n",
      "         Iterations 7\n",
      "                           Logit Regression Results                           \n",
      "==============================================================================\n",
      "Dep. Variable:                   left   No. Observations:                 9592\n",
      "Model:                          Logit   Df Residuals:                     9581\n",
      "Method:                           MLE   Df Model:                           10\n",
      "Date:                Wed, 02 Feb 2022   Pseudo R-squ.:                  0.2166\n",
      "Time:                        07:51:59   Log-Likelihood:                -3397.6\n",
      "converged:                       True   LL-Null:                       -4336.8\n",
      "Covariance Type:            nonrobust   LLR p-value:                     0.000\n",
      "========================================================================================\n",
      "                           coef    std err          z      P>|z|      [0.025      0.975]\n",
      "----------------------------------------------------------------------------------------\n",
      "satisfaction_level      -3.6173      0.108    -33.564      0.000      -3.829      -3.406\n",
      "last_evaluation          0.3461      0.126      2.750      0.006       0.099       0.593\n",
      "number_project          -1.6802      0.145    -11.569      0.000      -1.965      -1.396\n",
      "average_montly_hours     0.7711      0.143      5.408      0.000       0.492       1.051\n",
      "time_spend_company       1.9893      0.110     18.145      0.000       1.774       2.204\n",
      "Work_accident           -1.5611      0.127    -12.263      0.000      -1.811      -1.312\n",
      "salary                  -1.3494      0.104    -12.976      0.000      -1.553      -1.146\n",
      "RandD                   -0.3671      0.152     -2.422      0.015      -0.664      -0.070\n",
      "sales                    0.0668      0.075      0.887      0.375      -0.081       0.214\n",
      "support                  0.0658      0.092      0.712      0.476      -0.115       0.247\n",
      "technical                0.1329      0.085      1.570      0.116      -0.033       0.299\n",
      "========================================================================================\n"
     ]
    }
   ],
   "source": [
    "X_train_new = build_model(X_train_rfe,y_train)"
   ]
  },
  {
   "cell_type": "code",
   "execution_count": 404,
   "id": "f027a799",
   "metadata": {},
   "outputs": [],
   "source": [
    "X_train_new = X_train_rfe.drop([\"support\"], axis = 1)"
   ]
  },
  {
   "cell_type": "code",
   "execution_count": 405,
   "id": "4a724c18",
   "metadata": {},
   "outputs": [
    {
     "name": "stdout",
     "output_type": "stream",
     "text": [
      "Optimization terminated successfully.\n",
      "         Current function value: 0.354236\n",
      "         Iterations 7\n",
      "                           Logit Regression Results                           \n",
      "==============================================================================\n",
      "Dep. Variable:                   left   No. Observations:                 9592\n",
      "Model:                          Logit   Df Residuals:                     9582\n",
      "Method:                           MLE   Df Model:                            9\n",
      "Date:                Wed, 02 Feb 2022   Pseudo R-squ.:                  0.2165\n",
      "Time:                        07:52:00   Log-Likelihood:                -3397.8\n",
      "converged:                       True   LL-Null:                       -4336.8\n",
      "Covariance Type:            nonrobust   LLR p-value:                     0.000\n",
      "========================================================================================\n",
      "                           coef    std err          z      P>|z|      [0.025      0.975]\n",
      "----------------------------------------------------------------------------------------\n",
      "satisfaction_level      -3.6040      0.106    -33.985      0.000      -3.812      -3.396\n",
      "last_evaluation          0.3521      0.126      2.803      0.005       0.106       0.598\n",
      "number_project          -1.6752      0.145    -11.548      0.000      -1.959      -1.391\n",
      "average_montly_hours     0.7788      0.142      5.477      0.000       0.500       1.057\n",
      "time_spend_company       1.9920      0.110     18.187      0.000       1.777       2.207\n",
      "Work_accident           -1.5574      0.127    -12.248      0.000      -1.807      -1.308\n",
      "salary                  -1.3464      0.104    -12.963      0.000      -1.550      -1.143\n",
      "RandD                   -0.3841      0.150     -2.566      0.010      -0.677      -0.091\n",
      "sales                    0.0499      0.071      0.699      0.485      -0.090       0.190\n",
      "technical                0.1158      0.081      1.428      0.153      -0.043       0.275\n",
      "========================================================================================\n"
     ]
    }
   ],
   "source": [
    "X_train_new = build_model(X_train_new,y_train)"
   ]
  },
  {
   "cell_type": "code",
   "execution_count": 406,
   "id": "e4f1b27c",
   "metadata": {},
   "outputs": [],
   "source": [
    "X_train_new = X_train_rfe.drop([\"sales\", 'support'], axis = 1)"
   ]
  },
  {
   "cell_type": "code",
   "execution_count": 407,
   "id": "826a6ba2",
   "metadata": {},
   "outputs": [
    {
     "name": "stdout",
     "output_type": "stream",
     "text": [
      "Optimization terminated successfully.\n",
      "         Current function value: 0.354261\n",
      "         Iterations 7\n",
      "                           Logit Regression Results                           \n",
      "==============================================================================\n",
      "Dep. Variable:                   left   No. Observations:                 9592\n",
      "Model:                          Logit   Df Residuals:                     9583\n",
      "Method:                           MLE   Df Model:                            8\n",
      "Date:                Wed, 02 Feb 2022   Pseudo R-squ.:                  0.2165\n",
      "Time:                        07:52:01   Log-Likelihood:                -3398.1\n",
      "converged:                       True   LL-Null:                       -4336.8\n",
      "Covariance Type:            nonrobust   LLR p-value:                     0.000\n",
      "========================================================================================\n",
      "                           coef    std err          z      P>|z|      [0.025      0.975]\n",
      "----------------------------------------------------------------------------------------\n",
      "satisfaction_level      -3.5919      0.105    -34.363      0.000      -3.797      -3.387\n",
      "last_evaluation          0.3559      0.125      2.837      0.005       0.110       0.602\n",
      "number_project          -1.6723      0.145    -11.531      0.000      -1.957      -1.388\n",
      "average_montly_hours     0.7871      0.142      5.556      0.000       0.509       1.065\n",
      "time_spend_company       1.9975      0.109     18.287      0.000       1.783       2.212\n",
      "Work_accident           -1.5553      0.127    -12.235      0.000      -1.805      -1.306\n",
      "salary                  -1.3435      0.104    -12.949      0.000      -1.547      -1.140\n",
      "RandD                   -0.4001      0.148     -2.706      0.007      -0.690      -0.110\n",
      "technical                0.0998      0.078      1.284      0.199      -0.053       0.252\n",
      "========================================================================================\n"
     ]
    }
   ],
   "source": [
    "X_train_new = build_model(X_train_new,y_train)"
   ]
  },
  {
   "cell_type": "code",
   "execution_count": 408,
   "id": "63e93f07",
   "metadata": {},
   "outputs": [],
   "source": [
    "X_train_new = X_train_rfe.drop(['technical', 'support', 'sales'], axis = 1)"
   ]
  },
  {
   "cell_type": "code",
   "execution_count": 409,
   "id": "73bdcba7",
   "metadata": {},
   "outputs": [
    {
     "name": "stdout",
     "output_type": "stream",
     "text": [
      "Optimization terminated successfully.\n",
      "         Current function value: 0.354346\n",
      "         Iterations 7\n",
      "                           Logit Regression Results                           \n",
      "==============================================================================\n",
      "Dep. Variable:                   left   No. Observations:                 9592\n",
      "Model:                          Logit   Df Residuals:                     9584\n",
      "Method:                           MLE   Df Model:                            7\n",
      "Date:                Wed, 02 Feb 2022   Pseudo R-squ.:                  0.2163\n",
      "Time:                        07:52:03   Log-Likelihood:                -3398.9\n",
      "converged:                       True   LL-Null:                       -4336.8\n",
      "Covariance Type:            nonrobust   LLR p-value:                     0.000\n",
      "========================================================================================\n",
      "                           coef    std err          z      P>|z|      [0.025      0.975]\n",
      "----------------------------------------------------------------------------------------\n",
      "satisfaction_level      -3.5780      0.104    -34.455      0.000      -3.782      -3.374\n",
      "last_evaluation          0.3615      0.125      2.884      0.004       0.116       0.607\n",
      "number_project          -1.6634      0.145    -11.482      0.000      -1.947      -1.379\n",
      "average_montly_hours     0.7975      0.141      5.639      0.000       0.520       1.075\n",
      "time_spend_company       1.9977      0.109     18.302      0.000       1.784       2.212\n",
      "Work_accident           -1.5530      0.127    -12.222      0.000      -1.802      -1.304\n",
      "salary                  -1.3424      0.104    -12.941      0.000      -1.546      -1.139\n",
      "RandD                   -0.4183      0.147     -2.843      0.004      -0.707      -0.130\n",
      "========================================================================================\n"
     ]
    }
   ],
   "source": [
    "X_train_new = build_model(X_train_new,y_train)"
   ]
  },
  {
   "cell_type": "code",
   "execution_count": 410,
   "id": "92b1f0c7",
   "metadata": {},
   "outputs": [
    {
     "data": {
      "text/html": [
       "<div>\n",
       "<style scoped>\n",
       "    .dataframe tbody tr th:only-of-type {\n",
       "        vertical-align: middle;\n",
       "    }\n",
       "\n",
       "    .dataframe tbody tr th {\n",
       "        vertical-align: top;\n",
       "    }\n",
       "\n",
       "    .dataframe thead th {\n",
       "        text-align: right;\n",
       "    }\n",
       "</style>\n",
       "<table border=\"1\" class=\"dataframe\">\n",
       "  <thead>\n",
       "    <tr style=\"text-align: right;\">\n",
       "      <th></th>\n",
       "      <th>satisfaction_level</th>\n",
       "      <th>last_evaluation</th>\n",
       "      <th>number_project</th>\n",
       "      <th>average_montly_hours</th>\n",
       "      <th>time_spend_company</th>\n",
       "      <th>Work_accident</th>\n",
       "      <th>salary</th>\n",
       "      <th>RandD</th>\n",
       "    </tr>\n",
       "  </thead>\n",
       "  <tbody>\n",
       "    <tr>\n",
       "      <th>0</th>\n",
       "      <td>0.494505</td>\n",
       "      <td>0.203125</td>\n",
       "      <td>0.4</td>\n",
       "      <td>0.261682</td>\n",
       "      <td>0.25</td>\n",
       "      <td>1.0</td>\n",
       "      <td>0.5</td>\n",
       "      <td>0.0</td>\n",
       "    </tr>\n",
       "    <tr>\n",
       "      <th>1</th>\n",
       "      <td>0.890110</td>\n",
       "      <td>0.515625</td>\n",
       "      <td>0.4</td>\n",
       "      <td>0.355140</td>\n",
       "      <td>0.25</td>\n",
       "      <td>0.0</td>\n",
       "      <td>0.5</td>\n",
       "      <td>0.0</td>\n",
       "    </tr>\n",
       "    <tr>\n",
       "      <th>2</th>\n",
       "      <td>0.879121</td>\n",
       "      <td>0.812500</td>\n",
       "      <td>0.2</td>\n",
       "      <td>0.322430</td>\n",
       "      <td>0.50</td>\n",
       "      <td>0.0</td>\n",
       "      <td>0.5</td>\n",
       "      <td>0.0</td>\n",
       "    </tr>\n",
       "    <tr>\n",
       "      <th>3</th>\n",
       "      <td>0.945055</td>\n",
       "      <td>0.593750</td>\n",
       "      <td>0.2</td>\n",
       "      <td>0.542056</td>\n",
       "      <td>0.25</td>\n",
       "      <td>0.0</td>\n",
       "      <td>0.5</td>\n",
       "      <td>0.0</td>\n",
       "    </tr>\n",
       "    <tr>\n",
       "      <th>4</th>\n",
       "      <td>0.802198</td>\n",
       "      <td>0.500000</td>\n",
       "      <td>0.0</td>\n",
       "      <td>0.883178</td>\n",
       "      <td>0.00</td>\n",
       "      <td>0.0</td>\n",
       "      <td>0.5</td>\n",
       "      <td>0.0</td>\n",
       "    </tr>\n",
       "    <tr>\n",
       "      <th>...</th>\n",
       "      <td>...</td>\n",
       "      <td>...</td>\n",
       "      <td>...</td>\n",
       "      <td>...</td>\n",
       "      <td>...</td>\n",
       "      <td>...</td>\n",
       "      <td>...</td>\n",
       "      <td>...</td>\n",
       "    </tr>\n",
       "    <tr>\n",
       "      <th>9587</th>\n",
       "      <td>0.802198</td>\n",
       "      <td>0.906250</td>\n",
       "      <td>0.6</td>\n",
       "      <td>0.635514</td>\n",
       "      <td>0.75</td>\n",
       "      <td>1.0</td>\n",
       "      <td>0.5</td>\n",
       "      <td>0.0</td>\n",
       "    </tr>\n",
       "    <tr>\n",
       "      <th>9588</th>\n",
       "      <td>0.648352</td>\n",
       "      <td>0.578125</td>\n",
       "      <td>0.2</td>\n",
       "      <td>0.752336</td>\n",
       "      <td>0.25</td>\n",
       "      <td>0.0</td>\n",
       "      <td>0.0</td>\n",
       "      <td>0.0</td>\n",
       "    </tr>\n",
       "    <tr>\n",
       "      <th>9589</th>\n",
       "      <td>0.769231</td>\n",
       "      <td>0.796875</td>\n",
       "      <td>0.4</td>\n",
       "      <td>0.593458</td>\n",
       "      <td>0.75</td>\n",
       "      <td>0.0</td>\n",
       "      <td>0.5</td>\n",
       "      <td>0.0</td>\n",
       "    </tr>\n",
       "    <tr>\n",
       "      <th>9590</th>\n",
       "      <td>0.582418</td>\n",
       "      <td>0.375000</td>\n",
       "      <td>0.4</td>\n",
       "      <td>0.345794</td>\n",
       "      <td>0.00</td>\n",
       "      <td>0.0</td>\n",
       "      <td>0.0</td>\n",
       "      <td>0.0</td>\n",
       "    </tr>\n",
       "    <tr>\n",
       "      <th>9591</th>\n",
       "      <td>0.065934</td>\n",
       "      <td>0.468750</td>\n",
       "      <td>0.4</td>\n",
       "      <td>0.392523</td>\n",
       "      <td>0.50</td>\n",
       "      <td>0.0</td>\n",
       "      <td>0.0</td>\n",
       "      <td>0.0</td>\n",
       "    </tr>\n",
       "  </tbody>\n",
       "</table>\n",
       "<p>9592 rows × 8 columns</p>\n",
       "</div>"
      ],
      "text/plain": [
       "      satisfaction_level  last_evaluation  number_project  \\\n",
       "0               0.494505         0.203125             0.4   \n",
       "1               0.890110         0.515625             0.4   \n",
       "2               0.879121         0.812500             0.2   \n",
       "3               0.945055         0.593750             0.2   \n",
       "4               0.802198         0.500000             0.0   \n",
       "...                  ...              ...             ...   \n",
       "9587            0.802198         0.906250             0.6   \n",
       "9588            0.648352         0.578125             0.2   \n",
       "9589            0.769231         0.796875             0.4   \n",
       "9590            0.582418         0.375000             0.4   \n",
       "9591            0.065934         0.468750             0.4   \n",
       "\n",
       "      average_montly_hours  time_spend_company  Work_accident  salary  RandD  \n",
       "0                 0.261682                0.25            1.0     0.5    0.0  \n",
       "1                 0.355140                0.25            0.0     0.5    0.0  \n",
       "2                 0.322430                0.50            0.0     0.5    0.0  \n",
       "3                 0.542056                0.25            0.0     0.5    0.0  \n",
       "4                 0.883178                0.00            0.0     0.5    0.0  \n",
       "...                    ...                 ...            ...     ...    ...  \n",
       "9587              0.635514                0.75            1.0     0.5    0.0  \n",
       "9588              0.752336                0.25            0.0     0.0    0.0  \n",
       "9589              0.593458                0.75            0.0     0.5    0.0  \n",
       "9590              0.345794                0.00            0.0     0.0    0.0  \n",
       "9591              0.392523                0.50            0.0     0.0    0.0  \n",
       "\n",
       "[9592 rows x 8 columns]"
      ]
     },
     "execution_count": 410,
     "metadata": {},
     "output_type": "execute_result"
    }
   ],
   "source": [
    "X_train_new"
   ]
  },
  {
   "cell_type": "code",
   "execution_count": 411,
   "id": "db8d8a66",
   "metadata": {},
   "outputs": [
    {
     "data": {
      "text/html": [
       "<div>\n",
       "<style scoped>\n",
       "    .dataframe tbody tr th:only-of-type {\n",
       "        vertical-align: middle;\n",
       "    }\n",
       "\n",
       "    .dataframe tbody tr th {\n",
       "        vertical-align: top;\n",
       "    }\n",
       "\n",
       "    .dataframe thead th {\n",
       "        text-align: right;\n",
       "    }\n",
       "</style>\n",
       "<table border=\"1\" class=\"dataframe\">\n",
       "  <thead>\n",
       "    <tr style=\"text-align: right;\">\n",
       "      <th></th>\n",
       "      <th>Features</th>\n",
       "      <th>VIF</th>\n",
       "    </tr>\n",
       "  </thead>\n",
       "  <tbody>\n",
       "    <tr>\n",
       "      <th>1</th>\n",
       "      <td>last_evaluation</td>\n",
       "      <td>5.82</td>\n",
       "    </tr>\n",
       "    <tr>\n",
       "      <th>3</th>\n",
       "      <td>average_montly_hours</td>\n",
       "      <td>5.82</td>\n",
       "    </tr>\n",
       "    <tr>\n",
       "      <th>0</th>\n",
       "      <td>satisfaction_level</td>\n",
       "      <td>4.23</td>\n",
       "    </tr>\n",
       "    <tr>\n",
       "      <th>2</th>\n",
       "      <td>number_project</td>\n",
       "      <td>4.03</td>\n",
       "    </tr>\n",
       "    <tr>\n",
       "      <th>4</th>\n",
       "      <td>time_spend_company</td>\n",
       "      <td>2.37</td>\n",
       "    </tr>\n",
       "    <tr>\n",
       "      <th>6</th>\n",
       "      <td>salary</td>\n",
       "      <td>1.81</td>\n",
       "    </tr>\n",
       "    <tr>\n",
       "      <th>5</th>\n",
       "      <td>Work_accident</td>\n",
       "      <td>1.17</td>\n",
       "    </tr>\n",
       "    <tr>\n",
       "      <th>7</th>\n",
       "      <td>RandD</td>\n",
       "      <td>1.06</td>\n",
       "    </tr>\n",
       "  </tbody>\n",
       "</table>\n",
       "</div>"
      ],
      "text/plain": [
       "               Features   VIF\n",
       "1       last_evaluation  5.82\n",
       "3  average_montly_hours  5.82\n",
       "0    satisfaction_level  4.23\n",
       "2        number_project  4.03\n",
       "4    time_spend_company  2.37\n",
       "6                salary  1.81\n",
       "5         Work_accident  1.17\n",
       "7                 RandD  1.06"
      ]
     },
     "execution_count": 411,
     "metadata": {},
     "output_type": "execute_result"
    }
   ],
   "source": [
    "checkVIF(X_train_new)"
   ]
  },
  {
   "cell_type": "code",
   "execution_count": 412,
   "id": "637df0de",
   "metadata": {},
   "outputs": [],
   "source": [
    "# Creating X_test_new dataframe by dropping variables from X_test\n",
    "X_test_new = X_test[X_train_new.columns]"
   ]
  },
  {
   "cell_type": "markdown",
   "id": "d1dd5554",
   "metadata": {},
   "source": [
    "# Tree"
   ]
  },
  {
   "cell_type": "code",
   "execution_count": 33,
   "id": "70a3d370",
   "metadata": {},
   "outputs": [],
   "source": [
    "from sklearn.tree import DecisionTreeClassifier"
   ]
  },
  {
   "cell_type": "code",
   "execution_count": 37,
   "id": "acc61e6d",
   "metadata": {},
   "outputs": [],
   "source": [
    "from sklearn.metrics import accuracy_score, confusion_matrix, f1_score, precision_score, recall_score"
   ]
  },
  {
   "cell_type": "code",
   "execution_count": 268,
   "id": "d8aec377",
   "metadata": {},
   "outputs": [
    {
     "data": {
      "text/plain": [
       "array([0, 0, 0, ..., 0, 0, 1], dtype=int64)"
      ]
     },
     "execution_count": 268,
     "metadata": {},
     "output_type": "execute_result"
    }
   ],
   "source": [
    "DT = DecisionTreeClassifier()\n",
    "\n",
    "DT.fit(X_train, y_train)\n",
    "\n",
    "pred = DT.predict(X_test)\n",
    "\n",
    "pred"
   ]
  },
  {
   "cell_type": "code",
   "execution_count": 269,
   "id": "d11bd1a9",
   "metadata": {},
   "outputs": [
    {
     "data": {
      "text/plain": [
       "0.9691538140892039"
      ]
     },
     "execution_count": 269,
     "metadata": {},
     "output_type": "execute_result"
    }
   ],
   "source": [
    "acc_tree_trainTest = (y_test==pred).mean()\n",
    "acc_tree_trainTest"
   ]
  },
  {
   "cell_type": "code",
   "execution_count": 38,
   "id": "4243cd7b",
   "metadata": {},
   "outputs": [
    {
     "data": {
      "text/plain": [
       "[[1, 0.8274603836530442, 0.8411838265944144],\n",
       " [2, 0.8091117597998332, 0.8153397248853689],\n",
       " [3, 0.9500625521267723, 0.9562317632346811],\n",
       " [4, 0.9704962468723937, 0.9787411421425594],\n",
       " [5, 0.978419516263553, 0.9824927052938724],\n",
       " [6, 0.9815471226021685, 0.984160066694456],\n",
       " [7, 0.9843619683069225, 0.9849937473947478],\n",
       " [8, 0.9850917431192661, 0.9829095456440183],\n",
       " [9, 0.9865512927439533, 0.9824927052938724],\n",
       " [10, 0.9885321100917431, 0.9820758649437266],\n",
       " [11, 0.9889491242702252, 0.9799916631929971]]"
      ]
     },
     "execution_count": 38,
     "metadata": {},
     "output_type": "execute_result"
    }
   ],
   "source": [
    "max_depth = 12\n",
    "\n",
    "xx = []\n",
    "\n",
    "for i in range(1, max_depth):\n",
    "    DT = DecisionTreeClassifier(criterion='entropy',\n",
    "                               max_depth=i,\n",
    "                               min_samples_split=3,\n",
    "                               class_weight={1:0.7, 0:0.3})\n",
    "    \n",
    "    xx.append([ i, DT.fit(X_train, y_train).score(X_train, y_train), accuracy_score(y_test, DT.predict(X_test)) ]) \n",
    "    \n",
    "xx"
   ]
  },
  {
   "cell_type": "code",
   "execution_count": 39,
   "id": "abcc9e08",
   "metadata": {},
   "outputs": [
    {
     "data": {
      "text/html": [
       "<div>\n",
       "<style scoped>\n",
       "    .dataframe tbody tr th:only-of-type {\n",
       "        vertical-align: middle;\n",
       "    }\n",
       "\n",
       "    .dataframe tbody tr th {\n",
       "        vertical-align: top;\n",
       "    }\n",
       "\n",
       "    .dataframe thead th {\n",
       "        text-align: right;\n",
       "    }\n",
       "</style>\n",
       "<table border=\"1\" class=\"dataframe\">\n",
       "  <thead>\n",
       "    <tr style=\"text-align: right;\">\n",
       "      <th></th>\n",
       "      <th>Train</th>\n",
       "      <th>Test</th>\n",
       "    </tr>\n",
       "    <tr>\n",
       "      <th>Depth</th>\n",
       "      <th></th>\n",
       "      <th></th>\n",
       "    </tr>\n",
       "  </thead>\n",
       "  <tbody>\n",
       "    <tr>\n",
       "      <th>1</th>\n",
       "      <td>0.827460</td>\n",
       "      <td>0.841184</td>\n",
       "    </tr>\n",
       "    <tr>\n",
       "      <th>2</th>\n",
       "      <td>0.809112</td>\n",
       "      <td>0.815340</td>\n",
       "    </tr>\n",
       "    <tr>\n",
       "      <th>3</th>\n",
       "      <td>0.950063</td>\n",
       "      <td>0.956232</td>\n",
       "    </tr>\n",
       "    <tr>\n",
       "      <th>4</th>\n",
       "      <td>0.970496</td>\n",
       "      <td>0.978741</td>\n",
       "    </tr>\n",
       "    <tr>\n",
       "      <th>5</th>\n",
       "      <td>0.978420</td>\n",
       "      <td>0.982493</td>\n",
       "    </tr>\n",
       "    <tr>\n",
       "      <th>6</th>\n",
       "      <td>0.981547</td>\n",
       "      <td>0.984160</td>\n",
       "    </tr>\n",
       "    <tr>\n",
       "      <th>7</th>\n",
       "      <td>0.984362</td>\n",
       "      <td>0.984994</td>\n",
       "    </tr>\n",
       "    <tr>\n",
       "      <th>8</th>\n",
       "      <td>0.985092</td>\n",
       "      <td>0.982910</td>\n",
       "    </tr>\n",
       "    <tr>\n",
       "      <th>9</th>\n",
       "      <td>0.986551</td>\n",
       "      <td>0.982493</td>\n",
       "    </tr>\n",
       "    <tr>\n",
       "      <th>10</th>\n",
       "      <td>0.988532</td>\n",
       "      <td>0.982076</td>\n",
       "    </tr>\n",
       "    <tr>\n",
       "      <th>11</th>\n",
       "      <td>0.988949</td>\n",
       "      <td>0.979992</td>\n",
       "    </tr>\n",
       "  </tbody>\n",
       "</table>\n",
       "</div>"
      ],
      "text/plain": [
       "          Train      Test\n",
       "Depth                    \n",
       "1      0.827460  0.841184\n",
       "2      0.809112  0.815340\n",
       "3      0.950063  0.956232\n",
       "4      0.970496  0.978741\n",
       "5      0.978420  0.982493\n",
       "6      0.981547  0.984160\n",
       "7      0.984362  0.984994\n",
       "8      0.985092  0.982910\n",
       "9      0.986551  0.982493\n",
       "10     0.988532  0.982076\n",
       "11     0.988949  0.979992"
      ]
     },
     "execution_count": 39,
     "metadata": {},
     "output_type": "execute_result"
    }
   ],
   "source": [
    "tf = pd.DataFrame(data=xx, columns=['Depth', 'Train', 'Test'])\n",
    "tf.set_index('Depth', inplace=True)\n",
    "tf"
   ]
  },
  {
   "cell_type": "code",
   "execution_count": 40,
   "id": "2faa7e7e",
   "metadata": {},
   "outputs": [
    {
     "data": {
      "image/png": "[encoded data removed]",
      "text/plain": [
       "<Figure size 432x288 with 1 Axes>"
      ]
     },
     "metadata": {
      "needs_background": "light"
     },
     "output_type": "display_data"
    }
   ],
   "source": [
    "tf.plot(kind='line', xlabel='Max Depth of Decision Tree', ylabel = 'Accuracy');"
   ]
  },
  {
   "cell_type": "code",
   "execution_count": 41,
   "id": "d535cd82",
   "metadata": {},
   "outputs": [
    {
     "name": "stdout",
     "output_type": "stream",
     "text": [
      "accuracy is 0.9729053772405168.\n",
      "\n",
      "f1-score is 0.9154746423927178.\n",
      "recall is 0.9190600522193212.\n",
      "precision is 0.9119170984455959.\n",
      "\n",
      "confusion matrix is:\n",
      " [[1982   34]\n",
      " [  31  352]].\n"
     ]
    }
   ],
   "source": [
    "rec = recall_score(y_test, pred)\n",
    "pre = precision_score(y_test, pred)\n",
    "f1_scre = f1_score(y_test, pred)\n",
    "acc_tree = accuracy_score(y_test, pred)\n",
    "\n",
    "conf = confusion_matrix(y_test, pred)\n",
    "\n",
    "print(\"accuracy is {}.\".format(acc_tree))\n",
    "print(\"\\nf1-score is {}.\".format(f1_scre))\n",
    "print(\"recall is {}.\".format(rec))\n",
    "print(\"precision is {}.\".format(pre))\n",
    "print(\"\\nconfusion matrix is:\\n {}.\".format(conf))"
   ]
  },
  {
   "cell_type": "code",
   "execution_count": 47,
   "id": "16c9a105",
   "metadata": {},
   "outputs": [
    {
     "data": {
      "text/plain": [
       "0.0    10000\n",
       "1.0     1991\n",
       "Name: left, dtype: int64"
      ]
     },
     "execution_count": 47,
     "metadata": {},
     "output_type": "execute_result"
    }
   ],
   "source": [
    "df.left.value_counts()"
   ]
  },
  {
   "cell_type": "code",
   "execution_count": 48,
   "id": "51b20a25",
   "metadata": {},
   "outputs": [],
   "source": [
    "from sklearn.tree import plot_tree"
   ]
  },
  {
   "cell_type": "code",
   "execution_count": 49,
   "id": "cb122018",
   "metadata": {
    "collapsed": true
   },
   "outputs": [
    {
     "data": {
      "image/png": "[encoded data removed]",
      "text/plain": [
       "<Figure size 1296x1080 with 1 Axes>"
      ]
     },
     "metadata": {
      "needs_background": "light"
     },
     "output_type": "display_data"
    }
   ],
   "source": [
    "plt.figure(figsize=(18, 15))\n",
    "plot_tree(DT, feature_names=df.columns, filled=True);"
   ]
  },
  {
   "cell_type": "code",
   "execution_count": 50,
   "id": "07f63cee",
   "metadata": {},
   "outputs": [],
   "source": [
    "from sklearn.model_selection import GridSearchCV"
   ]
  },
  {
   "cell_type": "code",
   "execution_count": 51,
   "id": "de7c892e",
   "metadata": {},
   "outputs": [
    {
     "data": {
      "text/plain": [
       "GridSearchCV(cv=10, estimator=DecisionTreeClassifier(),\n",
       "             param_grid={'class_weight': ['balanced', {0: 0.4, 1: 0.6}],\n",
       "                         'criterion': ['gini', 'entropy'],\n",
       "                         'max_depth': [3, 4, 5, 6, 7, 8, 12],\n",
       "                         'min_samples_leaf': [1, 2, 3, 4, 5],\n",
       "                         'min_samples_split': [2, 3, 4, 5, 6]},\n",
       "             scoring='accuracy')"
      ]
     },
     "execution_count": 51,
     "metadata": {},
     "output_type": "execute_result"
    }
   ],
   "source": [
    "DT = DecisionTreeClassifier()\n",
    "\n",
    "param = {'criterion':['gini', 'entropy'],\n",
    "        'max_depth':[3, 4, 5, 6, 7, 8, 12],\n",
    "        'min_samples_split':[2, 3, 4, 5, 6],\n",
    "        'min_samples_leaf':[1, 2, 3, 4, 5],\n",
    "        'class_weight':['balanced', {0:0.4, 1:0.6}]}\n",
    "\n",
    "GS = GridSearchCV(DT, param, cv=10, scoring='accuracy')\n",
    "\n",
    "GS.fit(X, y)"
   ]
  },
  {
   "cell_type": "code",
   "execution_count": 52,
   "id": "3c86556e",
   "metadata": {},
   "outputs": [
    {
     "data": {
      "text/plain": [
       "{'class_weight': {0: 0.4, 1: 0.6},\n",
       " 'criterion': 'gini',\n",
       " 'max_depth': 6,\n",
       " 'min_samples_leaf': 1,\n",
       " 'min_samples_split': 2}"
      ]
     },
     "execution_count": 52,
     "metadata": {},
     "output_type": "execute_result"
    }
   ],
   "source": [
    "GS.best_params_"
   ]
  },
  {
   "cell_type": "code",
   "execution_count": 53,
   "id": "4825616e",
   "metadata": {},
   "outputs": [
    {
     "data": {
      "text/plain": [
       "0.982986864053378"
      ]
     },
     "execution_count": 53,
     "metadata": {},
     "output_type": "execute_result"
    }
   ],
   "source": [
    "GS.best_score_"
   ]
  },
  {
   "cell_type": "code",
   "execution_count": 54,
   "id": "b0655a95",
   "metadata": {},
   "outputs": [],
   "source": [
    "from sklearn.model_selection import cross_val_predict, cross_val_score"
   ]
  },
  {
   "cell_type": "code",
   "execution_count": 55,
   "id": "04ce2fc5",
   "metadata": {},
   "outputs": [
    {
     "data": {
      "text/plain": [
       "0.982986864053378"
      ]
     },
     "execution_count": 55,
     "metadata": {},
     "output_type": "execute_result"
    }
   ],
   "source": [
    "DT = DecisionTreeClassifier( class_weight = {0: 0.4, 1: 0.6},\n",
    "                             criterion = 'gini',\n",
    "                             max_depth = 6,\n",
    "                             min_samples_leaf = 1,\n",
    "                             min_samples_split = 2)\n",
    "\n",
    "acc = cross_val_score(DT, X, y, cv=10, scoring='accuracy')\n",
    "acc_tree = acc.mean()\n",
    "acc_tree"
   ]
  },
  {
   "cell_type": "code",
   "execution_count": 56,
   "id": "39475fa5",
   "metadata": {},
   "outputs": [
    {
     "data": {
      "text/plain": [
       "0.9827370527895922"
      ]
     },
     "execution_count": 56,
     "metadata": {},
     "output_type": "execute_result"
    }
   ],
   "source": [
    "pred = cross_val_predict(DT, X, y, cv=10)\n",
    "\n",
    "accuracy_score(y, pred)"
   ]
  },
  {
   "cell_type": "code",
   "execution_count": 57,
   "id": "3a614f1f",
   "metadata": {},
   "outputs": [
    {
     "data": {
      "text/plain": [
       "0.9849937473947478"
      ]
     },
     "execution_count": 57,
     "metadata": {},
     "output_type": "execute_result"
    }
   ],
   "source": [
    "DT = DecisionTreeClassifier( class_weight = {0: 0.4, 1: 0.6},\n",
    "                             criterion = 'gini',\n",
    "                             max_depth = 6,\n",
    "                             min_samples_leaf = 1,\n",
    "                             min_samples_split = 2)\n",
    "\n",
    "DT.fit(X_train, y_train)\n",
    "\n",
    "pred = DT.predict(X_test)\n",
    "\n",
    "(pred==y_test).mean()"
   ]
  },
  {
   "cell_type": "code",
   "execution_count": 58,
   "id": "6bc5f3f9",
   "metadata": {},
   "outputs": [],
   "source": [
    "from mlxtend.feature_selection import SequentialFeatureSelector as SFS"
   ]
  },
  {
   "cell_type": "code",
   "execution_count": 59,
   "id": "7bf2e67b",
   "metadata": {},
   "outputs": [],
   "source": [
    "from mlxtend.feature_selection import ExhaustiveFeatureSelector as EFS"
   ]
  },
  {
   "cell_type": "code",
   "execution_count": 60,
   "id": "079c6fa1",
   "metadata": {
    "collapsed": true
   },
   "outputs": [
    {
     "name": "stderr",
     "output_type": "stream",
     "text": [
      "[Parallel(n_jobs=-1)]: Using backend LokyBackend with 12 concurrent workers.\n",
      "[Parallel(n_jobs=-1)]: Done   3 out of  17 | elapsed:    2.5s remaining:   12.1s\n",
      "[Parallel(n_jobs=-1)]: Done  12 out of  17 | elapsed:    2.6s remaining:    1.0s\n",
      "[Parallel(n_jobs=-1)]: Done  17 out of  17 | elapsed:    2.6s finished\n",
      "\n",
      "[2022-02-02 04:38:26] Features: 1/13 -- score: 0.9104462051709759[Parallel(n_jobs=-1)]: Using backend LokyBackend with 12 concurrent workers.\n",
      "[Parallel(n_jobs=-1)]: Done   2 out of  16 | elapsed:    0.0s remaining:    0.2s\n",
      "[Parallel(n_jobs=-1)]: Done  11 out of  16 | elapsed:    0.0s remaining:    0.0s\n",
      "[Parallel(n_jobs=-1)]: Done  16 out of  16 | elapsed:    0.0s finished\n",
      "\n",
      "[2022-02-02 04:38:26] Features: 2/13 -- score: 0.9475604670558798[Parallel(n_jobs=-1)]: Using backend LokyBackend with 12 concurrent workers.\n",
      "[Parallel(n_jobs=-1)]: Done   8 out of  15 | elapsed:    0.0s remaining:    0.0s\n",
      "[Parallel(n_jobs=-1)]: Done  15 out of  15 | elapsed:    0.0s finished\n",
      "\n",
      "[2022-02-02 04:38:26] Features: 3/13 -- score: 0.9675771476230193[Parallel(n_jobs=-1)]: Using backend LokyBackend with 12 concurrent workers.\n",
      "[Parallel(n_jobs=-1)]: Done   7 out of  14 | elapsed:    0.0s remaining:    0.0s\n",
      "[Parallel(n_jobs=-1)]: Done  14 out of  14 | elapsed:    0.0s finished\n",
      "\n",
      "[2022-02-02 04:38:26] Features: 4/13 -- score: 0.9686196830692243[Parallel(n_jobs=-1)]: Using backend LokyBackend with 12 concurrent workers.\n",
      "[Parallel(n_jobs=-1)]: Done   4 out of  13 | elapsed:    0.0s remaining:    0.0s\n",
      "[Parallel(n_jobs=-1)]: Done  11 out of  13 | elapsed:    0.0s remaining:    0.0s\n",
      "[Parallel(n_jobs=-1)]: Done  13 out of  13 | elapsed:    0.0s finished\n",
      "\n",
      "[2022-02-02 04:38:26] Features: 5/13 -- score: 0.9711217681401167[Parallel(n_jobs=-1)]: Using backend LokyBackend with 12 concurrent workers.\n",
      "[Parallel(n_jobs=-1)]: Done   3 out of  12 | elapsed:    0.0s remaining:    0.1s\n",
      "[Parallel(n_jobs=-1)]: Done  10 out of  12 | elapsed:    0.0s remaining:    0.0s\n",
      "[Parallel(n_jobs=-1)]: Done  12 out of  12 | elapsed:    0.0s finished\n",
      "\n",
      "[2022-02-02 04:38:26] Features: 6/13 -- score: 0.9711217681401167[Parallel(n_jobs=-1)]: Using backend LokyBackend with 12 concurrent workers.\n",
      "[Parallel(n_jobs=-1)]: Done   6 out of  11 | elapsed:    0.0s remaining:    0.0s\n",
      "[Parallel(n_jobs=-1)]: Done  11 out of  11 | elapsed:    0.0s finished\n",
      "\n",
      "[2022-02-02 04:38:26] Features: 7/13 -- score: 0.9711217681401167[Parallel(n_jobs=-1)]: Using backend LokyBackend with 12 concurrent workers.\n",
      "[Parallel(n_jobs=-1)]: Done   5 out of  10 | elapsed:    0.0s remaining:    0.0s\n",
      "[Parallel(n_jobs=-1)]: Done  10 out of  10 | elapsed:    0.0s finished\n",
      "\n",
      "[2022-02-02 04:38:26] Features: 8/13 -- score: 0.9711217681401167[Parallel(n_jobs=-1)]: Using backend LokyBackend with 12 concurrent workers.\n",
      "[Parallel(n_jobs=-1)]: Done   6 out of   9 | elapsed:    0.0s remaining:    0.0s\n",
      "[Parallel(n_jobs=-1)]: Done   9 out of   9 | elapsed:    0.0s finished\n",
      "\n",
      "[2022-02-02 04:38:26] Features: 9/13 -- score: 0.9711217681401167[Parallel(n_jobs=-1)]: Using backend LokyBackend with 12 concurrent workers.\n",
      "[Parallel(n_jobs=-1)]: Done   5 out of   8 | elapsed:    0.0s remaining:    0.0s\n",
      "[Parallel(n_jobs=-1)]: Done   8 out of   8 | elapsed:    0.0s finished\n",
      "\n",
      "[2022-02-02 04:38:27] Features: 10/13 -- score: 0.9711217681401167[Parallel(n_jobs=-1)]: Using backend LokyBackend with 12 concurrent workers.\n",
      "[Parallel(n_jobs=-1)]: Done   4 out of   7 | elapsed:    0.0s remaining:    0.0s\n",
      "[Parallel(n_jobs=-1)]: Done   7 out of   7 | elapsed:    0.0s finished\n",
      "\n",
      "[2022-02-02 04:38:27] Features: 11/13 -- score: 0.9711217681401167[Parallel(n_jobs=-1)]: Using backend LokyBackend with 12 concurrent workers.\n",
      "[Parallel(n_jobs=-1)]: Done   3 out of   6 | elapsed:    0.0s remaining:    0.0s\n",
      "[Parallel(n_jobs=-1)]: Done   6 out of   6 | elapsed:    0.0s finished\n"
     ]
    },
    {
     "name": "stdout",
     "output_type": "stream",
     "text": [
      "0.9711217681401167\n",
      "('satisfaction_level', 'last_evaluation', 'number_project', 'average_montly_hours', 'time_spend_company')\n"
     ]
    },
    {
     "name": "stderr",
     "output_type": "stream",
     "text": [
      "\n",
      "[2022-02-02 04:38:27] Features: 12/13 -- score: 0.9711217681401167[Parallel(n_jobs=-1)]: Using backend LokyBackend with 12 concurrent workers.\n",
      "[Parallel(n_jobs=-1)]: Done   3 out of   5 | elapsed:    0.0s remaining:    0.0s\n",
      "[Parallel(n_jobs=-1)]: Done   5 out of   5 | elapsed:    0.0s finished\n",
      "\n",
      "[2022-02-02 04:38:27] Features: 13/13 -- score: 0.9711217681401167"
     ]
    }
   ],
   "source": [
    "# sfs = SFS(DecisionTreeClassifier(class_weight = 'balanced',\n",
    "#                                  criterion = 'entropy', max_depth = 5, min_samples_leaf = 5, min_samples_split = 2),\n",
    "#          k_features = (1, 13),\n",
    "#           forward= True,\n",
    "#           floating = False,\n",
    "#           verbose= 2,\n",
    "#           scoring= 'accuracy',\n",
    "#           cv = 4,\n",
    "#           n_jobs= -1\n",
    "#          ).fit(X_train, y_train)\n",
    "\n",
    "# print(sfs.k_score_)\n",
    "# print(sfs.k_feature_names_)"
   ]
  },
  {
   "cell_type": "code",
   "execution_count": 61,
   "id": "3ab67cee",
   "metadata": {},
   "outputs": [
    {
     "name": "stdout",
     "output_type": "stream",
     "text": [
      "0.9711217681401167\n",
      "['satisfaction_level', 'last_evaluation', 'number_project', 'average_montly_hours', 'time_spend_company']\n",
      "5\n"
     ]
    }
   ],
   "source": [
    "SFS_Tree_score = sfs.k_score_\n",
    "SFS_Tree_feature_names = list(sfs.k_feature_names_)\n",
    "SFS_Tree_features_num = len(sfs.k_feature_idx_)\n",
    "print(SFS_Tree_score)\n",
    "print(SFS_Tree_feature_names)\n",
    "print(SFS_Tree_features_num)"
   ]
  },
  {
   "cell_type": "code",
   "execution_count": 63,
   "id": "94120890",
   "metadata": {
    "collapsed": true
   },
   "outputs": [
    {
     "name": "stderr",
     "output_type": "stream",
     "text": [
      "[Parallel(n_jobs=-1)]: Using backend LokyBackend with 12 concurrent workers.\n",
      "[Parallel(n_jobs=-1)]: Done   3 out of  17 | elapsed:    0.0s remaining:    0.3s\n",
      "[Parallel(n_jobs=-1)]: Done  12 out of  17 | elapsed:    0.0s remaining:    0.0s\n",
      "[Parallel(n_jobs=-1)]: Done  17 out of  17 | elapsed:    0.1s finished\n",
      "\n",
      "[2022-02-02 04:39:32] Features: 16/1 -- score: 0.9711217681401167[Parallel(n_jobs=-1)]: Using backend LokyBackend with 12 concurrent workers.\n",
      "[Parallel(n_jobs=-1)]: Done   2 out of  16 | elapsed:    0.0s remaining:    0.5s\n",
      "[Parallel(n_jobs=-1)]: Done  11 out of  16 | elapsed:    0.0s remaining:    0.0s\n",
      "[Parallel(n_jobs=-1)]: Done  16 out of  16 | elapsed:    0.1s finished\n",
      "\n",
      "[2022-02-02 04:39:32] Features: 15/1 -- score: 0.9712260216847373[Parallel(n_jobs=-1)]: Using backend LokyBackend with 12 concurrent workers.\n",
      "[Parallel(n_jobs=-1)]: Done   8 out of  15 | elapsed:    0.0s remaining:    0.0s\n",
      "[Parallel(n_jobs=-1)]: Done  15 out of  15 | elapsed:    0.0s finished\n",
      "\n",
      "[2022-02-02 04:39:32] Features: 14/1 -- score: 0.9721643035863219[Parallel(n_jobs=-1)]: Using backend LokyBackend with 12 concurrent workers.\n",
      "[Parallel(n_jobs=-1)]: Done   7 out of  14 | elapsed:    0.0s remaining:    0.0s\n",
      "[Parallel(n_jobs=-1)]: Done  14 out of  14 | elapsed:    0.0s finished\n",
      "\n",
      "[2022-02-02 04:39:32] Features: 13/1 -- score: 0.9721643035863219[Parallel(n_jobs=-1)]: Using backend LokyBackend with 12 concurrent workers.\n",
      "[Parallel(n_jobs=-1)]: Done   4 out of  13 | elapsed:    0.0s remaining:    0.1s\n",
      "[Parallel(n_jobs=-1)]: Done  11 out of  13 | elapsed:    0.0s remaining:    0.0s\n",
      "[Parallel(n_jobs=-1)]: Done  13 out of  13 | elapsed:    0.0s finished\n",
      "\n",
      "[2022-02-02 04:39:32] Features: 12/1 -- score: 0.9721643035863219[Parallel(n_jobs=-1)]: Using backend LokyBackend with 12 concurrent workers.\n",
      "[Parallel(n_jobs=-1)]: Done   3 out of  12 | elapsed:    0.0s remaining:    0.1s\n",
      "[Parallel(n_jobs=-1)]: Done  10 out of  12 | elapsed:    0.0s remaining:    0.0s\n",
      "[Parallel(n_jobs=-1)]: Done  12 out of  12 | elapsed:    0.0s finished\n",
      "\n",
      "[2022-02-02 04:39:33] Features: 11/1 -- score: 0.9721643035863219[Parallel(n_jobs=-1)]: Using backend LokyBackend with 12 concurrent workers.\n",
      "[Parallel(n_jobs=-1)]: Done   6 out of  11 | elapsed:    0.0s remaining:    0.0s\n",
      "[Parallel(n_jobs=-1)]: Done  11 out of  11 | elapsed:    0.0s finished\n",
      "\n",
      "[2022-02-02 04:39:33] Features: 10/1 -- score: 0.9721643035863219[Parallel(n_jobs=-1)]: Using backend LokyBackend with 12 concurrent workers.\n",
      "[Parallel(n_jobs=-1)]: Done   5 out of  10 | elapsed:    0.0s remaining:    0.0s\n",
      "[Parallel(n_jobs=-1)]: Done  10 out of  10 | elapsed:    0.0s finished\n",
      "\n",
      "[2022-02-02 04:39:33] Features: 9/1 -- score: 0.9721643035863219[Parallel(n_jobs=-1)]: Using backend LokyBackend with 12 concurrent workers.\n",
      "[Parallel(n_jobs=-1)]: Done   6 out of   9 | elapsed:    0.0s remaining:    0.0s\n",
      "[Parallel(n_jobs=-1)]: Done   9 out of   9 | elapsed:    0.0s finished\n",
      "\n",
      "[2022-02-02 04:39:33] Features: 8/1 -- score: 0.9721643035863219[Parallel(n_jobs=-1)]: Using backend LokyBackend with 12 concurrent workers.\n",
      "[Parallel(n_jobs=-1)]: Done   5 out of   8 | elapsed:    0.0s remaining:    0.0s\n",
      "[Parallel(n_jobs=-1)]: Done   8 out of   8 | elapsed:    0.0s finished\n",
      "\n",
      "[2022-02-02 04:39:33] Features: 7/1 -- score: 0.9721643035863219[Parallel(n_jobs=-1)]: Using backend LokyBackend with 12 concurrent workers.\n",
      "[Parallel(n_jobs=-1)]: Done   4 out of   7 | elapsed:    0.0s remaining:    0.0s\n",
      "[Parallel(n_jobs=-1)]: Done   7 out of   7 | elapsed:    0.0s finished\n",
      "\n",
      "[2022-02-02 04:39:33] Features: 6/1 -- score: 0.9721643035863219[Parallel(n_jobs=-1)]: Using backend LokyBackend with 12 concurrent workers.\n",
      "[Parallel(n_jobs=-1)]: Done   3 out of   6 | elapsed:    0.0s remaining:    0.0s\n",
      "[Parallel(n_jobs=-1)]: Done   6 out of   6 | elapsed:    0.0s finished\n",
      "\n",
      "[2022-02-02 04:39:33] Features: 5/1 -- score: 0.9721643035863219[Parallel(n_jobs=-1)]: Using backend LokyBackend with 12 concurrent workers.\n",
      "[Parallel(n_jobs=-1)]: Done   3 out of   5 | elapsed:    0.0s remaining:    0.0s\n",
      "[Parallel(n_jobs=-1)]: Done   5 out of   5 | elapsed:    0.0s finished\n",
      "\n",
      "[2022-02-02 04:39:33] Features: 4/1 -- score: 0.9721643035863219[Parallel(n_jobs=-1)]: Using backend LokyBackend with 12 concurrent workers.\n",
      "[Parallel(n_jobs=-1)]: Done   2 out of   4 | elapsed:    0.0s remaining:    0.0s\n",
      "[Parallel(n_jobs=-1)]: Done   4 out of   4 | elapsed:    0.0s finished\n",
      "\n",
      "[2022-02-02 04:39:33] Features: 3/1 -- score: 0.9618432026688908[Parallel(n_jobs=-1)]: Using backend LokyBackend with 12 concurrent workers.\n",
      "[Parallel(n_jobs=-1)]: Done   3 out of   3 | elapsed:    0.0s finished\n",
      "\n",
      "[2022-02-02 04:39:33] Features: 2/1 -- score: 0.9475604670558798[Parallel(n_jobs=-1)]: Using backend LokyBackend with 12 concurrent workers.\n"
     ]
    },
    {
     "name": "stdout",
     "output_type": "stream",
     "text": [
      "0.9721643035863219\n",
      "('satisfaction_level', 'number_project', 'average_montly_hours', 'time_spend_company', 'Work_accident', 'promotion_last_5years', 'RandD', 'accounting', 'hr', 'management', 'marketing', 'product_mng', 'sales')\n"
     ]
    },
    {
     "name": "stderr",
     "output_type": "stream",
     "text": [
      "[Parallel(n_jobs=-1)]: Done   2 out of   2 | elapsed:    0.0s finished\n",
      "\n",
      "[2022-02-02 04:39:33] Features: 1/1 -- score: 0.9104462051709759"
     ]
    }
   ],
   "source": [
    "# sbs = SFS(DecisionTreeClassifier(class_weight = 'balanced',\n",
    "#                                  criterion = 'entropy', max_depth = 5, min_samples_leaf = 5, min_samples_split = 2),\n",
    "#          k_features = (1, 13),\n",
    "#           forward= False,\n",
    "#           floating = False,\n",
    "#           verbose= 2,\n",
    "#           scoring= 'accuracy',\n",
    "#           cv = 4,\n",
    "#           n_jobs= -1\n",
    "#          ).fit(X_train, y_train)\n",
    "\n",
    "# print(sbs.k_score_)\n",
    "# print(sbs.k_feature_names_)"
   ]
  },
  {
   "cell_type": "code",
   "execution_count": 64,
   "id": "08e30c29",
   "metadata": {},
   "outputs": [
    {
     "name": "stdout",
     "output_type": "stream",
     "text": [
      "0.9721643035863219\n",
      "['satisfaction_level', 'number_project', 'average_montly_hours', 'time_spend_company', 'Work_accident', 'promotion_last_5years', 'RandD', 'accounting', 'hr', 'management', 'marketing', 'product_mng', 'sales']\n",
      "13\n"
     ]
    }
   ],
   "source": [
    "SBS_Tree_score = sbs.k_score_\n",
    "SBS_Tree_feature_names = list(sbs.k_feature_names_)\n",
    "SBS_Tree_features_num = len(sbs.k_feature_idx_)\n",
    "print(SBS_Tree_score)\n",
    "print(SBS_Tree_feature_names)\n",
    "print(SBS_Tree_features_num)"
   ]
  },
  {
   "cell_type": "code",
   "execution_count": 65,
   "id": "a2ebc97f",
   "metadata": {
    "collapsed": true
   },
   "outputs": [
    {
     "name": "stderr",
     "output_type": "stream",
     "text": [
      "Features: 3000/109140IOPub message rate exceeded.\n",
      "The notebook server will temporarily stop sending output\n",
      "to the client in order to avoid crashing it.\n",
      "To change this limit, set the config variable\n",
      "`--NotebookApp.iopub_msg_rate_limit`.\n",
      "\n",
      "Current values:\n",
      "NotebookApp.iopub_msg_rate_limit=1000.0 (msgs/sec)\n",
      "NotebookApp.rate_limit_window=3.0 (secs)\n",
      "\n",
      "Features: 8393/109140IOPub message rate exceeded.\n",
      "The notebook server will temporarily stop sending output\n",
      "to the client in order to avoid crashing it.\n",
      "To change this limit, set the config variable\n",
      "`--NotebookApp.iopub_msg_rate_limit`.\n",
      "\n",
      "Current values:\n",
      "NotebookApp.iopub_msg_rate_limit=1000.0 (msgs/sec)\n",
      "NotebookApp.rate_limit_window=3.0 (secs)\n",
      "\n",
      "Features: 13763/109140IOPub message rate exceeded.\n",
      "The notebook server will temporarily stop sending output\n",
      "to the client in order to avoid crashing it.\n",
      "To change this limit, set the config variable\n",
      "`--NotebookApp.iopub_msg_rate_limit`.\n",
      "\n",
      "Current values:\n",
      "NotebookApp.iopub_msg_rate_limit=1000.0 (msgs/sec)\n",
      "NotebookApp.rate_limit_window=3.0 (secs)\n",
      "\n",
      "Features: 19522/109140IOPub message rate exceeded.\n",
      "The notebook server will temporarily stop sending output\n",
      "to the client in order to avoid crashing it.\n",
      "To change this limit, set the config variable\n",
      "`--NotebookApp.iopub_msg_rate_limit`.\n",
      "\n",
      "Current values:\n",
      "NotebookApp.iopub_msg_rate_limit=1000.0 (msgs/sec)\n",
      "NotebookApp.rate_limit_window=3.0 (secs)\n",
      "\n",
      "Features: 27913/109140IOPub message rate exceeded.\n",
      "The notebook server will temporarily stop sending output\n",
      "to the client in order to avoid crashing it.\n",
      "To change this limit, set the config variable\n",
      "`--NotebookApp.iopub_msg_rate_limit`.\n",
      "\n",
      "Current values:\n",
      "NotebookApp.iopub_msg_rate_limit=1000.0 (msgs/sec)\n",
      "NotebookApp.rate_limit_window=3.0 (secs)\n",
      "\n",
      "Features: 33321/109140IOPub message rate exceeded.\n",
      "The notebook server will temporarily stop sending output\n",
      "to the client in order to avoid crashing it.\n",
      "To change this limit, set the config variable\n",
      "`--NotebookApp.iopub_msg_rate_limit`.\n",
      "\n",
      "Current values:\n",
      "NotebookApp.iopub_msg_rate_limit=1000.0 (msgs/sec)\n",
      "NotebookApp.rate_limit_window=3.0 (secs)\n",
      "\n",
      "Features: 40628/109140IOPub message rate exceeded.\n",
      "The notebook server will temporarily stop sending output\n",
      "to the client in order to avoid crashing it.\n",
      "To change this limit, set the config variable\n",
      "`--NotebookApp.iopub_msg_rate_limit`.\n",
      "\n",
      "Current values:\n",
      "NotebookApp.iopub_msg_rate_limit=1000.0 (msgs/sec)\n",
      "NotebookApp.rate_limit_window=3.0 (secs)\n",
      "\n",
      "Features: 47739/109140IOPub message rate exceeded.\n",
      "The notebook server will temporarily stop sending output\n",
      "to the client in order to avoid crashing it.\n",
      "To change this limit, set the config variable\n",
      "`--NotebookApp.iopub_msg_rate_limit`.\n",
      "\n",
      "Current values:\n",
      "NotebookApp.iopub_msg_rate_limit=1000.0 (msgs/sec)\n",
      "NotebookApp.rate_limit_window=3.0 (secs)\n",
      "\n",
      "Features: 53191/109140IOPub message rate exceeded.\n",
      "The notebook server will temporarily stop sending output\n",
      "to the client in order to avoid crashing it.\n",
      "To change this limit, set the config variable\n",
      "`--NotebookApp.iopub_msg_rate_limit`.\n",
      "\n",
      "Current values:\n",
      "NotebookApp.iopub_msg_rate_limit=1000.0 (msgs/sec)\n",
      "NotebookApp.rate_limit_window=3.0 (secs)\n",
      "\n",
      "Features: 61338/109140IOPub message rate exceeded.\n",
      "The notebook server will temporarily stop sending output\n",
      "to the client in order to avoid crashing it.\n",
      "To change this limit, set the config variable\n",
      "`--NotebookApp.iopub_msg_rate_limit`.\n",
      "\n",
      "Current values:\n",
      "NotebookApp.iopub_msg_rate_limit=1000.0 (msgs/sec)\n",
      "NotebookApp.rate_limit_window=3.0 (secs)\n",
      "\n",
      "Features: 69959/109140IOPub message rate exceeded.\n",
      "The notebook server will temporarily stop sending output\n",
      "to the client in order to avoid crashing it.\n",
      "To change this limit, set the config variable\n",
      "`--NotebookApp.iopub_msg_rate_limit`.\n",
      "\n",
      "Current values:\n",
      "NotebookApp.iopub_msg_rate_limit=1000.0 (msgs/sec)\n",
      "NotebookApp.rate_limit_window=3.0 (secs)\n",
      "\n",
      "Features: 77551/109140IOPub message rate exceeded.\n",
      "The notebook server will temporarily stop sending output\n",
      "to the client in order to avoid crashing it.\n",
      "To change this limit, set the config variable\n",
      "`--NotebookApp.iopub_msg_rate_limit`.\n",
      "\n",
      "Current values:\n",
      "NotebookApp.iopub_msg_rate_limit=1000.0 (msgs/sec)\n",
      "NotebookApp.rate_limit_window=3.0 (secs)\n",
      "\n",
      "Features: 86536/109140IOPub message rate exceeded.\n",
      "The notebook server will temporarily stop sending output\n",
      "to the client in order to avoid crashing it.\n",
      "To change this limit, set the config variable\n",
      "`--NotebookApp.iopub_msg_rate_limit`.\n",
      "\n",
      "Current values:\n",
      "NotebookApp.iopub_msg_rate_limit=1000.0 (msgs/sec)\n",
      "NotebookApp.rate_limit_window=3.0 (secs)\n",
      "\n",
      "Features: 94660/109140IOPub message rate exceeded.\n",
      "The notebook server will temporarily stop sending output\n",
      "to the client in order to avoid crashing it.\n",
      "To change this limit, set the config variable\n",
      "`--NotebookApp.iopub_msg_rate_limit`.\n",
      "\n",
      "Current values:\n",
      "NotebookApp.iopub_msg_rate_limit=1000.0 (msgs/sec)\n",
      "NotebookApp.rate_limit_window=3.0 (secs)\n",
      "\n",
      "Features: 103172/109140IOPub message rate exceeded.\n",
      "The notebook server will temporarily stop sending output\n",
      "to the client in order to avoid crashing it.\n",
      "To change this limit, set the config variable\n",
      "`--NotebookApp.iopub_msg_rate_limit`.\n",
      "\n",
      "Current values:\n",
      "NotebookApp.iopub_msg_rate_limit=1000.0 (msgs/sec)\n",
      "NotebookApp.rate_limit_window=3.0 (secs)\n",
      "\n",
      "Features: 109140/109140"
     ]
    }
   ],
   "source": [
    "# efs = EFS(DecisionTreeClassifier(class_weight = 'balanced',\n",
    "#                                  criterion = 'entropy', max_depth = 5, min_samples_leaf = 5, min_samples_split = 2),\n",
    "#          min_features = 3,\n",
    "#           max_features=10,\n",
    "#           scoring= 'accuracy',\n",
    "#           cv = None,\n",
    "#           n_jobs= -1\n",
    "#          ).fit(X_train, y_train)"
   ]
  },
  {
   "cell_type": "code",
   "execution_count": 66,
   "id": "bdd65472",
   "metadata": {},
   "outputs": [
    {
     "name": "stdout",
     "output_type": "stream",
     "text": [
      "0.9776897414512093\n",
      "['satisfaction_level', 'last_evaluation', 'number_project', 'average_montly_hours', 'time_spend_company']\n",
      "5\n"
     ]
    }
   ],
   "source": [
    "EFS_Tree_score = efs.best_score_\n",
    "EFS_Tree_feature_names = list(efs.best_feature_names_)\n",
    "EFS_Tree_features_num = len(efs.best_idx_)\n",
    "print(EFS_Tree_score)\n",
    "print(EFS_Tree_feature_names)\n",
    "print(EFS_Tree_features_num)"
   ]
  },
  {
   "cell_type": "code",
   "execution_count": 98,
   "id": "de8637de",
   "metadata": {},
   "outputs": [
    {
     "name": "stdout",
     "output_type": "stream",
     "text": [
      "(9592, 17)\n",
      "(9592, 8)\n"
     ]
    }
   ],
   "source": [
    "print(X_train.shape)\n",
    "print(X_train_new.shape)"
   ]
  },
  {
   "cell_type": "code",
   "execution_count": 261,
   "id": "35ac9ebc",
   "metadata": {},
   "outputs": [
    {
     "name": "stdout",
     "output_type": "stream",
     "text": [
      "(2399, 17)\n",
      "(2399, 8)\n"
     ]
    }
   ],
   "source": [
    "print(X_test.shape)\n",
    "print(X_test_new.shape)"
   ]
  },
  {
   "cell_type": "code",
   "execution_count": 263,
   "id": "03e12811",
   "metadata": {},
   "outputs": [
    {
     "data": {
      "text/plain": [
       "array([0, 0, 0, ..., 0, 0, 0], dtype=int64)"
      ]
     },
     "execution_count": 263,
     "metadata": {},
     "output_type": "execute_result"
    }
   ],
   "source": [
    "DT = DecisionTreeClassifier()\n",
    "\n",
    "DT.fit(X_train_new, y_train)\n",
    "\n",
    "pred = DT.predict(X_test_new)\n",
    "\n",
    "pred"
   ]
  },
  {
   "cell_type": "code",
   "execution_count": 265,
   "id": "df0c4999",
   "metadata": {},
   "outputs": [
    {
     "data": {
      "text/plain": [
       "0.972488536890371"
      ]
     },
     "execution_count": 265,
     "metadata": {},
     "output_type": "execute_result"
    }
   ],
   "source": [
    "acc_tree_VIF = (y_test==pred).mean()\n",
    "acc_tree_VIF"
   ]
  },
  {
   "cell_type": "code",
   "execution_count": 414,
   "id": "0f07381b",
   "metadata": {},
   "outputs": [
    {
     "data": {
      "text/plain": [
       "(9592, 8)"
      ]
     },
     "execution_count": 414,
     "metadata": {},
     "output_type": "execute_result"
    }
   ],
   "source": [
    "X_train_new.shape"
   ]
  },
  {
   "cell_type": "code",
   "execution_count": 415,
   "id": "4f1fbac2",
   "metadata": {
    "collapsed": true
   },
   "outputs": [
    {
     "name": "stderr",
     "output_type": "stream",
     "text": [
      "[Parallel(n_jobs=-1)]: Using backend LokyBackend with 12 concurrent workers.\n",
      "[Parallel(n_jobs=-1)]: Done   3 out of  17 | elapsed:    0.0s remaining:    0.3s\n",
      "[Parallel(n_jobs=-1)]: Done  12 out of  17 | elapsed:    0.0s remaining:    0.0s\n",
      "[Parallel(n_jobs=-1)]: Done  17 out of  17 | elapsed:    0.0s finished\n",
      "\n",
      "[2022-02-02 07:53:19] Features: 1/8 -- score: 0.9104462051709759[Parallel(n_jobs=-1)]: Using backend LokyBackend with 12 concurrent workers.\n",
      "[Parallel(n_jobs=-1)]: Done   2 out of  16 | elapsed:    0.0s remaining:    0.2s\n",
      "[Parallel(n_jobs=-1)]: Done  11 out of  16 | elapsed:    0.0s remaining:    0.0s\n",
      "[Parallel(n_jobs=-1)]: Done  16 out of  16 | elapsed:    0.0s finished\n",
      "\n",
      "[2022-02-02 07:53:19] Features: 2/8 -- score: 0.9475604670558798[Parallel(n_jobs=-1)]: Using backend LokyBackend with 12 concurrent workers.\n",
      "[Parallel(n_jobs=-1)]: Done   8 out of  15 | elapsed:    0.0s remaining:    0.0s\n",
      "[Parallel(n_jobs=-1)]: Done  15 out of  15 | elapsed:    0.0s finished\n",
      "\n",
      "[2022-02-02 07:53:19] Features: 3/8 -- score: 0.9675771476230193[Parallel(n_jobs=-1)]: Using backend LokyBackend with 12 concurrent workers.\n",
      "[Parallel(n_jobs=-1)]: Done   7 out of  14 | elapsed:    0.0s remaining:    0.0s\n",
      "[Parallel(n_jobs=-1)]: Done  14 out of  14 | elapsed:    0.0s finished\n",
      "\n",
      "[2022-02-02 07:53:20] Features: 4/8 -- score: 0.9686196830692243[Parallel(n_jobs=-1)]: Using backend LokyBackend with 12 concurrent workers.\n",
      "[Parallel(n_jobs=-1)]: Done   4 out of  13 | elapsed:    0.0s remaining:    0.0s\n",
      "[Parallel(n_jobs=-1)]: Done  11 out of  13 | elapsed:    0.0s remaining:    0.0s\n",
      "[Parallel(n_jobs=-1)]: Done  13 out of  13 | elapsed:    0.0s finished\n",
      "\n",
      "[2022-02-02 07:53:20] Features: 5/8 -- score: 0.9711217681401167[Parallel(n_jobs=-1)]: Using backend LokyBackend with 12 concurrent workers.\n",
      "[Parallel(n_jobs=-1)]: Done   3 out of  12 | elapsed:    0.0s remaining:    0.1s\n"
     ]
    },
    {
     "name": "stdout",
     "output_type": "stream",
     "text": [
      "0.9711217681401167\n",
      "('satisfaction_level', 'last_evaluation', 'number_project', 'average_montly_hours', 'time_spend_company')\n"
     ]
    },
    {
     "name": "stderr",
     "output_type": "stream",
     "text": [
      "[Parallel(n_jobs=-1)]: Done  10 out of  12 | elapsed:    0.0s remaining:    0.0s\n",
      "[Parallel(n_jobs=-1)]: Done  12 out of  12 | elapsed:    0.0s finished\n",
      "\n",
      "[2022-02-02 07:53:20] Features: 6/8 -- score: 0.9711217681401167[Parallel(n_jobs=-1)]: Using backend LokyBackend with 12 concurrent workers.\n",
      "[Parallel(n_jobs=-1)]: Done   6 out of  11 | elapsed:    0.0s remaining:    0.0s\n",
      "[Parallel(n_jobs=-1)]: Done  11 out of  11 | elapsed:    0.0s finished\n",
      "\n",
      "[2022-02-02 07:53:20] Features: 7/8 -- score: 0.9711217681401167[Parallel(n_jobs=-1)]: Using backend LokyBackend with 12 concurrent workers.\n",
      "[Parallel(n_jobs=-1)]: Done   5 out of  10 | elapsed:    0.0s remaining:    0.0s\n",
      "[Parallel(n_jobs=-1)]: Done  10 out of  10 | elapsed:    0.0s finished\n",
      "\n",
      "[2022-02-02 07:53:20] Features: 8/8 -- score: 0.9711217681401167"
     ]
    }
   ],
   "source": [
    "sfs = SFS(DecisionTreeClassifier(class_weight = 'balanced',\n",
    "                                 criterion = 'entropy', max_depth = 5, min_samples_leaf = 5, min_samples_split = 2),\n",
    "         k_features = (2, 8),\n",
    "          forward= True,\n",
    "          floating = False,\n",
    "          verbose= 2,\n",
    "          scoring= 'accuracy',\n",
    "          cv = 4,\n",
    "          n_jobs= -1\n",
    "         ).fit(X_train, y_train)\n",
    "\n",
    "print(sfs.k_score_)\n",
    "print(sfs.k_feature_names_)"
   ]
  },
  {
   "cell_type": "code",
   "execution_count": 416,
   "id": "1ace0095",
   "metadata": {},
   "outputs": [
    {
     "name": "stdout",
     "output_type": "stream",
     "text": [
      "0.9711217681401167\n",
      "['satisfaction_level', 'last_evaluation', 'number_project', 'average_montly_hours', 'time_spend_company']\n",
      "5\n"
     ]
    }
   ],
   "source": [
    "SFS_Tree_score_VIF = sfs.k_score_\n",
    "SFS_Tree_feature_names_VIF = list(sfs.k_feature_names_)\n",
    "SFS_Tree_features_num_VIF = len(sfs.k_feature_idx_)\n",
    "print(SFS_Tree_score_VIF)\n",
    "print(SFS_Tree_feature_names_VIF)\n",
    "print(SFS_Tree_features_num_VIF)"
   ]
  },
  {
   "cell_type": "code",
   "execution_count": 417,
   "id": "f4f89c67",
   "metadata": {
    "collapsed": true
   },
   "outputs": [
    {
     "name": "stderr",
     "output_type": "stream",
     "text": [
      "[Parallel(n_jobs=-1)]: Using backend LokyBackend with 12 concurrent workers.\n",
      "[Parallel(n_jobs=-1)]: Done   5 out of   8 | elapsed:    0.0s remaining:    0.0s\n",
      "[Parallel(n_jobs=-1)]: Done   8 out of   8 | elapsed:    0.0s finished\n",
      "\n",
      "[2022-02-02 07:54:23] Features: 7/2 -- score: 0.9711217681401167[Parallel(n_jobs=-1)]: Using backend LokyBackend with 12 concurrent workers.\n",
      "[Parallel(n_jobs=-1)]: Done   4 out of   7 | elapsed:    0.0s remaining:    0.0s\n",
      "[Parallel(n_jobs=-1)]: Done   7 out of   7 | elapsed:    0.0s finished\n",
      "\n",
      "[2022-02-02 07:54:24] Features: 6/2 -- score: 0.9721643035863219[Parallel(n_jobs=-1)]: Using backend LokyBackend with 12 concurrent workers.\n",
      "[Parallel(n_jobs=-1)]: Done   3 out of   6 | elapsed:    0.0s remaining:    0.0s\n",
      "[Parallel(n_jobs=-1)]: Done   6 out of   6 | elapsed:    0.0s finished\n",
      "\n",
      "[2022-02-02 07:54:24] Features: 5/2 -- score: 0.9721643035863219[Parallel(n_jobs=-1)]: Using backend LokyBackend with 12 concurrent workers.\n",
      "[Parallel(n_jobs=-1)]: Done   3 out of   5 | elapsed:    0.0s remaining:    0.0s\n",
      "[Parallel(n_jobs=-1)]: Done   5 out of   5 | elapsed:    0.0s finished\n",
      "\n",
      "[2022-02-02 07:54:24] Features: 4/2 -- score: 0.9721643035863219[Parallel(n_jobs=-1)]: Using backend LokyBackend with 12 concurrent workers.\n",
      "[Parallel(n_jobs=-1)]: Done   2 out of   4 | elapsed:    0.0s remaining:    0.0s\n"
     ]
    },
    {
     "name": "stdout",
     "output_type": "stream",
     "text": [
      "0.9721643035863219\n",
      "('satisfaction_level', 'number_project', 'average_montly_hours', 'time_spend_company', 'Work_accident', 'RandD')\n"
     ]
    },
    {
     "name": "stderr",
     "output_type": "stream",
     "text": [
      "[Parallel(n_jobs=-1)]: Done   4 out of   4 | elapsed:    0.0s finished\n",
      "\n",
      "[2022-02-02 07:54:24] Features: 3/2 -- score: 0.9618432026688908[Parallel(n_jobs=-1)]: Using backend LokyBackend with 12 concurrent workers.\n",
      "[Parallel(n_jobs=-1)]: Done   3 out of   3 | elapsed:    0.0s finished\n",
      "\n",
      "[2022-02-02 07:54:24] Features: 2/2 -- score: 0.9475604670558798"
     ]
    }
   ],
   "source": [
    "sbs = SFS(DecisionTreeClassifier(class_weight = 'balanced',\n",
    "                                 criterion = 'entropy', max_depth = 5, min_samples_leaf = 5, min_samples_split = 2),\n",
    "         k_features = (2, 8),\n",
    "          forward= False,\n",
    "          floating = False,\n",
    "          verbose= 2,\n",
    "          scoring= 'accuracy',\n",
    "          cv = 4,\n",
    "          n_jobs= -1\n",
    "         ).fit(X_train_new, y_train)\n",
    "\n",
    "print(sbs.k_score_)\n",
    "print(sbs.k_feature_names_)"
   ]
  },
  {
   "cell_type": "code",
   "execution_count": 418,
   "id": "5ab8bb33",
   "metadata": {},
   "outputs": [
    {
     "name": "stdout",
     "output_type": "stream",
     "text": [
      "0.9721643035863219\n",
      "['satisfaction_level', 'number_project', 'average_montly_hours', 'time_spend_company', 'Work_accident', 'RandD']\n",
      "6\n"
     ]
    }
   ],
   "source": [
    "SBS_Tree_score_VIF = sbs.k_score_\n",
    "SBS_Tree_feature_names_VIF = list(sbs.k_feature_names_)\n",
    "SBS_Tree_features_num_VIF = len(sbs.k_feature_idx_)\n",
    "print(SBS_Tree_score_VIF)\n",
    "print(SBS_Tree_feature_names_VIF)\n",
    "print(SBS_Tree_features_num_VIF)"
   ]
  },
  {
   "cell_type": "code",
   "execution_count": 420,
   "id": "f88b2365",
   "metadata": {},
   "outputs": [
    {
     "name": "stderr",
     "output_type": "stream",
     "text": [
      "Features: 219/219"
     ]
    }
   ],
   "source": [
    "efs = EFS(DecisionTreeClassifier(class_weight = 'balanced',\n",
    "                                 criterion = 'entropy', max_depth = 5, min_samples_leaf = 5, min_samples_split = 2),\n",
    "         min_features = 3,\n",
    "          max_features=8,\n",
    "          scoring= 'accuracy',\n",
    "          cv = None,\n",
    "          n_jobs= -1\n",
    "         ).fit(X_train_new, y_train)"
   ]
  },
  {
   "cell_type": "code",
   "execution_count": 421,
   "id": "fdef154f",
   "metadata": {},
   "outputs": [
    {
     "name": "stdout",
     "output_type": "stream",
     "text": [
      "0.9776897414512093\n",
      "['satisfaction_level', 'last_evaluation', 'number_project', 'average_montly_hours', 'time_spend_company']\n",
      "5\n"
     ]
    }
   ],
   "source": [
    "EFS_Tree_score_VIF = efs.best_score_\n",
    "EFS_Tree_feature_names_VIF = list(efs.best_feature_names_)\n",
    "EFS_Tree_features_num_VIF = len(efs.best_idx_)\n",
    "print(EFS_Tree_score_VIF)\n",
    "print(EFS_Tree_feature_names_VIF)\n",
    "print(EFS_Tree_features_num_VIF)"
   ]
  },
  {
   "cell_type": "code",
   "execution_count": null,
   "id": "c3589067",
   "metadata": {},
   "outputs": [],
   "source": []
  },
  {
   "cell_type": "code",
   "execution_count": null,
   "id": "7c017d2e",
   "metadata": {},
   "outputs": [],
   "source": []
  },
  {
   "cell_type": "code",
   "execution_count": null,
   "id": "51b4e6f8",
   "metadata": {},
   "outputs": [],
   "source": []
  },
  {
   "cell_type": "code",
   "execution_count": null,
   "id": "d40aa24f",
   "metadata": {},
   "outputs": [],
   "source": []
  },
  {
   "cell_type": "code",
   "execution_count": null,
   "id": "20675012",
   "metadata": {},
   "outputs": [],
   "source": []
  },
  {
   "cell_type": "code",
   "execution_count": null,
   "id": "018736a8",
   "metadata": {},
   "outputs": [],
   "source": []
  },
  {
   "cell_type": "code",
   "execution_count": null,
   "id": "00b1600e",
   "metadata": {},
   "outputs": [],
   "source": []
  },
  {
   "cell_type": "code",
   "execution_count": null,
   "id": "3c0b8b5b",
   "metadata": {},
   "outputs": [],
   "source": []
  },
  {
   "cell_type": "code",
   "execution_count": null,
   "id": "47c7de0b",
   "metadata": {},
   "outputs": [],
   "source": []
  },
  {
   "cell_type": "code",
   "execution_count": null,
   "id": "fdfc641d",
   "metadata": {},
   "outputs": [],
   "source": []
  },
  {
   "cell_type": "markdown",
   "id": "600d5f1c",
   "metadata": {},
   "source": [
    "# KNN"
   ]
  },
  {
   "cell_type": "code",
   "execution_count": 270,
   "id": "4fd3efdd",
   "metadata": {},
   "outputs": [],
   "source": [
    "from sklearn.neighbors import KNeighborsClassifier"
   ]
  },
  {
   "cell_type": "code",
   "execution_count": 311,
   "id": "6421493f",
   "metadata": {},
   "outputs": [
    {
     "data": {
      "text/plain": [
       "0.9502962190714485"
      ]
     },
     "execution_count": 311,
     "metadata": {},
     "output_type": "execute_result"
    }
   ],
   "source": [
    "KNN = KNeighborsClassifier(n_neighbors=7, weights='distance')\n",
    "\n",
    "acc = cross_val_score(KNN, X, y, cv=10, scoring='accuracy')\n",
    "    \n",
    "acc.mean()"
   ]
  },
  {
   "cell_type": "code",
   "execution_count": 312,
   "id": "87e75c6c",
   "metadata": {},
   "outputs": [
    {
     "data": {
      "text/plain": [
       "0.952897040433514"
      ]
     },
     "execution_count": 312,
     "metadata": {},
     "output_type": "execute_result"
    }
   ],
   "source": [
    "KNN = KNeighborsClassifier()\n",
    "\n",
    "KNN.fit(X_train, y_train)\n",
    "\n",
    "pred = KNN.predict(X_test)\n",
    "\n",
    "acc_KNN_train_test = (y_test==pred).mean()\n",
    "acc_KNN_train_test"
   ]
  },
  {
   "cell_type": "code",
   "execution_count": 273,
   "id": "2a5be400",
   "metadata": {},
   "outputs": [
    {
     "data": {
      "image/png": "[encoded data removed]",
      "text/plain": [
       "<Figure size 432x288 with 1 Axes>"
      ]
     },
     "metadata": {
      "needs_background": "light"
     },
     "output_type": "display_data"
    }
   ],
   "source": [
    "k_range = list(range(1, 40))\n",
    "\n",
    "scores = []\n",
    "\n",
    "for i in k_range:\n",
    "    knn = KNeighborsClassifier(n_neighbors=i)\n",
    "    knn.fit(X_train, y_train)\n",
    "    y_pred = knn.predict(X_test)\n",
    "    scores.append(accuracy_score(y_test, y_pred))\n",
    "    \n",
    "plt.plot(k_range, scores)\n",
    "\n",
    "plt.xlabel('K ')\n",
    "plt.ylabel('acc')\n",
    "plt.title('dif k in KNN')\n",
    "plt.show()"
   ]
  },
  {
   "cell_type": "code",
   "execution_count": 274,
   "id": "9f56f8eb",
   "metadata": {},
   "outputs": [
    {
     "data": {
      "text/plain": [
       "GridSearchCV(cv=10, estimator=KNeighborsClassifier(),\n",
       "             param_grid={'algorithm': ['auto', 'ball_tree', 'kd_tree', 'brute'],\n",
       "                         'n_neighbors': [1, 2, 3, 4, 5, 6, 7, 8, 9, 10, 11, 12,\n",
       "                                         13, 14, 15, 16, 17, 18, 19, 20, 21, 22,\n",
       "                                         23, 24],\n",
       "                         'weights': ['uniform', 'distance']},\n",
       "             scoring='accuracy')"
      ]
     },
     "execution_count": 274,
     "metadata": {},
     "output_type": "execute_result"
    }
   ],
   "source": [
    "KNN = KNeighborsClassifier()\n",
    "\n",
    "k_range = list(range(1, 25))\n",
    "\n",
    "param = {'weights':['uniform', 'distance'],\n",
    "        'algorithm':['auto', 'ball_tree', 'kd_tree', 'brute'],\n",
    "        'n_neighbors':k_range}\n",
    "\n",
    "GS = GridSearchCV(KNN, param, cv=10, scoring='accuracy')\n",
    "\n",
    "GS.fit(X, y)"
   ]
  },
  {
   "cell_type": "code",
   "execution_count": 275,
   "id": "078fed05",
   "metadata": {},
   "outputs": [
    {
     "data": {
      "text/plain": [
       "{'algorithm': 'auto', 'n_neighbors': 2, 'weights': 'uniform'}"
      ]
     },
     "execution_count": 275,
     "metadata": {},
     "output_type": "execute_result"
    }
   ],
   "source": [
    "GS.best_params_"
   ]
  },
  {
   "cell_type": "code",
   "execution_count": 276,
   "id": "fbad865c",
   "metadata": {},
   "outputs": [
    {
     "data": {
      "text/plain": [
       "0.9593033083124827"
      ]
     },
     "execution_count": 276,
     "metadata": {},
     "output_type": "execute_result"
    }
   ],
   "source": [
    "GS.best_score_"
   ]
  },
  {
   "cell_type": "code",
   "execution_count": 277,
   "id": "91bb2739",
   "metadata": {},
   "outputs": [
    {
     "data": {
      "text/plain": [
       "0.9593033083124827"
      ]
     },
     "execution_count": 277,
     "metadata": {},
     "output_type": "execute_result"
    }
   ],
   "source": [
    "KNN = KNeighborsClassifier(algorithm = 'auto', n_neighbors=2, weights='uniform')\n",
    "\n",
    "acc = cross_val_score(KNN, X, y, cv=10, scoring='accuracy')\n",
    "    \n",
    "acc_KNN = acc.mean()\n",
    "acc_KNN"
   ]
  },
  {
   "cell_type": "code",
   "execution_count": 278,
   "id": "1eb52dd1",
   "metadata": {},
   "outputs": [
    {
     "data": {
      "text/plain": [
       "0.9583159649854106"
      ]
     },
     "execution_count": 278,
     "metadata": {},
     "output_type": "execute_result"
    }
   ],
   "source": [
    "KNN = KNeighborsClassifier(algorithm = 'auto', n_neighbors=2, weights='uniform')\n",
    "\n",
    "KNN.fit(X_train, y_train)\n",
    "\n",
    "pred = KNN.predict(X_test)\n",
    "\n",
    "acc_KNN_train_test = (y_test==pred).mean()\n",
    "acc_KNN_train_test"
   ]
  },
  {
   "cell_type": "code",
   "execution_count": 281,
   "id": "12b7aa28",
   "metadata": {
    "collapsed": true
   },
   "outputs": [
    {
     "name": "stderr",
     "output_type": "stream",
     "text": [
      "[Parallel(n_jobs=-1)]: Using backend LokyBackend with 12 concurrent workers.\n",
      "[Parallel(n_jobs=-1)]: Done   3 out of  17 | elapsed:    0.4s remaining:    2.1s\n",
      "[Parallel(n_jobs=-1)]: Done  12 out of  17 | elapsed:    1.3s remaining:    0.5s\n",
      "[Parallel(n_jobs=-1)]: Done  17 out of  17 | elapsed:    1.6s finished\n",
      "\n",
      "[2022-02-02 05:58:19] Features: 1/12 -- score: 0.8863636363636364[Parallel(n_jobs=-1)]: Using backend LokyBackend with 12 concurrent workers.\n",
      "[Parallel(n_jobs=-1)]: Done   2 out of  16 | elapsed:    0.3s remaining:    2.9s\n",
      "[Parallel(n_jobs=-1)]: Done  11 out of  16 | elapsed:    0.5s remaining:    0.2s\n",
      "[Parallel(n_jobs=-1)]: Done  16 out of  16 | elapsed:    0.7s finished\n",
      "\n",
      "[2022-02-02 05:58:20] Features: 2/12 -- score: 0.9231651376146789[Parallel(n_jobs=-1)]: Using backend LokyBackend with 12 concurrent workers.\n",
      "[Parallel(n_jobs=-1)]: Done   8 out of  15 | elapsed:    0.5s remaining:    0.4s\n",
      "[Parallel(n_jobs=-1)]: Done  15 out of  15 | elapsed:    0.7s finished\n",
      "\n",
      "[2022-02-02 05:58:21] Features: 3/12 -- score: 0.9531901584653878[Parallel(n_jobs=-1)]: Using backend LokyBackend with 12 concurrent workers.\n",
      "[Parallel(n_jobs=-1)]: Done   7 out of  14 | elapsed:    0.5s remaining:    0.5s\n",
      "[Parallel(n_jobs=-1)]: Done  14 out of  14 | elapsed:    0.8s finished\n",
      "\n",
      "[2022-02-02 05:58:22] Features: 4/12 -- score: 0.9696622185154296[Parallel(n_jobs=-1)]: Using backend LokyBackend with 12 concurrent workers.\n",
      "[Parallel(n_jobs=-1)]: Done   4 out of  13 | elapsed:    0.5s remaining:    1.2s\n",
      "[Parallel(n_jobs=-1)]: Done  11 out of  13 | elapsed:    0.5s remaining:    0.0s\n",
      "[Parallel(n_jobs=-1)]: Done  13 out of  13 | elapsed:    0.7s finished\n",
      "\n",
      "[2022-02-02 05:58:23] Features: 5/12 -- score: 0.9737281067556296[Parallel(n_jobs=-1)]: Using backend LokyBackend with 12 concurrent workers.\n",
      "[Parallel(n_jobs=-1)]: Done   3 out of  12 | elapsed:    0.5s remaining:    1.7s\n",
      "[Parallel(n_jobs=-1)]: Done  10 out of  12 | elapsed:    0.5s remaining:    0.0s\n",
      "[Parallel(n_jobs=-1)]: Done  12 out of  12 | elapsed:    0.5s finished\n",
      "\n",
      "[2022-02-02 05:58:23] Features: 6/12 -- score: 0.9741451209341117[Parallel(n_jobs=-1)]: Using backend LokyBackend with 12 concurrent workers.\n",
      "[Parallel(n_jobs=-1)]: Done   6 out of  11 | elapsed:    0.6s remaining:    0.5s\n",
      "[Parallel(n_jobs=-1)]: Done  11 out of  11 | elapsed:    0.6s finished\n",
      "\n",
      "[2022-02-02 05:58:24] Features: 7/12 -- score: 0.9739366138448706[Parallel(n_jobs=-1)]: Using backend LokyBackend with 12 concurrent workers.\n",
      "[Parallel(n_jobs=-1)]: Done   5 out of  10 | elapsed:    0.5s remaining:    0.5s\n",
      "[Parallel(n_jobs=-1)]: Done  10 out of  10 | elapsed:    0.6s finished\n",
      "\n",
      "[2022-02-02 05:58:25] Features: 8/12 -- score: 0.9738323603002501[Parallel(n_jobs=-1)]: Using backend LokyBackend with 12 concurrent workers.\n",
      "[Parallel(n_jobs=-1)]: Done   6 out of   9 | elapsed:    0.6s remaining:    0.2s\n",
      "[Parallel(n_jobs=-1)]: Done   9 out of   9 | elapsed:    0.6s finished\n",
      "\n",
      "[2022-02-02 05:58:26] Features: 9/12 -- score: 0.9729983319432861[Parallel(n_jobs=-1)]: Using backend LokyBackend with 12 concurrent workers.\n",
      "[Parallel(n_jobs=-1)]: Done   5 out of   8 | elapsed:    0.6s remaining:    0.3s\n",
      "[Parallel(n_jobs=-1)]: Done   8 out of   8 | elapsed:    0.6s finished\n",
      "\n",
      "[2022-02-02 05:58:26] Features: 10/12 -- score: 0.9721643035863219[Parallel(n_jobs=-1)]: Using backend LokyBackend with 12 concurrent workers.\n",
      "[Parallel(n_jobs=-1)]: Done   4 out of   7 | elapsed:    0.6s remaining:    0.4s\n",
      "[Parallel(n_jobs=-1)]: Done   7 out of   7 | elapsed:    0.6s finished\n",
      "\n",
      "[2022-02-02 05:58:27] Features: 11/12 -- score: 0.9716430358632193[Parallel(n_jobs=-1)]: Using backend LokyBackend with 12 concurrent workers.\n"
     ]
    },
    {
     "name": "stdout",
     "output_type": "stream",
     "text": [
      "0.9741451209341117\n",
      "('satisfaction_level', 'last_evaluation', 'number_project', 'average_montly_hours', 'time_spend_company', 'marketing')\n"
     ]
    },
    {
     "name": "stderr",
     "output_type": "stream",
     "text": [
      "[Parallel(n_jobs=-1)]: Done   3 out of   6 | elapsed:    0.5s remaining:    0.5s\n",
      "[Parallel(n_jobs=-1)]: Done   6 out of   6 | elapsed:    0.6s finished\n",
      "\n",
      "[2022-02-02 05:58:28] Features: 12/12 -- score: 0.9707047539616347"
     ]
    }
   ],
   "source": [
    "sfs = SFS(KNeighborsClassifier(algorithm = 'auto', n_neighbors=2, weights='uniform'),\n",
    "          k_features = (3, 12),\n",
    "          forward= True,\n",
    "          floating = False,\n",
    "          verbose= 2,\n",
    "          scoring= 'accuracy',\n",
    "          cv = 4,\n",
    "          n_jobs= -1\n",
    "         ).fit(X_train, y_train)\n",
    "\n",
    "print(sfs.k_score_)\n",
    "print(sfs.k_feature_names_)"
   ]
  },
  {
   "cell_type": "code",
   "execution_count": 282,
   "id": "6751a6cb",
   "metadata": {},
   "outputs": [
    {
     "name": "stdout",
     "output_type": "stream",
     "text": [
      "0.9741451209341117\n",
      "['satisfaction_level', 'last_evaluation', 'number_project', 'average_montly_hours', 'time_spend_company', 'marketing']\n",
      "6\n"
     ]
    }
   ],
   "source": [
    "SFS_KNN_score = sfs.k_score_\n",
    "SFS_KNN_feature_names = list(sfs.k_feature_names_)\n",
    "SFS_KNN_features_num = len(sfs.k_feature_idx_)\n",
    "print(SFS_KNN_score)\n",
    "print(SFS_KNN_feature_names)\n",
    "print(SFS_KNN_features_num)"
   ]
  },
  {
   "cell_type": "code",
   "execution_count": 285,
   "id": "83a7d362",
   "metadata": {
    "collapsed": true
   },
   "outputs": [
    {
     "name": "stderr",
     "output_type": "stream",
     "text": [
      "[Parallel(n_jobs=-1)]: Using backend LokyBackend with 12 concurrent workers.\n",
      "[Parallel(n_jobs=-1)]: Done   3 out of  17 | elapsed:    6.7s remaining:   31.7s\n",
      "[Parallel(n_jobs=-1)]: Done  12 out of  17 | elapsed:    6.8s remaining:    2.8s\n",
      "[Parallel(n_jobs=-1)]: Done  17 out of  17 | elapsed:    9.1s finished\n",
      "\n",
      "[2022-02-02 06:02:15] Features: 16/3 -- score: 0.9623644703919934[Parallel(n_jobs=-1)]: Using backend LokyBackend with 12 concurrent workers.\n",
      "[Parallel(n_jobs=-1)]: Done   2 out of  16 | elapsed:    1.1s remaining:    8.5s\n",
      "[Parallel(n_jobs=-1)]: Done  11 out of  16 | elapsed:    1.2s remaining:    0.5s\n",
      "[Parallel(n_jobs=-1)]: Done  16 out of  16 | elapsed:    1.9s finished\n",
      "\n",
      "[2022-02-02 06:02:17] Features: 15/3 -- score: 0.9652835696413677[Parallel(n_jobs=-1)]: Using backend LokyBackend with 12 concurrent workers.\n",
      "[Parallel(n_jobs=-1)]: Done   8 out of  15 | elapsed:    1.1s remaining:    0.9s\n",
      "[Parallel(n_jobs=-1)]: Done  15 out of  15 | elapsed:    1.7s finished\n",
      "\n",
      "[2022-02-02 06:02:19] Features: 14/3 -- score: 0.9675771476230193[Parallel(n_jobs=-1)]: Using backend LokyBackend with 12 concurrent workers.\n",
      "[Parallel(n_jobs=-1)]: Done   7 out of  14 | elapsed:    1.0s remaining:    1.0s\n",
      "[Parallel(n_jobs=-1)]: Done  14 out of  14 | elapsed:    1.6s finished\n",
      "\n",
      "[2022-02-02 06:02:21] Features: 13/3 -- score: 0.969557964970809[Parallel(n_jobs=-1)]: Using backend LokyBackend with 12 concurrent workers.\n",
      "[Parallel(n_jobs=-1)]: Done   4 out of  13 | elapsed:    0.9s remaining:    2.1s\n",
      "[Parallel(n_jobs=-1)]: Done  11 out of  13 | elapsed:    1.0s remaining:    0.1s\n",
      "[Parallel(n_jobs=-1)]: Done  13 out of  13 | elapsed:    1.4s finished\n",
      "\n",
      "[2022-02-02 06:02:22] Features: 12/3 -- score: 0.9707047539616347[Parallel(n_jobs=-1)]: Using backend LokyBackend with 12 concurrent workers.\n",
      "[Parallel(n_jobs=-1)]: Done   3 out of  12 | elapsed:    0.8s remaining:    2.6s\n",
      "[Parallel(n_jobs=-1)]: Done  10 out of  12 | elapsed:    0.9s remaining:    0.1s\n",
      "[Parallel(n_jobs=-1)]: Done  12 out of  12 | elapsed:    0.9s finished\n",
      "\n",
      "[2022-02-02 06:02:23] Features: 11/3 -- score: 0.9716430358632193[Parallel(n_jobs=-1)]: Using backend LokyBackend with 12 concurrent workers.\n",
      "[Parallel(n_jobs=-1)]: Done   6 out of  11 | elapsed:    0.8s remaining:    0.6s\n",
      "[Parallel(n_jobs=-1)]: Done  11 out of  11 | elapsed:    0.8s finished\n",
      "\n",
      "[2022-02-02 06:02:24] Features: 10/3 -- score: 0.9724770642201834[Parallel(n_jobs=-1)]: Using backend LokyBackend with 12 concurrent workers.\n",
      "[Parallel(n_jobs=-1)]: Done   5 out of  10 | elapsed:    0.6s remaining:    0.6s\n",
      "[Parallel(n_jobs=-1)]: Done  10 out of  10 | elapsed:    0.7s finished\n",
      "\n",
      "[2022-02-02 06:02:25] Features: 9/3 -- score: 0.9729983319432861[Parallel(n_jobs=-1)]: Using backend LokyBackend with 12 concurrent workers.\n",
      "[Parallel(n_jobs=-1)]: Done   6 out of   9 | elapsed:    0.6s remaining:    0.2s\n",
      "[Parallel(n_jobs=-1)]: Done   9 out of   9 | elapsed:    0.6s finished\n",
      "\n",
      "[2022-02-02 06:02:26] Features: 8/3 -- score: 0.9738323603002501[Parallel(n_jobs=-1)]: Using backend LokyBackend with 12 concurrent workers.\n",
      "[Parallel(n_jobs=-1)]: Done   5 out of   8 | elapsed:    0.5s remaining:    0.3s\n",
      "[Parallel(n_jobs=-1)]: Done   8 out of   8 | elapsed:    0.5s finished\n",
      "\n",
      "[2022-02-02 06:02:26] Features: 7/3 -- score: 0.9739366138448706[Parallel(n_jobs=-1)]: Using backend LokyBackend with 12 concurrent workers.\n",
      "[Parallel(n_jobs=-1)]: Done   4 out of   7 | elapsed:    0.4s remaining:    0.3s\n",
      "[Parallel(n_jobs=-1)]: Done   7 out of   7 | elapsed:    0.5s finished\n",
      "\n",
      "[2022-02-02 06:02:27] Features: 6/3 -- score: 0.9741451209341117[Parallel(n_jobs=-1)]: Using backend LokyBackend with 12 concurrent workers.\n",
      "[Parallel(n_jobs=-1)]: Done   3 out of   6 | elapsed:    0.3s remaining:    0.3s\n",
      "[Parallel(n_jobs=-1)]: Done   6 out of   6 | elapsed:    0.4s finished\n",
      "\n",
      "[2022-02-02 06:02:27] Features: 5/3 -- score: 0.9737281067556296[Parallel(n_jobs=-1)]: Using backend LokyBackend with 12 concurrent workers.\n",
      "[Parallel(n_jobs=-1)]: Done   3 out of   5 | elapsed:    0.3s remaining:    0.1s\n",
      "[Parallel(n_jobs=-1)]: Done   5 out of   5 | elapsed:    0.3s finished\n",
      "\n",
      "[2022-02-02 06:02:28] Features: 4/3 -- score: 0.9696622185154296[Parallel(n_jobs=-1)]: Using backend LokyBackend with 12 concurrent workers.\n"
     ]
    },
    {
     "name": "stdout",
     "output_type": "stream",
     "text": [
      "0.9741451209341117\n",
      "('satisfaction_level', 'last_evaluation', 'number_project', 'average_montly_hours', 'time_spend_company', 'marketing')\n"
     ]
    },
    {
     "name": "stderr",
     "output_type": "stream",
     "text": [
      "[Parallel(n_jobs=-1)]: Done   2 out of   4 | elapsed:    0.2s remaining:    0.2s\n",
      "[Parallel(n_jobs=-1)]: Done   4 out of   4 | elapsed:    0.2s finished\n",
      "\n",
      "[2022-02-02 06:02:28] Features: 3/3 -- score: 0.9588198498748958"
     ]
    }
   ],
   "source": [
    "# sbs = SFS(KNeighborsClassifier(algorithm = 'auto', n_neighbors=2, weights='uniform'),\n",
    "#          k_features = (3, 12),\n",
    "#           forward= False,\n",
    "#           floating = False,\n",
    "#           verbose= 2,\n",
    "#           scoring= 'accuracy',\n",
    "#           cv = 4,\n",
    "#           n_jobs= -1\n",
    "#          ).fit(X_train, y_train)\n",
    "\n",
    "# print(sbs.k_score_)\n",
    "# print(sbs.k_feature_names_)"
   ]
  },
  {
   "cell_type": "code",
   "execution_count": 287,
   "id": "11438f17",
   "metadata": {},
   "outputs": [
    {
     "name": "stdout",
     "output_type": "stream",
     "text": [
      "0.9741451209341117\n",
      "['satisfaction_level', 'last_evaluation', 'number_project', 'average_montly_hours', 'time_spend_company', 'marketing']\n",
      "6\n"
     ]
    }
   ],
   "source": [
    "SBS_KNN_score = sbs.k_score_\n",
    "SBS_KNN_feature_names = list(sbs.k_feature_names_)\n",
    "SBS_KNN_features_num = len(sbs.k_feature_idx_)\n",
    "print(SBS_KNN_score)\n",
    "print(SBS_KNN_feature_names)\n",
    "print(SBS_KNN_features_num)"
   ]
  },
  {
   "cell_type": "code",
   "execution_count": 289,
   "id": "a6451b7a",
   "metadata": {},
   "outputs": [
    {
     "name": "stderr",
     "output_type": "stream",
     "text": [
      "Features: 816/816"
     ]
    }
   ],
   "source": [
    "efs = EFS(KNeighborsClassifier(algorithm = 'auto', n_neighbors=2, weights='uniform'),\n",
    "         min_features = 2,\n",
    "          max_features=3,\n",
    "          scoring= 'accuracy',\n",
    "          cv = None,\n",
    "          n_jobs= -1\n",
    "         ).fit(X_train, y_train)"
   ]
  },
  {
   "cell_type": "code",
   "execution_count": 290,
   "id": "13b26a36",
   "metadata": {},
   "outputs": [
    {
     "name": "stdout",
     "output_type": "stream",
     "text": [
      "0.9744578815679733\n",
      "['satisfaction_level', 'average_montly_hours', 'time_spend_company']\n",
      "3\n"
     ]
    }
   ],
   "source": [
    "EFS_KNN_score = efs.best_score_\n",
    "EFS_KNN_feature_names = list(efs.best_feature_names_)\n",
    "EFS_KNN_features_num = len(efs.best_idx_)\n",
    "print(EFS_KNN_score)\n",
    "print(EFS_KNN_feature_names)\n",
    "print(EFS_KNN_features_num)"
   ]
  },
  {
   "cell_type": "code",
   "execution_count": null,
   "id": "f42f2088",
   "metadata": {},
   "outputs": [],
   "source": []
  },
  {
   "cell_type": "code",
   "execution_count": 296,
   "id": "12f37a06",
   "metadata": {},
   "outputs": [],
   "source": [
    "X_train_new = X_train\n",
    "X_test_new = X_test"
   ]
  },
  {
   "cell_type": "code",
   "execution_count": 301,
   "id": "fc834a47",
   "metadata": {},
   "outputs": [
    {
     "name": "stdout",
     "output_type": "stream",
     "text": [
      "(9592, 17)\n",
      "(2399, 17)\n"
     ]
    }
   ],
   "source": [
    "print(X_train_new.shape)\n",
    "print(X_test_new.shape)"
   ]
  },
  {
   "cell_type": "code",
   "execution_count": 299,
   "id": "e085d269",
   "metadata": {},
   "outputs": [],
   "source": [
    "# from sklearn.neighbors import KNeighborsClassifier"
   ]
  },
  {
   "cell_type": "code",
   "execution_count": null,
   "id": "5bbdc722",
   "metadata": {},
   "outputs": [],
   "source": [
    "from sklearn.metrics import accuracy_score\n",
    "\n",
    "for i in range(1, X_train.shape[1]+1):\n",
    "#     lm = LinearRegression() #creat LR model on train set\n",
    "#     lm.fit(X_train,y_train)\n",
    "    \n",
    "    DT = DecisionTreeClassifier()\n",
    "    DT.fit(X_train, y_train)\n",
    "    \n",
    "    rfe = RFE(DT, i) #fit RFE model with different number of features 1 to 32\n",
    "    rfe = rfe.fit(X_train, y_train)\n",
    "    \n",
    "    y_pred= rfe.predict(X_test)\n",
    "    acc = accuracy_score(y_test, y_pred)\n",
    "    \n",
    "    if acc>0.97:\n",
    "        best_n_feature = i\n",
    "        print('best number of feature:',best_n_feature)\n",
    "        print('acc based on best number of feature:',acc)"
   ]
  },
  {
   "cell_type": "code",
   "execution_count": null,
   "id": "2f577f33",
   "metadata": {},
   "outputs": [],
   "source": [
    "KNN = KNeighborsClassifier()\n",
    "\n",
    "KNN.fit(X_train, y_train)\n",
    "\n",
    "pred = KNN.predict(X_test)"
   ]
  },
  {
   "cell_type": "code",
   "execution_count": 316,
   "id": "a69cd13b",
   "metadata": {},
   "outputs": [
    {
     "ename": "ValueError",
     "evalue": "when `importance_getter=='auto'`, the underlying estimator KNeighborsClassifier should have `coef_` or `feature_importances_` attribute. Either pass a fitted estimator to feature selector or call fit before calling transform.",
     "output_type": "error",
     "traceback": [
      "\u001b[1;31m---------------------------------------------------------------------------\u001b[0m",
      "\u001b[1;31mValueError\u001b[0m                                Traceback (most recent call last)",
      "\u001b[1;32m<ipython-input-316-d8a21677f771>\u001b[0m in \u001b[0;36m<module>\u001b[1;34m\u001b[0m\n\u001b[0;32m      6\u001b[0m \u001b[1;33m\u001b[0m\u001b[0m\n\u001b[0;32m      7\u001b[0m     \u001b[0mrfe\u001b[0m \u001b[1;33m=\u001b[0m \u001b[0mRFE\u001b[0m\u001b[1;33m(\u001b[0m\u001b[0mKNN\u001b[0m\u001b[1;33m,\u001b[0m \u001b[0mi\u001b[0m\u001b[1;33m)\u001b[0m\u001b[1;33m\u001b[0m\u001b[1;33m\u001b[0m\u001b[0m\n\u001b[1;32m----> 8\u001b[1;33m     \u001b[0mrfe\u001b[0m \u001b[1;33m=\u001b[0m \u001b[0mrfe\u001b[0m\u001b[1;33m.\u001b[0m\u001b[0mfit\u001b[0m\u001b[1;33m(\u001b[0m\u001b[0mX_train\u001b[0m\u001b[1;33m,\u001b[0m \u001b[0my_train\u001b[0m\u001b[1;33m)\u001b[0m\u001b[1;33m\u001b[0m\u001b[1;33m\u001b[0m\u001b[0m\n\u001b[0m\u001b[0;32m      9\u001b[0m \u001b[1;33m\u001b[0m\u001b[0m\n\u001b[0;32m     10\u001b[0m     \u001b[0my_pred\u001b[0m\u001b[1;33m=\u001b[0m \u001b[0mrfe\u001b[0m\u001b[1;33m.\u001b[0m\u001b[0mpredict\u001b[0m\u001b[1;33m(\u001b[0m\u001b[0mX_test\u001b[0m\u001b[1;33m)\u001b[0m\u001b[1;33m\u001b[0m\u001b[1;33m\u001b[0m\u001b[0m\n",
      "\u001b[1;32m~\\anaconda3\\lib\\site-packages\\sklearn\\feature_selection\\_rfe.py\u001b[0m in \u001b[0;36mfit\u001b[1;34m(self, X, y)\u001b[0m\n\u001b[0;32m    182\u001b[0m             \u001b[0mThe\u001b[0m \u001b[0mtarget\u001b[0m \u001b[0mvalues\u001b[0m\u001b[1;33m.\u001b[0m\u001b[1;33m\u001b[0m\u001b[1;33m\u001b[0m\u001b[0m\n\u001b[0;32m    183\u001b[0m         \"\"\"\n\u001b[1;32m--> 184\u001b[1;33m         \u001b[1;32mreturn\u001b[0m \u001b[0mself\u001b[0m\u001b[1;33m.\u001b[0m\u001b[0m_fit\u001b[0m\u001b[1;33m(\u001b[0m\u001b[0mX\u001b[0m\u001b[1;33m,\u001b[0m \u001b[0my\u001b[0m\u001b[1;33m)\u001b[0m\u001b[1;33m\u001b[0m\u001b[1;33m\u001b[0m\u001b[0m\n\u001b[0m\u001b[0;32m    185\u001b[0m \u001b[1;33m\u001b[0m\u001b[0m\n\u001b[0;32m    186\u001b[0m     \u001b[1;32mdef\u001b[0m \u001b[0m_fit\u001b[0m\u001b[1;33m(\u001b[0m\u001b[0mself\u001b[0m\u001b[1;33m,\u001b[0m \u001b[0mX\u001b[0m\u001b[1;33m,\u001b[0m \u001b[0my\u001b[0m\u001b[1;33m,\u001b[0m \u001b[0mstep_score\u001b[0m\u001b[1;33m=\u001b[0m\u001b[1;32mNone\u001b[0m\u001b[1;33m)\u001b[0m\u001b[1;33m:\u001b[0m\u001b[1;33m\u001b[0m\u001b[1;33m\u001b[0m\u001b[0m\n",
      "\u001b[1;32m~\\anaconda3\\lib\\site-packages\\sklearn\\feature_selection\\_rfe.py\u001b[0m in \u001b[0;36m_fit\u001b[1;34m(self, X, y, step_score)\u001b[0m\n\u001b[0;32m    242\u001b[0m \u001b[1;33m\u001b[0m\u001b[0m\n\u001b[0;32m    243\u001b[0m             \u001b[1;31m# Get importance and rank them\u001b[0m\u001b[1;33m\u001b[0m\u001b[1;33m\u001b[0m\u001b[1;33m\u001b[0m\u001b[0m\n\u001b[1;32m--> 244\u001b[1;33m             importances = _get_feature_importances(\n\u001b[0m\u001b[0;32m    245\u001b[0m                 \u001b[0mestimator\u001b[0m\u001b[1;33m,\u001b[0m \u001b[0mself\u001b[0m\u001b[1;33m.\u001b[0m\u001b[0mimportance_getter\u001b[0m\u001b[1;33m,\u001b[0m \u001b[0mtransform_func\u001b[0m\u001b[1;33m=\u001b[0m\u001b[1;34m\"square\"\u001b[0m\u001b[1;33m,\u001b[0m\u001b[1;33m\u001b[0m\u001b[1;33m\u001b[0m\u001b[0m\n\u001b[0;32m    246\u001b[0m             )\n",
      "\u001b[1;32m~\\anaconda3\\lib\\site-packages\\sklearn\\feature_selection\\_base.py\u001b[0m in \u001b[0;36m_get_feature_importances\u001b[1;34m(estimator, getter, transform_func, norm_order)\u001b[0m\n\u001b[0;32m    171\u001b[0m                 \u001b[0mgetter\u001b[0m \u001b[1;33m=\u001b[0m \u001b[0mattrgetter\u001b[0m\u001b[1;33m(\u001b[0m\u001b[1;34m'feature_importances_'\u001b[0m\u001b[1;33m)\u001b[0m\u001b[1;33m\u001b[0m\u001b[1;33m\u001b[0m\u001b[0m\n\u001b[0;32m    172\u001b[0m             \u001b[1;32melse\u001b[0m\u001b[1;33m:\u001b[0m\u001b[1;33m\u001b[0m\u001b[1;33m\u001b[0m\u001b[0m\n\u001b[1;32m--> 173\u001b[1;33m                 raise ValueError(\n\u001b[0m\u001b[0;32m    174\u001b[0m                     \u001b[1;34mf\"when `importance_getter=='auto'`, the underlying \"\u001b[0m\u001b[1;33m\u001b[0m\u001b[1;33m\u001b[0m\u001b[0m\n\u001b[0;32m    175\u001b[0m                     \u001b[1;34mf\"estimator {estimator.__class__.__name__} should have \"\u001b[0m\u001b[1;33m\u001b[0m\u001b[1;33m\u001b[0m\u001b[0m\n",
      "\u001b[1;31mValueError\u001b[0m: when `importance_getter=='auto'`, the underlying estimator KNeighborsClassifier should have `coef_` or `feature_importances_` attribute. Either pass a fitted estimator to feature selector or call fit before calling transform."
     ]
    }
   ],
   "source": [
    "for i in range(1, X_train.shape[1]+1):\n",
    "   \n",
    "    KNN = KNeighborsClassifier()\n",
    "\n",
    "    KNN.fit(X_train, y_train)\n",
    "    \n",
    "    rfe = RFE(KNN, i)\n",
    "    rfe = rfe.fit(X_train, y_train)\n",
    "    \n",
    "    y_pred= rfe.predict(X_test)\n",
    "    acc = accuracy_score(y_test, y_pred)\n",
    "    \n",
    "    if acc>0.97:\n",
    "        best_n_feature = i\n",
    "        print('best number of feature:',best_n_feature)\n",
    "        print('acc based on best number of feature:',acc)"
   ]
  },
  {
   "cell_type": "code",
   "execution_count": 314,
   "id": "4eb4e194",
   "metadata": {},
   "outputs": [],
   "source": [
    "DT = DecisionTreeClassifier()\n",
    "DT.fit(X_train, y_train)\n",
    "\n",
    "rfe = RFE(DT, 11)\n",
    "rfe = rfe.fit(X_train, y_train)\n",
    "\n",
    "# RFE (MODEL, Number of feature to select)"
   ]
  },
  {
   "cell_type": "code",
   "execution_count": null,
   "id": "2b70f4dc",
   "metadata": {},
   "outputs": [],
   "source": [
    "list(zip(X_train.columns,rfe.support_,rfe.ranking_))"
   ]
  },
  {
   "cell_type": "code",
   "execution_count": null,
   "id": "7b9655ab",
   "metadata": {},
   "outputs": [],
   "source": [
    "X_train.columns[rfe.support_]"
   ]
  },
  {
   "cell_type": "code",
   "execution_count": null,
   "id": "0a06b963",
   "metadata": {},
   "outputs": [],
   "source": [
    "X_train_rfe = X_train[X_train.columns[rfe.support_]]\n",
    "X_train_rfe.head()"
   ]
  },
  {
   "cell_type": "code",
   "execution_count": null,
   "id": "dddb6c47",
   "metadata": {},
   "outputs": [],
   "source": [
    "checkVIF(X_train_rfe)"
   ]
  },
  {
   "cell_type": "code",
   "execution_count": null,
   "id": "19df7dda",
   "metadata": {},
   "outputs": [],
   "source": [
    "X_train_new = build_model(X_train_rfe,y_train)"
   ]
  },
  {
   "cell_type": "code",
   "execution_count": null,
   "id": "d796a118",
   "metadata": {},
   "outputs": [],
   "source": []
  },
  {
   "cell_type": "markdown",
   "id": "9caf3d90",
   "metadata": {},
   "source": [
    "# Naive Bayes"
   ]
  },
  {
   "cell_type": "code",
   "execution_count": 317,
   "id": "8315f2c9",
   "metadata": {},
   "outputs": [],
   "source": [
    "from sklearn.naive_bayes import GaussianNB, MultinomialNB"
   ]
  },
  {
   "cell_type": "code",
   "execution_count": 318,
   "id": "237b279f",
   "metadata": {},
   "outputs": [
    {
     "data": {
      "text/plain": [
       "0.8185315540728384"
      ]
     },
     "execution_count": 318,
     "metadata": {},
     "output_type": "execute_result"
    }
   ],
   "source": [
    "GNB = GaussianNB()\n",
    "acc = cross_val_score(GNB, X, y, cv=10, scoring='accuracy')\n",
    "acc_GaussianNB = acc.mean()\n",
    "acc_GaussianNB"
   ]
  },
  {
   "cell_type": "code",
   "execution_count": 319,
   "id": "b87e2c45",
   "metadata": {},
   "outputs": [
    {
     "data": {
      "text/plain": [
       "0.8339588546010563"
      ]
     },
     "execution_count": 319,
     "metadata": {},
     "output_type": "execute_result"
    }
   ],
   "source": [
    "MNB = MultinomialNB()\n",
    "acc = cross_val_score(MNB, X, y, cv=10, scoring='accuracy')\n",
    "acc.mean()"
   ]
  },
  {
   "cell_type": "code",
   "execution_count": 320,
   "id": "025a362d",
   "metadata": {},
   "outputs": [
    {
     "data": {
      "text/plain": [
       "0.8399333055439766"
      ]
     },
     "execution_count": 320,
     "metadata": {},
     "output_type": "execute_result"
    }
   ],
   "source": [
    "GNB = GaussianNB()\n",
    "\n",
    "GNB.fit(X_train, y_train)\n",
    "pred = GNB.predict(X_test)\n",
    "\n",
    "acc_GaussianNB_trainTest = (pred==y_test).mean()\n",
    "acc_GaussianNB_trainTest"
   ]
  },
  {
   "cell_type": "code",
   "execution_count": 322,
   "id": "ba9d9745",
   "metadata": {
    "collapsed": true
   },
   "outputs": [
    {
     "name": "stderr",
     "output_type": "stream",
     "text": [
      "[Parallel(n_jobs=-1)]: Using backend LokyBackend with 12 concurrent workers.\n",
      "[Parallel(n_jobs=-1)]: Done   3 out of  17 | elapsed:    0.0s remaining:    0.0s\n",
      "[Parallel(n_jobs=-1)]: Done  12 out of  17 | elapsed:    0.0s remaining:    0.0s\n",
      "[Parallel(n_jobs=-1)]: Done  17 out of  17 | elapsed:    0.0s finished\n",
      "\n",
      "[2022-02-02 07:23:42] Features: 1/12 -- score: 0.8442452043369475[Parallel(n_jobs=-1)]: Using backend LokyBackend with 12 concurrent workers.\n",
      "[Parallel(n_jobs=-1)]: Done   2 out of  16 | elapsed:    0.0s remaining:    0.1s\n",
      "[Parallel(n_jobs=-1)]: Done  11 out of  16 | elapsed:    0.0s remaining:    0.0s\n",
      "[Parallel(n_jobs=-1)]: Done  16 out of  16 | elapsed:    0.0s finished\n",
      "\n",
      "[2022-02-02 07:23:42] Features: 2/12 -- score: 0.8550875729774813[Parallel(n_jobs=-1)]: Using backend LokyBackend with 12 concurrent workers.\n",
      "[Parallel(n_jobs=-1)]: Done   8 out of  15 | elapsed:    0.0s remaining:    0.0s\n",
      "[Parallel(n_jobs=-1)]: Done  15 out of  15 | elapsed:    0.0s finished\n",
      "\n",
      "[2022-02-02 07:23:42] Features: 3/12 -- score: 0.8595704753961635[Parallel(n_jobs=-1)]: Using backend LokyBackend with 12 concurrent workers.\n",
      "[Parallel(n_jobs=-1)]: Done   7 out of  14 | elapsed:    0.0s remaining:    0.0s\n",
      "[Parallel(n_jobs=-1)]: Done  14 out of  14 | elapsed:    0.0s finished\n",
      "\n",
      "[2022-02-02 07:23:42] Features: 4/12 -- score: 0.8595704753961635[Parallel(n_jobs=-1)]: Using backend LokyBackend with 12 concurrent workers.\n",
      "[Parallel(n_jobs=-1)]: Done   4 out of  13 | elapsed:    0.0s remaining:    0.0s\n",
      "[Parallel(n_jobs=-1)]: Done  11 out of  13 | elapsed:    0.0s remaining:    0.0s\n",
      "[Parallel(n_jobs=-1)]: Done  13 out of  13 | elapsed:    0.0s finished\n",
      "\n",
      "[2022-02-02 07:23:42] Features: 5/12 -- score: 0.8591534612176814[Parallel(n_jobs=-1)]: Using backend LokyBackend with 12 concurrent workers.\n",
      "[Parallel(n_jobs=-1)]: Done   3 out of  12 | elapsed:    0.0s remaining:    0.0s\n",
      "[Parallel(n_jobs=-1)]: Done  10 out of  12 | elapsed:    0.0s remaining:    0.0s\n",
      "[Parallel(n_jobs=-1)]: Done  12 out of  12 | elapsed:    0.0s finished\n",
      "\n",
      "[2022-02-02 07:23:42] Features: 6/12 -- score: 0.8576939115929942[Parallel(n_jobs=-1)]: Using backend LokyBackend with 12 concurrent workers.\n",
      "[Parallel(n_jobs=-1)]: Done   6 out of  11 | elapsed:    0.0s remaining:    0.0s\n",
      "[Parallel(n_jobs=-1)]: Done  11 out of  11 | elapsed:    0.0s finished\n",
      "\n",
      "[2022-02-02 07:23:42] Features: 7/12 -- score: 0.8570683903252712[Parallel(n_jobs=-1)]: Using backend LokyBackend with 12 concurrent workers.\n",
      "[Parallel(n_jobs=-1)]: Done   5 out of  10 | elapsed:    0.0s remaining:    0.0s\n",
      "[Parallel(n_jobs=-1)]: Done  10 out of  10 | elapsed:    0.0s finished\n",
      "\n",
      "[2022-02-02 07:23:42] Features: 8/12 -- score: 0.8566513761467889[Parallel(n_jobs=-1)]: Using backend LokyBackend with 12 concurrent workers.\n",
      "[Parallel(n_jobs=-1)]: Done   6 out of   9 | elapsed:    0.0s remaining:    0.0s\n",
      "[Parallel(n_jobs=-1)]: Done   9 out of   9 | elapsed:    0.0s finished\n",
      "\n",
      "[2022-02-02 07:23:42] Features: 9/12 -- score: 0.8559216013344454[Parallel(n_jobs=-1)]: Using backend LokyBackend with 12 concurrent workers.\n",
      "[Parallel(n_jobs=-1)]: Done   5 out of   8 | elapsed:    0.0s remaining:    0.0s\n"
     ]
    },
    {
     "name": "stdout",
     "output_type": "stream",
     "text": [
      "0.8595704753961635\n",
      "('number_project', 'average_montly_hours', 'salary')\n"
     ]
    },
    {
     "name": "stderr",
     "output_type": "stream",
     "text": [
      "[Parallel(n_jobs=-1)]: Done   8 out of   8 | elapsed:    0.0s finished\n",
      "\n",
      "[2022-02-02 07:23:42] Features: 10/12 -- score: 0.8558173477898249[Parallel(n_jobs=-1)]: Using backend LokyBackend with 12 concurrent workers.\n",
      "[Parallel(n_jobs=-1)]: Done   4 out of   7 | elapsed:    0.0s remaining:    0.0s\n",
      "[Parallel(n_jobs=-1)]: Done   7 out of   7 | elapsed:    0.0s finished\n",
      "\n",
      "[2022-02-02 07:23:43] Features: 11/12 -- score: 0.8544620517097581[Parallel(n_jobs=-1)]: Using backend LokyBackend with 12 concurrent workers.\n",
      "[Parallel(n_jobs=-1)]: Done   3 out of   6 | elapsed:    0.0s remaining:    0.0s\n",
      "[Parallel(n_jobs=-1)]: Done   6 out of   6 | elapsed:    0.0s finished\n",
      "\n",
      "[2022-02-02 07:23:43] Features: 12/12 -- score: 0.8508131776480401"
     ]
    }
   ],
   "source": [
    "sfs = SFS(GaussianNB(),\n",
    "          k_features = (3, 12),\n",
    "          forward= True,\n",
    "          floating = False,\n",
    "          verbose= 2,\n",
    "          scoring= 'accuracy',\n",
    "          cv = 4,\n",
    "          n_jobs= -1\n",
    "         ).fit(X_train, y_train)\n",
    "\n",
    "print(sfs.k_score_)\n",
    "print(sfs.k_feature_names_)"
   ]
  },
  {
   "cell_type": "code",
   "execution_count": 323,
   "id": "1e97717f",
   "metadata": {},
   "outputs": [
    {
     "name": "stdout",
     "output_type": "stream",
     "text": [
      "0.8595704753961635\n",
      "['number_project', 'average_montly_hours', 'salary']\n",
      "3\n"
     ]
    }
   ],
   "source": [
    "SFS_GaussianNB_score = sfs.k_score_\n",
    "SFS_GaussianNB_feature_names = list(sfs.k_feature_names_)\n",
    "SFS_GaussianNB_features_num = len(sfs.k_feature_idx_)\n",
    "print(SFS_GaussianNB_score)\n",
    "print(SFS_GaussianNB_feature_names)\n",
    "print(SFS_GaussianNB_features_num)"
   ]
  },
  {
   "cell_type": "code",
   "execution_count": 324,
   "id": "d00c90a9",
   "metadata": {
    "collapsed": true
   },
   "outputs": [
    {
     "name": "stderr",
     "output_type": "stream",
     "text": [
      "[Parallel(n_jobs=-1)]: Using backend LokyBackend with 12 concurrent workers.\n",
      "[Parallel(n_jobs=-1)]: Done   3 out of  17 | elapsed:    0.0s remaining:    0.2s\n",
      "[Parallel(n_jobs=-1)]: Done  12 out of  17 | elapsed:    0.0s remaining:    0.0s\n",
      "[Parallel(n_jobs=-1)]: Done  17 out of  17 | elapsed:    0.0s finished\n",
      "\n",
      "[2022-02-02 07:24:15] Features: 16/3 -- score: 0.8361134278565472[Parallel(n_jobs=-1)]: Using backend LokyBackend with 12 concurrent workers.\n",
      "[Parallel(n_jobs=-1)]: Done   2 out of  16 | elapsed:    0.0s remaining:    0.3s\n",
      "[Parallel(n_jobs=-1)]: Done  11 out of  16 | elapsed:    0.0s remaining:    0.0s\n",
      "[Parallel(n_jobs=-1)]: Done  16 out of  16 | elapsed:    0.0s finished\n",
      "\n",
      "[2022-02-02 07:24:15] Features: 15/3 -- score: 0.8414303586321934[Parallel(n_jobs=-1)]: Using backend LokyBackend with 12 concurrent workers.\n",
      "[Parallel(n_jobs=-1)]: Done   8 out of  15 | elapsed:    0.0s remaining:    0.0s\n",
      "[Parallel(n_jobs=-1)]: Done  15 out of  15 | elapsed:    0.0s finished\n",
      "\n",
      "[2022-02-02 07:24:16] Features: 14/3 -- score: 0.8465387823185988[Parallel(n_jobs=-1)]: Using backend LokyBackend with 12 concurrent workers.\n",
      "[Parallel(n_jobs=-1)]: Done   7 out of  14 | elapsed:    0.0s remaining:    0.0s\n",
      "[Parallel(n_jobs=-1)]: Done  14 out of  14 | elapsed:    0.0s finished\n",
      "\n",
      "[2022-02-02 07:24:16] Features: 13/3 -- score: 0.8522727272727273[Parallel(n_jobs=-1)]: Using backend LokyBackend with 12 concurrent workers.\n",
      "[Parallel(n_jobs=-1)]: Done   4 out of  13 | elapsed:    0.0s remaining:    0.0s\n",
      "[Parallel(n_jobs=-1)]: Done  11 out of  13 | elapsed:    0.0s remaining:    0.0s\n",
      "[Parallel(n_jobs=-1)]: Done  13 out of  13 | elapsed:    0.0s finished\n",
      "\n",
      "[2022-02-02 07:24:16] Features: 12/3 -- score: 0.8574854045037532[Parallel(n_jobs=-1)]: Using backend LokyBackend with 12 concurrent workers.\n",
      "[Parallel(n_jobs=-1)]: Done   3 out of  12 | elapsed:    0.0s remaining:    0.0s\n",
      "[Parallel(n_jobs=-1)]: Done  10 out of  12 | elapsed:    0.0s remaining:    0.0s\n",
      "[Parallel(n_jobs=-1)]: Done  12 out of  12 | elapsed:    0.0s finished\n",
      "\n",
      "[2022-02-02 07:24:16] Features: 11/3 -- score: 0.8584236864053377[Parallel(n_jobs=-1)]: Using backend LokyBackend with 12 concurrent workers.\n",
      "[Parallel(n_jobs=-1)]: Done   6 out of  11 | elapsed:    0.0s remaining:    0.0s\n",
      "[Parallel(n_jobs=-1)]: Done  11 out of  11 | elapsed:    0.0s finished\n",
      "\n",
      "[2022-02-02 07:24:16] Features: 10/3 -- score: 0.859883236030025[Parallel(n_jobs=-1)]: Using backend LokyBackend with 12 concurrent workers.\n",
      "[Parallel(n_jobs=-1)]: Done   5 out of  10 | elapsed:    0.0s remaining:    0.0s\n",
      "[Parallel(n_jobs=-1)]: Done  10 out of  10 | elapsed:    0.0s finished\n",
      "\n",
      "[2022-02-02 07:24:16] Features: 9/3 -- score: 0.8605087572977482[Parallel(n_jobs=-1)]: Using backend LokyBackend with 12 concurrent workers.\n",
      "[Parallel(n_jobs=-1)]: Done   6 out of   9 | elapsed:    0.0s remaining:    0.0s\n",
      "[Parallel(n_jobs=-1)]: Done   9 out of   9 | elapsed:    0.0s finished\n",
      "\n",
      "[2022-02-02 07:24:16] Features: 8/3 -- score: 0.8619683069224354[Parallel(n_jobs=-1)]: Using backend LokyBackend with 12 concurrent workers.\n",
      "[Parallel(n_jobs=-1)]: Done   5 out of   8 | elapsed:    0.0s remaining:    0.0s\n",
      "[Parallel(n_jobs=-1)]: Done   8 out of   8 | elapsed:    0.0s finished\n",
      "\n",
      "[2022-02-02 07:24:16] Features: 7/3 -- score: 0.862698081734779[Parallel(n_jobs=-1)]: Using backend LokyBackend with 12 concurrent workers.\n",
      "[Parallel(n_jobs=-1)]: Done   4 out of   7 | elapsed:    0.0s remaining:    0.0s\n"
     ]
    },
    {
     "name": "stdout",
     "output_type": "stream",
     "text": [
      "0.862698081734779\n",
      "('last_evaluation', 'number_project', 'average_montly_hours', 'Work_accident', 'salary', 'RandD', 'management')\n"
     ]
    },
    {
     "name": "stderr",
     "output_type": "stream",
     "text": [
      "[Parallel(n_jobs=-1)]: Done   7 out of   7 | elapsed:    0.0s finished\n",
      "\n",
      "[2022-02-02 07:24:16] Features: 6/3 -- score: 0.8603002502085071[Parallel(n_jobs=-1)]: Using backend LokyBackend with 12 concurrent workers.\n",
      "[Parallel(n_jobs=-1)]: Done   3 out of   6 | elapsed:    0.0s remaining:    0.0s\n",
      "[Parallel(n_jobs=-1)]: Done   6 out of   6 | elapsed:    0.0s finished\n",
      "\n",
      "[2022-02-02 07:24:16] Features: 5/3 -- score: 0.8603002502085072[Parallel(n_jobs=-1)]: Using backend LokyBackend with 12 concurrent workers.\n",
      "[Parallel(n_jobs=-1)]: Done   3 out of   5 | elapsed:    0.0s remaining:    0.0s\n",
      "[Parallel(n_jobs=-1)]: Done   5 out of   5 | elapsed:    0.0s finished\n",
      "\n",
      "[2022-02-02 07:24:16] Features: 4/3 -- score: 0.8597789824854045[Parallel(n_jobs=-1)]: Using backend LokyBackend with 12 concurrent workers.\n",
      "[Parallel(n_jobs=-1)]: Done   2 out of   4 | elapsed:    0.0s remaining:    0.0s\n",
      "[Parallel(n_jobs=-1)]: Done   4 out of   4 | elapsed:    0.0s finished\n",
      "\n",
      "[2022-02-02 07:24:16] Features: 3/3 -- score: 0.8445579649708089"
     ]
    }
   ],
   "source": [
    "sbs = SFS(GaussianNB(),\n",
    "         k_features = (3, 13),\n",
    "          forward= False,\n",
    "          floating = False,\n",
    "          verbose= 2,\n",
    "          scoring= 'accuracy',\n",
    "          cv = 4,\n",
    "          n_jobs= -1\n",
    "         ).fit(X_train, y_train)\n",
    "\n",
    "print(sbs.k_score_)\n",
    "print(sbs.k_feature_names_)"
   ]
  },
  {
   "cell_type": "code",
   "execution_count": 325,
   "id": "aa9514a9",
   "metadata": {},
   "outputs": [
    {
     "name": "stdout",
     "output_type": "stream",
     "text": [
      "0.862698081734779\n",
      "['last_evaluation', 'number_project', 'average_montly_hours', 'Work_accident', 'salary', 'RandD', 'management']\n",
      "7\n"
     ]
    }
   ],
   "source": [
    "SBS_GaussianNB_score = sbs.k_score_\n",
    "SBS_GaussianNB_feature_names = list(sbs.k_feature_names_)\n",
    "SBS_GaussianNB_features_num = len(sbs.k_feature_idx_)\n",
    "print(SBS_GaussianNB_score)\n",
    "print(SBS_GaussianNB_feature_names)\n",
    "print(SBS_GaussianNB_features_num)"
   ]
  },
  {
   "cell_type": "code",
   "execution_count": 328,
   "id": "42c6696a",
   "metadata": {
    "collapsed": true
   },
   "outputs": [
    {
     "name": "stderr",
     "output_type": "stream",
     "text": [
      "Features: 3000/21624IOPub message rate exceeded.\n",
      "The notebook server will temporarily stop sending output\n",
      "to the client in order to avoid crashing it.\n",
      "To change this limit, set the config variable\n",
      "`--NotebookApp.iopub_msg_rate_limit`.\n",
      "\n",
      "Current values:\n",
      "NotebookApp.iopub_msg_rate_limit=1000.0 (msgs/sec)\n",
      "NotebookApp.rate_limit_window=3.0 (secs)\n",
      "\n",
      "Features: 8200/21624IOPub message rate exceeded.\n",
      "The notebook server will temporarily stop sending output\n",
      "to the client in order to avoid crashing it.\n",
      "To change this limit, set the config variable\n",
      "`--NotebookApp.iopub_msg_rate_limit`.\n",
      "\n",
      "Current values:\n",
      "NotebookApp.iopub_msg_rate_limit=1000.0 (msgs/sec)\n",
      "NotebookApp.rate_limit_window=3.0 (secs)\n",
      "\n",
      "Features: 13551/21624IOPub message rate exceeded.\n",
      "The notebook server will temporarily stop sending output\n",
      "to the client in order to avoid crashing it.\n",
      "To change this limit, set the config variable\n",
      "`--NotebookApp.iopub_msg_rate_limit`.\n",
      "\n",
      "Current values:\n",
      "NotebookApp.iopub_msg_rate_limit=1000.0 (msgs/sec)\n",
      "NotebookApp.rate_limit_window=3.0 (secs)\n",
      "\n",
      "Features: 18964/21624IOPub message rate exceeded.\n",
      "The notebook server will temporarily stop sending output\n",
      "to the client in order to avoid crashing it.\n",
      "To change this limit, set the config variable\n",
      "`--NotebookApp.iopub_msg_rate_limit`.\n",
      "\n",
      "Current values:\n",
      "NotebookApp.iopub_msg_rate_limit=1000.0 (msgs/sec)\n",
      "NotebookApp.rate_limit_window=3.0 (secs)\n",
      "\n",
      "Features: 21624/21624"
     ]
    }
   ],
   "source": [
    "efs = EFS(GaussianNB(),\n",
    "         min_features = 3,\n",
    "          max_features=6,\n",
    "          scoring= 'accuracy',\n",
    "          cv = None,\n",
    "          n_jobs= -1\n",
    "         ).fit(X_train, y_train)"
   ]
  },
  {
   "cell_type": "code",
   "execution_count": 329,
   "id": "606fbda6",
   "metadata": {},
   "outputs": [
    {
     "name": "stdout",
     "output_type": "stream",
     "text": [
      "0.871768140116764\n",
      "['last_evaluation', 'number_project', 'Work_accident', 'salary', 'RandD', 'product_mng']\n",
      "6\n"
     ]
    }
   ],
   "source": [
    "EFS_GaussianNB_score = efs.best_score_\n",
    "EFS_GaussianNB_feature_names = list(efs.best_feature_names_)\n",
    "EFS_GaussianNB_features_num = len(efs.best_idx_)\n",
    "print(EFS_GaussianNB_score)\n",
    "print(EFS_GaussianNB_feature_names)\n",
    "print(EFS_GaussianNB_features_num)"
   ]
  },
  {
   "cell_type": "code",
   "execution_count": 330,
   "id": "aff98b99",
   "metadata": {},
   "outputs": [],
   "source": [
    "X_train_new = X_train\n",
    "X_test_new = X_test"
   ]
  },
  {
   "cell_type": "code",
   "execution_count": 331,
   "id": "e5f180fa",
   "metadata": {},
   "outputs": [
    {
     "name": "stdout",
     "output_type": "stream",
     "text": [
      "(9592, 17)\n",
      "(2399, 17)\n"
     ]
    }
   ],
   "source": [
    "print(X_train_new.shape)\n",
    "print(X_test_new.shape)"
   ]
  },
  {
   "cell_type": "code",
   "execution_count": 332,
   "id": "9280c1b8",
   "metadata": {},
   "outputs": [
    {
     "ename": "ValueError",
     "evalue": "when `importance_getter=='auto'`, the underlying estimator GaussianNB should have `coef_` or `feature_importances_` attribute. Either pass a fitted estimator to feature selector or call fit before calling transform.",
     "output_type": "error",
     "traceback": [
      "\u001b[1;31m---------------------------------------------------------------------------\u001b[0m",
      "\u001b[1;31mValueError\u001b[0m                                Traceback (most recent call last)",
      "\u001b[1;32m<ipython-input-332-f70bc5249d9a>\u001b[0m in \u001b[0;36m<module>\u001b[1;34m\u001b[0m\n\u001b[0;32m      9\u001b[0m \u001b[1;33m\u001b[0m\u001b[0m\n\u001b[0;32m     10\u001b[0m     \u001b[0mrfe\u001b[0m \u001b[1;33m=\u001b[0m \u001b[0mRFE\u001b[0m\u001b[1;33m(\u001b[0m\u001b[0mGNB\u001b[0m\u001b[1;33m,\u001b[0m \u001b[0mi\u001b[0m\u001b[1;33m)\u001b[0m \u001b[1;31m#fit RFE model with different number of features 1 to 32\u001b[0m\u001b[1;33m\u001b[0m\u001b[1;33m\u001b[0m\u001b[0m\n\u001b[1;32m---> 11\u001b[1;33m     \u001b[0mrfe\u001b[0m \u001b[1;33m=\u001b[0m \u001b[0mrfe\u001b[0m\u001b[1;33m.\u001b[0m\u001b[0mfit\u001b[0m\u001b[1;33m(\u001b[0m\u001b[0mX_train\u001b[0m\u001b[1;33m,\u001b[0m \u001b[0my_train\u001b[0m\u001b[1;33m)\u001b[0m\u001b[1;33m\u001b[0m\u001b[1;33m\u001b[0m\u001b[0m\n\u001b[0m\u001b[0;32m     12\u001b[0m \u001b[1;33m\u001b[0m\u001b[0m\n\u001b[0;32m     13\u001b[0m     \u001b[0my_pred\u001b[0m\u001b[1;33m=\u001b[0m \u001b[0mrfe\u001b[0m\u001b[1;33m.\u001b[0m\u001b[0mpredict\u001b[0m\u001b[1;33m(\u001b[0m\u001b[0mX_test\u001b[0m\u001b[1;33m)\u001b[0m\u001b[1;33m\u001b[0m\u001b[1;33m\u001b[0m\u001b[0m\n",
      "\u001b[1;32m~\\anaconda3\\lib\\site-packages\\sklearn\\feature_selection\\_rfe.py\u001b[0m in \u001b[0;36mfit\u001b[1;34m(self, X, y)\u001b[0m\n\u001b[0;32m    182\u001b[0m             \u001b[0mThe\u001b[0m \u001b[0mtarget\u001b[0m \u001b[0mvalues\u001b[0m\u001b[1;33m.\u001b[0m\u001b[1;33m\u001b[0m\u001b[1;33m\u001b[0m\u001b[0m\n\u001b[0;32m    183\u001b[0m         \"\"\"\n\u001b[1;32m--> 184\u001b[1;33m         \u001b[1;32mreturn\u001b[0m \u001b[0mself\u001b[0m\u001b[1;33m.\u001b[0m\u001b[0m_fit\u001b[0m\u001b[1;33m(\u001b[0m\u001b[0mX\u001b[0m\u001b[1;33m,\u001b[0m \u001b[0my\u001b[0m\u001b[1;33m)\u001b[0m\u001b[1;33m\u001b[0m\u001b[1;33m\u001b[0m\u001b[0m\n\u001b[0m\u001b[0;32m    185\u001b[0m \u001b[1;33m\u001b[0m\u001b[0m\n\u001b[0;32m    186\u001b[0m     \u001b[1;32mdef\u001b[0m \u001b[0m_fit\u001b[0m\u001b[1;33m(\u001b[0m\u001b[0mself\u001b[0m\u001b[1;33m,\u001b[0m \u001b[0mX\u001b[0m\u001b[1;33m,\u001b[0m \u001b[0my\u001b[0m\u001b[1;33m,\u001b[0m \u001b[0mstep_score\u001b[0m\u001b[1;33m=\u001b[0m\u001b[1;32mNone\u001b[0m\u001b[1;33m)\u001b[0m\u001b[1;33m:\u001b[0m\u001b[1;33m\u001b[0m\u001b[1;33m\u001b[0m\u001b[0m\n",
      "\u001b[1;32m~\\anaconda3\\lib\\site-packages\\sklearn\\feature_selection\\_rfe.py\u001b[0m in \u001b[0;36m_fit\u001b[1;34m(self, X, y, step_score)\u001b[0m\n\u001b[0;32m    242\u001b[0m \u001b[1;33m\u001b[0m\u001b[0m\n\u001b[0;32m    243\u001b[0m             \u001b[1;31m# Get importance and rank them\u001b[0m\u001b[1;33m\u001b[0m\u001b[1;33m\u001b[0m\u001b[1;33m\u001b[0m\u001b[0m\n\u001b[1;32m--> 244\u001b[1;33m             importances = _get_feature_importances(\n\u001b[0m\u001b[0;32m    245\u001b[0m                 \u001b[0mestimator\u001b[0m\u001b[1;33m,\u001b[0m \u001b[0mself\u001b[0m\u001b[1;33m.\u001b[0m\u001b[0mimportance_getter\u001b[0m\u001b[1;33m,\u001b[0m \u001b[0mtransform_func\u001b[0m\u001b[1;33m=\u001b[0m\u001b[1;34m\"square\"\u001b[0m\u001b[1;33m,\u001b[0m\u001b[1;33m\u001b[0m\u001b[1;33m\u001b[0m\u001b[0m\n\u001b[0;32m    246\u001b[0m             )\n",
      "\u001b[1;32m~\\anaconda3\\lib\\site-packages\\sklearn\\feature_selection\\_base.py\u001b[0m in \u001b[0;36m_get_feature_importances\u001b[1;34m(estimator, getter, transform_func, norm_order)\u001b[0m\n\u001b[0;32m    171\u001b[0m                 \u001b[0mgetter\u001b[0m \u001b[1;33m=\u001b[0m \u001b[0mattrgetter\u001b[0m\u001b[1;33m(\u001b[0m\u001b[1;34m'feature_importances_'\u001b[0m\u001b[1;33m)\u001b[0m\u001b[1;33m\u001b[0m\u001b[1;33m\u001b[0m\u001b[0m\n\u001b[0;32m    172\u001b[0m             \u001b[1;32melse\u001b[0m\u001b[1;33m:\u001b[0m\u001b[1;33m\u001b[0m\u001b[1;33m\u001b[0m\u001b[0m\n\u001b[1;32m--> 173\u001b[1;33m                 raise ValueError(\n\u001b[0m\u001b[0;32m    174\u001b[0m                     \u001b[1;34mf\"when `importance_getter=='auto'`, the underlying \"\u001b[0m\u001b[1;33m\u001b[0m\u001b[1;33m\u001b[0m\u001b[0m\n\u001b[0;32m    175\u001b[0m                     \u001b[1;34mf\"estimator {estimator.__class__.__name__} should have \"\u001b[0m\u001b[1;33m\u001b[0m\u001b[1;33m\u001b[0m\u001b[0m\n",
      "\u001b[1;31mValueError\u001b[0m: when `importance_getter=='auto'`, the underlying estimator GaussianNB should have `coef_` or `feature_importances_` attribute. Either pass a fitted estimator to feature selector or call fit before calling transform."
     ]
    }
   ],
   "source": [
    "# from sklearn.metrics import accuracy_score\n",
    "\n",
    "for i in range(1, X_train.shape[1]+1):\n",
    "#     lm = LinearRegression() #creat LR model on train set\n",
    "#     lm.fit(X_train,y_train)\n",
    "    \n",
    "    GNB = GaussianNB()\n",
    "    GNB.fit(X_train, y_train)\n",
    "    \n",
    "    rfe = RFE(GNB, i) #fit RFE model with different number of features 1 to 32\n",
    "    rfe = rfe.fit(X_train, y_train)\n",
    "    \n",
    "    y_pred= rfe.predict(X_test)\n",
    "    acc = accuracy_score(y_test, y_pred)\n",
    "    \n",
    "    if acc>0.97:\n",
    "        best_n_feature = i\n",
    "        print('best number of feature:',best_n_feature)\n",
    "        print('acc based on best number of feature:',acc)"
   ]
  },
  {
   "cell_type": "code",
   "execution_count": null,
   "id": "6809c58d",
   "metadata": {},
   "outputs": [],
   "source": []
  },
  {
   "cell_type": "code",
   "execution_count": null,
   "id": "e00467bd",
   "metadata": {},
   "outputs": [],
   "source": []
  },
  {
   "cell_type": "markdown",
   "id": "d52a9ab9",
   "metadata": {},
   "source": [
    "# Logistic Regression"
   ]
  },
  {
   "cell_type": "code",
   "execution_count": 334,
   "id": "d4120c3d",
   "metadata": {},
   "outputs": [],
   "source": [
    "from sklearn.linear_model import LogisticRegression"
   ]
  },
  {
   "cell_type": "code",
   "execution_count": 335,
   "id": "ad91b25e",
   "metadata": {},
   "outputs": [
    {
     "data": {
      "text/plain": [
       "0.7857440600250104"
      ]
     },
     "execution_count": 335,
     "metadata": {},
     "output_type": "execute_result"
    }
   ],
   "source": [
    "loreg = LogisticRegression(class_weight='balanced')\n",
    "\n",
    "loreg.fit(X_train, y_train)\n",
    "\n",
    "y_pred = loreg.predict(X_test)\n",
    "\n",
    "acc_logreg = accuracy_score(y_test, y_pred)\n",
    "acc_logreg"
   ]
  },
  {
   "cell_type": "code",
   "execution_count": 336,
   "id": "66fe84ce",
   "metadata": {},
   "outputs": [
    {
     "data": {
      "text/plain": [
       "GridSearchCV(cv=10, estimator=LogisticRegression(),\n",
       "             param_grid={'class_weight': ['balanced', {0: 0.3, 1: 0.7},\n",
       "                                          {0: 0.4, 1: 0.6}],\n",
       "                         'penalty': ['l1', 'l2', 'elasticnet', 'none'],\n",
       "                         'solver': ['newton-cg', 'lbfgs', 'liblinear', 'sag',\n",
       "                                    'saga']},\n",
       "             scoring='accuracy')"
      ]
     },
     "execution_count": 336,
     "metadata": {},
     "output_type": "execute_result"
    }
   ],
   "source": [
    "loreg = LogisticRegression()\n",
    "\n",
    "param = {'class_weight':['balanced', {0:0.3, 1:0.7}, {0:0.4, 1:0.6}],\n",
    "        'penalty':['l1', 'l2', 'elasticnet', 'none'],\n",
    "        'solver':['newton-cg', 'lbfgs', 'liblinear', 'sag', 'saga']}\n",
    "\n",
    "GS = GridSearchCV(loreg, param, cv=10, scoring='accuracy')\n",
    "\n",
    "GS.fit(X, y)"
   ]
  },
  {
   "cell_type": "code",
   "execution_count": 337,
   "id": "91fc80b1",
   "metadata": {},
   "outputs": [
    {
     "data": {
      "text/plain": [
       "{'class_weight': {0: 0.3, 1: 0.7}, 'penalty': 'l2', 'solver': 'liblinear'}"
      ]
     },
     "execution_count": 337,
     "metadata": {},
     "output_type": "execute_result"
    }
   ],
   "source": [
    "GS.best_params_"
   ]
  },
  {
   "cell_type": "code",
   "execution_count": 338,
   "id": "4db82089",
   "metadata": {},
   "outputs": [
    {
     "data": {
      "text/plain": [
       "0.8153591882123992"
      ]
     },
     "execution_count": 338,
     "metadata": {},
     "output_type": "execute_result"
    }
   ],
   "source": [
    "GS.best_score_"
   ]
  },
  {
   "cell_type": "code",
   "execution_count": 339,
   "id": "4bc90d22",
   "metadata": {},
   "outputs": [
    {
     "data": {
      "text/plain": [
       "0.822426010837849"
      ]
     },
     "execution_count": 339,
     "metadata": {},
     "output_type": "execute_result"
    }
   ],
   "source": [
    "loreg = LogisticRegression(class_weight = {0: 0.3, 1: 0.7},\n",
    "                           penalty = 'l2', \n",
    "                           solver = 'liblinear')\n",
    "\n",
    "loreg.fit(X_train, y_train)\n",
    "\n",
    "y_pred = loreg.predict(X_test)\n",
    "\n",
    "accuracy_score(y_test, y_pred)"
   ]
  },
  {
   "cell_type": "code",
   "execution_count": 340,
   "id": "4c5d4564",
   "metadata": {},
   "outputs": [
    {
     "data": {
      "text/plain": [
       "0.8153591882123992"
      ]
     },
     "execution_count": 340,
     "metadata": {},
     "output_type": "execute_result"
    }
   ],
   "source": [
    "loreg = LogisticRegression(class_weight = {0: 0.3, 1: 0.7},\n",
    "                           penalty = 'l2', \n",
    "                           solver = 'liblinear')\n",
    "\n",
    "\n",
    "acc = cross_val_score(loreg, X, y, cv=10, scoring='accuracy')\n",
    "acc_logreg = acc.mean()\n",
    "acc_logreg"
   ]
  },
  {
   "cell_type": "code",
   "execution_count": 342,
   "id": "46ed2085",
   "metadata": {},
   "outputs": [
    {
     "data": {
      "text/plain": [
       "0.822426010837849"
      ]
     },
     "execution_count": 342,
     "metadata": {},
     "output_type": "execute_result"
    }
   ],
   "source": [
    "logreg = LogisticRegression(class_weight = {0: 0.3, 1: 0.7},\n",
    "                           penalty = 'l2', \n",
    "                           solver = 'liblinear')\n",
    "\n",
    "logreg.fit(X_train, y_train)\n",
    "pred = logreg.predict(X_test)\n",
    "\n",
    "acc_logreg_trainTest = (pred == y_test).mean()\n",
    "acc_logreg_trainTest"
   ]
  },
  {
   "cell_type": "code",
   "execution_count": 344,
   "id": "1d9e37f6",
   "metadata": {
    "collapsed": true
   },
   "outputs": [
    {
     "name": "stderr",
     "output_type": "stream",
     "text": [
      "[Parallel(n_jobs=-1)]: Using backend LokyBackend with 12 concurrent workers.\n",
      "[Parallel(n_jobs=-1)]: Done   3 out of  17 | elapsed:    0.0s remaining:    0.1s\n",
      "[Parallel(n_jobs=-1)]: Done  12 out of  17 | elapsed:    0.0s remaining:    0.0s\n",
      "[Parallel(n_jobs=-1)]: Done  17 out of  17 | elapsed:    0.0s finished\n",
      "\n",
      "[2022-02-02 07:31:18] Features: 1/12 -- score: 0.8323603002502085[Parallel(n_jobs=-1)]: Using backend LokyBackend with 12 concurrent workers.\n",
      "[Parallel(n_jobs=-1)]: Done   2 out of  16 | elapsed:    0.0s remaining:    0.2s\n",
      "[Parallel(n_jobs=-1)]: Done  11 out of  16 | elapsed:    0.0s remaining:    0.0s\n",
      "[Parallel(n_jobs=-1)]: Done  16 out of  16 | elapsed:    0.0s finished\n",
      "\n",
      "[2022-02-02 07:31:18] Features: 2/12 -- score: 0.8323603002502085[Parallel(n_jobs=-1)]: Using backend LokyBackend with 12 concurrent workers.\n",
      "[Parallel(n_jobs=-1)]: Done   8 out of  15 | elapsed:    0.0s remaining:    0.0s\n",
      "[Parallel(n_jobs=-1)]: Done  15 out of  15 | elapsed:    0.0s finished\n",
      "\n",
      "[2022-02-02 07:31:18] Features: 3/12 -- score: 0.8323603002502085[Parallel(n_jobs=-1)]: Using backend LokyBackend with 12 concurrent workers.\n",
      "[Parallel(n_jobs=-1)]: Done   7 out of  14 | elapsed:    0.0s remaining:    0.0s\n",
      "[Parallel(n_jobs=-1)]: Done  14 out of  14 | elapsed:    0.0s finished\n",
      "\n",
      "[2022-02-02 07:31:18] Features: 4/12 -- score: 0.8323603002502085[Parallel(n_jobs=-1)]: Using backend LokyBackend with 12 concurrent workers.\n",
      "[Parallel(n_jobs=-1)]: Done   4 out of  13 | elapsed:    0.0s remaining:    0.0s\n",
      "[Parallel(n_jobs=-1)]: Done  11 out of  13 | elapsed:    0.0s remaining:    0.0s\n",
      "[Parallel(n_jobs=-1)]: Done  13 out of  13 | elapsed:    0.0s finished\n",
      "\n",
      "[2022-02-02 07:31:18] Features: 5/12 -- score: 0.8323603002502085[Parallel(n_jobs=-1)]: Using backend LokyBackend with 12 concurrent workers.\n",
      "[Parallel(n_jobs=-1)]: Done   3 out of  12 | elapsed:    0.0s remaining:    0.0s\n",
      "[Parallel(n_jobs=-1)]: Done  10 out of  12 | elapsed:    0.0s remaining:    0.0s\n",
      "[Parallel(n_jobs=-1)]: Done  12 out of  12 | elapsed:    0.0s finished\n",
      "\n",
      "[2022-02-02 07:31:18] Features: 6/12 -- score: 0.8323603002502085[Parallel(n_jobs=-1)]: Using backend LokyBackend with 12 concurrent workers.\n",
      "[Parallel(n_jobs=-1)]: Done   6 out of  11 | elapsed:    0.0s remaining:    0.0s\n",
      "[Parallel(n_jobs=-1)]: Done  11 out of  11 | elapsed:    0.0s finished\n",
      "\n",
      "[2022-02-02 07:31:18] Features: 7/12 -- score: 0.8323603002502085[Parallel(n_jobs=-1)]: Using backend LokyBackend with 12 concurrent workers.\n",
      "[Parallel(n_jobs=-1)]: Done   5 out of  10 | elapsed:    0.0s remaining:    0.0s\n",
      "[Parallel(n_jobs=-1)]: Done  10 out of  10 | elapsed:    0.0s finished\n",
      "\n",
      "[2022-02-02 07:31:18] Features: 8/12 -- score: 0.8323603002502085[Parallel(n_jobs=-1)]: Using backend LokyBackend with 12 concurrent workers.\n",
      "[Parallel(n_jobs=-1)]: Done   6 out of   9 | elapsed:    0.0s remaining:    0.0s\n"
     ]
    },
    {
     "name": "stdout",
     "output_type": "stream",
     "text": [
      "0.8323603002502085\n",
      "('last_evaluation', 'number_project', 'average_montly_hours')\n"
     ]
    },
    {
     "name": "stderr",
     "output_type": "stream",
     "text": [
      "[Parallel(n_jobs=-1)]: Done   9 out of   9 | elapsed:    0.0s finished\n",
      "\n",
      "[2022-02-02 07:31:18] Features: 9/12 -- score: 0.8323603002502085[Parallel(n_jobs=-1)]: Using backend LokyBackend with 12 concurrent workers.\n",
      "[Parallel(n_jobs=-1)]: Done   5 out of   8 | elapsed:    0.0s remaining:    0.0s\n",
      "[Parallel(n_jobs=-1)]: Done   8 out of   8 | elapsed:    0.0s finished\n",
      "\n",
      "[2022-02-02 07:31:18] Features: 10/12 -- score: 0.8323603002502085[Parallel(n_jobs=-1)]: Using backend LokyBackend with 12 concurrent workers.\n",
      "[Parallel(n_jobs=-1)]: Done   4 out of   7 | elapsed:    0.0s remaining:    0.0s\n",
      "[Parallel(n_jobs=-1)]: Done   7 out of   7 | elapsed:    0.0s finished\n",
      "\n",
      "[2022-02-02 07:31:18] Features: 11/12 -- score: 0.8323603002502085[Parallel(n_jobs=-1)]: Using backend LokyBackend with 12 concurrent workers.\n",
      "[Parallel(n_jobs=-1)]: Done   3 out of   6 | elapsed:    0.0s remaining:    0.0s\n",
      "[Parallel(n_jobs=-1)]: Done   6 out of   6 | elapsed:    0.0s finished\n",
      "\n",
      "[2022-02-02 07:31:18] Features: 12/12 -- score: 0.8323603002502085"
     ]
    }
   ],
   "source": [
    "# sfs = SFS(LogisticRegression(class_weight = {0: 0.3, 1: 0.7}, penalty = 'l2', solver = 'liblinear'),\n",
    "#           k_features = (3, 12),\n",
    "#           forward= True,\n",
    "#           floating = False,\n",
    "#           verbose= 2,\n",
    "#           scoring= 'accuracy',\n",
    "#           cv = 4,\n",
    "#           n_jobs= -1\n",
    "#          ).fit(X_train, y_train)\n",
    "\n",
    "# print(sfs.k_score_)\n",
    "# print(sfs.k_feature_names_)"
   ]
  },
  {
   "cell_type": "code",
   "execution_count": 345,
   "id": "af1992ae",
   "metadata": {},
   "outputs": [
    {
     "name": "stdout",
     "output_type": "stream",
     "text": [
      "0.8323603002502085\n",
      "['last_evaluation', 'number_project', 'average_montly_hours']\n",
      "3\n"
     ]
    }
   ],
   "source": [
    "SFS_logreg_score = sfs.k_score_\n",
    "SFS_logreg_feature_names = list(sfs.k_feature_names_)\n",
    "SFS_logreg_features_num = len(sfs.k_feature_idx_)\n",
    "print(SFS_logreg_score)\n",
    "print(SFS_logreg_feature_names)\n",
    "print(SFS_logreg_features_num)"
   ]
  },
  {
   "cell_type": "code",
   "execution_count": 346,
   "id": "419c8e5c",
   "metadata": {
    "collapsed": true
   },
   "outputs": [
    {
     "name": "stderr",
     "output_type": "stream",
     "text": [
      "[Parallel(n_jobs=-1)]: Using backend LokyBackend with 12 concurrent workers.\n",
      "[Parallel(n_jobs=-1)]: Done   3 out of  17 | elapsed:    0.0s remaining:    0.4s\n",
      "[Parallel(n_jobs=-1)]: Done  12 out of  17 | elapsed:    0.0s remaining:    0.0s\n",
      "[Parallel(n_jobs=-1)]: Done  17 out of  17 | elapsed:    0.1s finished\n",
      "\n",
      "[2022-02-02 07:31:51] Features: 16/1 -- score: 0.8265221017514595[Parallel(n_jobs=-1)]: Using backend LokyBackend with 12 concurrent workers.\n",
      "[Parallel(n_jobs=-1)]: Done   2 out of  16 | elapsed:    0.0s remaining:    0.5s\n",
      "[Parallel(n_jobs=-1)]: Done  11 out of  16 | elapsed:    0.0s remaining:    0.0s\n",
      "[Parallel(n_jobs=-1)]: Done  16 out of  16 | elapsed:    0.0s finished\n",
      "\n",
      "[2022-02-02 07:31:51] Features: 15/1 -- score: 0.8313177648040033[Parallel(n_jobs=-1)]: Using backend LokyBackend with 12 concurrent workers.\n",
      "[Parallel(n_jobs=-1)]: Done   8 out of  15 | elapsed:    0.0s remaining:    0.0s\n",
      "[Parallel(n_jobs=-1)]: Done  15 out of  15 | elapsed:    0.0s finished\n",
      "\n",
      "[2022-02-02 07:31:51] Features: 14/1 -- score: 0.8389282735613011[Parallel(n_jobs=-1)]: Using backend LokyBackend with 12 concurrent workers.\n",
      "[Parallel(n_jobs=-1)]: Done   7 out of  14 | elapsed:    0.0s remaining:    0.0s\n",
      "[Parallel(n_jobs=-1)]: Done  14 out of  14 | elapsed:    0.0s finished\n",
      "\n",
      "[2022-02-02 07:31:51] Features: 13/1 -- score: 0.8467472894078399[Parallel(n_jobs=-1)]: Using backend LokyBackend with 12 concurrent workers.\n",
      "[Parallel(n_jobs=-1)]: Done   4 out of  13 | elapsed:    0.0s remaining:    0.0s\n",
      "[Parallel(n_jobs=-1)]: Done  11 out of  13 | elapsed:    0.0s remaining:    0.0s\n",
      "[Parallel(n_jobs=-1)]: Done  13 out of  13 | elapsed:    0.0s finished\n",
      "\n",
      "[2022-02-02 07:31:51] Features: 12/1 -- score: 0.8470600500417014[Parallel(n_jobs=-1)]: Using backend LokyBackend with 12 concurrent workers.\n",
      "[Parallel(n_jobs=-1)]: Done   3 out of  12 | elapsed:    0.0s remaining:    0.1s\n",
      "[Parallel(n_jobs=-1)]: Done  10 out of  12 | elapsed:    0.0s remaining:    0.0s\n",
      "[Parallel(n_jobs=-1)]: Done  12 out of  12 | elapsed:    0.0s finished\n",
      "\n",
      "[2022-02-02 07:31:51] Features: 11/1 -- score: 0.8485195996663887[Parallel(n_jobs=-1)]: Using backend LokyBackend with 12 concurrent workers.\n",
      "[Parallel(n_jobs=-1)]: Done   6 out of  11 | elapsed:    0.0s remaining:    0.0s\n",
      "[Parallel(n_jobs=-1)]: Done  11 out of  11 | elapsed:    0.0s finished\n",
      "\n",
      "[2022-02-02 07:31:51] Features: 10/1 -- score: 0.8488323603002502[Parallel(n_jobs=-1)]: Using backend LokyBackend with 12 concurrent workers.\n",
      "[Parallel(n_jobs=-1)]: Done   5 out of  10 | elapsed:    0.0s remaining:    0.0s\n",
      "[Parallel(n_jobs=-1)]: Done  10 out of  10 | elapsed:    0.0s finished\n",
      "\n",
      "[2022-02-02 07:31:52] Features: 9/1 -- score: 0.8490408673894912[Parallel(n_jobs=-1)]: Using backend LokyBackend with 12 concurrent workers.\n",
      "[Parallel(n_jobs=-1)]: Done   6 out of   9 | elapsed:    0.0s remaining:    0.0s\n",
      "[Parallel(n_jobs=-1)]: Done   9 out of   9 | elapsed:    0.0s finished\n",
      "\n",
      "[2022-02-02 07:31:52] Features: 8/1 -- score: 0.8492493744787324[Parallel(n_jobs=-1)]: Using backend LokyBackend with 12 concurrent workers.\n",
      "[Parallel(n_jobs=-1)]: Done   5 out of   8 | elapsed:    0.0s remaining:    0.0s\n",
      "[Parallel(n_jobs=-1)]: Done   8 out of   8 | elapsed:    0.0s finished\n",
      "\n",
      "[2022-02-02 07:31:52] Features: 7/1 -- score: 0.8476855713094246[Parallel(n_jobs=-1)]: Using backend LokyBackend with 12 concurrent workers.\n",
      "[Parallel(n_jobs=-1)]: Done   4 out of   7 | elapsed:    0.0s remaining:    0.0s\n"
     ]
    },
    {
     "name": "stdout",
     "output_type": "stream",
     "text": [
      "0.8492493744787324\n",
      "('satisfaction_level', 'number_project', 'Work_accident', 'promotion_last_5years', 'RandD', 'management', 'marketing', 'product_mng')\n"
     ]
    },
    {
     "name": "stderr",
     "output_type": "stream",
     "text": [
      "[Parallel(n_jobs=-1)]: Done   7 out of   7 | elapsed:    0.0s finished\n",
      "\n",
      "[2022-02-02 07:31:52] Features: 6/1 -- score: 0.8474770642201835[Parallel(n_jobs=-1)]: Using backend LokyBackend with 12 concurrent workers.\n",
      "[Parallel(n_jobs=-1)]: Done   3 out of   6 | elapsed:    0.0s remaining:    0.0s\n",
      "[Parallel(n_jobs=-1)]: Done   6 out of   6 | elapsed:    0.0s finished\n",
      "\n",
      "[2022-02-02 07:31:52] Features: 5/1 -- score: 0.8465387823185988[Parallel(n_jobs=-1)]: Using backend LokyBackend with 12 concurrent workers.\n",
      "[Parallel(n_jobs=-1)]: Done   3 out of   5 | elapsed:    0.0s remaining:    0.0s\n",
      "[Parallel(n_jobs=-1)]: Done   5 out of   5 | elapsed:    0.0s finished\n",
      "\n",
      "[2022-02-02 07:31:52] Features: 4/1 -- score: 0.844974979149291[Parallel(n_jobs=-1)]: Using backend LokyBackend with 12 concurrent workers.\n",
      "[Parallel(n_jobs=-1)]: Done   2 out of   4 | elapsed:    0.0s remaining:    0.0s\n",
      "[Parallel(n_jobs=-1)]: Done   4 out of   4 | elapsed:    0.0s finished\n",
      "\n",
      "[2022-02-02 07:31:52] Features: 3/1 -- score: 0.8399708090075063[Parallel(n_jobs=-1)]: Using backend LokyBackend with 12 concurrent workers.\n",
      "[Parallel(n_jobs=-1)]: Done   3 out of   3 | elapsed:    0.0s finished\n",
      "\n",
      "[2022-02-02 07:31:52] Features: 2/1 -- score: 0.8323603002502085[Parallel(n_jobs=-1)]: Using backend LokyBackend with 12 concurrent workers.\n",
      "[Parallel(n_jobs=-1)]: Done   2 out of   2 | elapsed:    0.0s finished\n",
      "\n",
      "[2022-02-02 07:31:52] Features: 1/1 -- score: 0.8323603002502085"
     ]
    }
   ],
   "source": [
    "# sbs = SFS(LogisticRegression(class_weight = {0: 0.3, 1: 0.7}, penalty = 'l2', solver = 'liblinear'),\n",
    "#          k_features = (1, 13),\n",
    "#           forward= False,\n",
    "#           floating = False,\n",
    "#           verbose= 2,\n",
    "#           scoring= 'accuracy',\n",
    "#           cv = 4,\n",
    "#           n_jobs= -1\n",
    "#          ).fit(X_train, y_train)\n",
    "\n",
    "# print(sbs.k_score_)\n",
    "# print(sbs.k_feature_names_)"
   ]
  },
  {
   "cell_type": "code",
   "execution_count": 347,
   "id": "361608b9",
   "metadata": {},
   "outputs": [
    {
     "name": "stdout",
     "output_type": "stream",
     "text": [
      "0.8492493744787324\n",
      "['satisfaction_level', 'number_project', 'Work_accident', 'promotion_last_5years', 'RandD', 'management', 'marketing', 'product_mng']\n",
      "8\n"
     ]
    }
   ],
   "source": [
    "SBS_logreg_score = sbs.k_score_\n",
    "SBS_logreg_feature_names = list(sbs.k_feature_names_)\n",
    "SBS_logreg_features_num = len(sbs.k_feature_idx_)\n",
    "print(SBS_logreg_score)\n",
    "print(SBS_logreg_feature_names)\n",
    "print(SBS_logreg_features_num)"
   ]
  },
  {
   "cell_type": "code",
   "execution_count": 348,
   "id": "18758452",
   "metadata": {
    "collapsed": true
   },
   "outputs": [
    {
     "name": "stderr",
     "output_type": "stream",
     "text": [
      "Features: 3000/9248IOPub message rate exceeded.\n",
      "The notebook server will temporarily stop sending output\n",
      "to the client in order to avoid crashing it.\n",
      "To change this limit, set the config variable\n",
      "`--NotebookApp.iopub_msg_rate_limit`.\n",
      "\n",
      "Current values:\n",
      "NotebookApp.iopub_msg_rate_limit=1000.0 (msgs/sec)\n",
      "NotebookApp.rate_limit_window=3.0 (secs)\n",
      "\n",
      "Features: 8067/9248IOPub message rate exceeded.\n",
      "The notebook server will temporarily stop sending output\n",
      "to the client in order to avoid crashing it.\n",
      "To change this limit, set the config variable\n",
      "`--NotebookApp.iopub_msg_rate_limit`.\n",
      "\n",
      "Current values:\n",
      "NotebookApp.iopub_msg_rate_limit=1000.0 (msgs/sec)\n",
      "NotebookApp.rate_limit_window=3.0 (secs)\n",
      "\n"
     ]
    }
   ],
   "source": [
    "# efs = EFS(LogisticRegression(class_weight = {0: 0.3, 1: 0.7}, penalty = 'l2', solver = 'liblinear'),\n",
    "#          min_features = 3,\n",
    "#           max_features=5,\n",
    "#           scoring= 'accuracy',\n",
    "#           cv = None,\n",
    "#           n_jobs= -1\n",
    "#          ).fit(X_train, y_train)"
   ]
  },
  {
   "cell_type": "code",
   "execution_count": 349,
   "id": "a5553d23",
   "metadata": {},
   "outputs": [
    {
     "name": "stdout",
     "output_type": "stream",
     "text": [
      "0.8499791492910759\n",
      "['satisfaction_level', 'number_project', 'Work_accident', 'RandD', 'management']\n",
      "5\n"
     ]
    }
   ],
   "source": [
    "EFS_logreg_score = efs.best_score_\n",
    "EFS_logreg_feature_names = list(efs.best_feature_names_)\n",
    "EFS_logreg_features_num = len(efs.best_idx_)\n",
    "print(EFS_logreg_score)\n",
    "print(EFS_logreg_feature_names)\n",
    "print(EFS_logreg_features_num)"
   ]
  },
  {
   "cell_type": "code",
   "execution_count": 355,
   "id": "706673d5",
   "metadata": {},
   "outputs": [],
   "source": [
    "X_train_new = X_train\n",
    "X_test_new = X_test"
   ]
  },
  {
   "cell_type": "code",
   "execution_count": 356,
   "id": "bbfba61e",
   "metadata": {},
   "outputs": [
    {
     "name": "stdout",
     "output_type": "stream",
     "text": [
      "(9592, 17)\n",
      "(2399, 17)\n"
     ]
    }
   ],
   "source": [
    "print(X_train_new.shape)\n",
    "print(X_test_new.shape)"
   ]
  },
  {
   "cell_type": "code",
   "execution_count": 357,
   "id": "ec990ba2",
   "metadata": {
    "collapsed": true
   },
   "outputs": [
    {
     "name": "stdout",
     "output_type": "stream",
     "text": [
      "best number of feature: 1\n",
      "acc based on best number of feature: 0.8770320967069613\n",
      "best number of feature: 2\n",
      "acc based on best number of feature: 0.8420175072947061\n",
      "best number of feature: 3\n",
      "acc based on best number of feature: 0.838682784493539\n",
      "best number of feature: 4\n",
      "acc based on best number of feature: 0.8336807002917882\n",
      "best number of feature: 5\n",
      "acc based on best number of feature: 0.8395164651938307\n",
      "best number of feature: 6\n",
      "acc based on best number of feature: 0.8186744476865361\n",
      "best number of feature: 7\n",
      "acc based on best number of feature: 0.822842851187995\n",
      "best number of feature: 8\n",
      "acc based on best number of feature: 0.8211754897874114\n",
      "best number of feature: 9\n",
      "acc based on best number of feature: 0.8220091704877032\n",
      "best number of feature: 10\n",
      "acc based on best number of feature: 0.822426010837849\n",
      "best number of feature: 11\n",
      "acc based on best number of feature: 0.822426010837849\n",
      "best number of feature: 12\n",
      "acc based on best number of feature: 0.822842851187995\n",
      "best number of feature: 13\n",
      "acc based on best number of feature: 0.822842851187995\n",
      "best number of feature: 14\n",
      "acc based on best number of feature: 0.8232596915381409\n",
      "best number of feature: 15\n",
      "acc based on best number of feature: 0.8236765318882868\n",
      "best number of feature: 16\n",
      "acc based on best number of feature: 0.8236765318882868\n",
      "best number of feature: 17\n",
      "acc based on best number of feature: 0.8236765318882868\n"
     ]
    }
   ],
   "source": [
    "for i in range(1, X_train.shape[1]+1):\n",
    "#     lm = LinearRegression() #creat LR model on train set\n",
    "#     lm.fit(X_train,y_train)\n",
    "    \n",
    "    logreg = LogisticRegression()\n",
    "    logreg.fit(X_train, y_train)\n",
    "    \n",
    "    rfe = RFE(logreg, i) #fit RFE model with different number of features 1 to 32\n",
    "    rfe = rfe.fit(X_train, y_train)\n",
    "    \n",
    "    y_pred= rfe.predict(X_test)\n",
    "    acc = accuracy_score(y_test, y_pred)\n",
    "    \n",
    "    if acc>0.80:\n",
    "        best_n_feature = i\n",
    "        print('best number of feature:',best_n_feature)\n",
    "        print('acc based on best number of feature:',acc)"
   ]
  },
  {
   "cell_type": "code",
   "execution_count": 358,
   "id": "41266c76",
   "metadata": {},
   "outputs": [],
   "source": [
    "loreg = LogisticRegression()\n",
    "logreg.fit(X_train, y_train)\n",
    "\n",
    "rfe = RFE(DT, 10)\n",
    "rfe = rfe.fit(X_train, y_train)\n",
    "\n",
    "# RFE (MODEL, Number of feature to select)"
   ]
  },
  {
   "cell_type": "code",
   "execution_count": 359,
   "id": "3017db27",
   "metadata": {},
   "outputs": [
    {
     "data": {
      "text/plain": [
       "[('satisfaction_level', True, 1),\n",
       " ('last_evaluation', True, 1),\n",
       " ('number_project', True, 1),\n",
       " ('average_montly_hours', True, 1),\n",
       " ('time_spend_company', True, 1),\n",
       " ('Work_accident', False, 3),\n",
       " ('promotion_last_5years', False, 7),\n",
       " ('salary', True, 1),\n",
       " ('RandD', False, 2),\n",
       " ('accounting', True, 1),\n",
       " ('hr', False, 6),\n",
       " ('management', False, 4),\n",
       " ('marketing', False, 5),\n",
       " ('product_mng', False, 8),\n",
       " ('sales', True, 1),\n",
       " ('support', True, 1),\n",
       " ('technical', True, 1)]"
      ]
     },
     "execution_count": 359,
     "metadata": {},
     "output_type": "execute_result"
    }
   ],
   "source": [
    "list(zip(X_train.columns,rfe.support_,rfe.ranking_))"
   ]
  },
  {
   "cell_type": "code",
   "execution_count": 360,
   "id": "8f5ad047",
   "metadata": {},
   "outputs": [
    {
     "data": {
      "text/plain": [
       "Index(['satisfaction_level', 'last_evaluation', 'number_project',\n",
       "       'average_montly_hours', 'time_spend_company', 'salary', 'accounting',\n",
       "       'sales', 'support', 'technical'],\n",
       "      dtype='object')"
      ]
     },
     "execution_count": 360,
     "metadata": {},
     "output_type": "execute_result"
    }
   ],
   "source": [
    "X_train.columns[rfe.support_]"
   ]
  },
  {
   "cell_type": "code",
   "execution_count": 361,
   "id": "276b6aa7",
   "metadata": {},
   "outputs": [
    {
     "data": {
      "text/html": [
       "<div>\n",
       "<style scoped>\n",
       "    .dataframe tbody tr th:only-of-type {\n",
       "        vertical-align: middle;\n",
       "    }\n",
       "\n",
       "    .dataframe tbody tr th {\n",
       "        vertical-align: top;\n",
       "    }\n",
       "\n",
       "    .dataframe thead th {\n",
       "        text-align: right;\n",
       "    }\n",
       "</style>\n",
       "<table border=\"1\" class=\"dataframe\">\n",
       "  <thead>\n",
       "    <tr style=\"text-align: right;\">\n",
       "      <th></th>\n",
       "      <th>satisfaction_level</th>\n",
       "      <th>last_evaluation</th>\n",
       "      <th>number_project</th>\n",
       "      <th>average_montly_hours</th>\n",
       "      <th>time_spend_company</th>\n",
       "      <th>salary</th>\n",
       "      <th>accounting</th>\n",
       "      <th>sales</th>\n",
       "      <th>support</th>\n",
       "      <th>technical</th>\n",
       "    </tr>\n",
       "  </thead>\n",
       "  <tbody>\n",
       "    <tr>\n",
       "      <th>0</th>\n",
       "      <td>0.494505</td>\n",
       "      <td>0.203125</td>\n",
       "      <td>0.4</td>\n",
       "      <td>0.261682</td>\n",
       "      <td>0.25</td>\n",
       "      <td>0.5</td>\n",
       "      <td>0.0</td>\n",
       "      <td>1.0</td>\n",
       "      <td>0.0</td>\n",
       "      <td>0.0</td>\n",
       "    </tr>\n",
       "    <tr>\n",
       "      <th>1</th>\n",
       "      <td>0.890110</td>\n",
       "      <td>0.515625</td>\n",
       "      <td>0.4</td>\n",
       "      <td>0.355140</td>\n",
       "      <td>0.25</td>\n",
       "      <td>0.5</td>\n",
       "      <td>0.0</td>\n",
       "      <td>0.0</td>\n",
       "      <td>0.0</td>\n",
       "      <td>0.0</td>\n",
       "    </tr>\n",
       "    <tr>\n",
       "      <th>2</th>\n",
       "      <td>0.879121</td>\n",
       "      <td>0.812500</td>\n",
       "      <td>0.2</td>\n",
       "      <td>0.322430</td>\n",
       "      <td>0.50</td>\n",
       "      <td>0.5</td>\n",
       "      <td>0.0</td>\n",
       "      <td>1.0</td>\n",
       "      <td>0.0</td>\n",
       "      <td>0.0</td>\n",
       "    </tr>\n",
       "    <tr>\n",
       "      <th>3</th>\n",
       "      <td>0.945055</td>\n",
       "      <td>0.593750</td>\n",
       "      <td>0.2</td>\n",
       "      <td>0.542056</td>\n",
       "      <td>0.25</td>\n",
       "      <td>0.5</td>\n",
       "      <td>0.0</td>\n",
       "      <td>1.0</td>\n",
       "      <td>0.0</td>\n",
       "      <td>0.0</td>\n",
       "    </tr>\n",
       "    <tr>\n",
       "      <th>4</th>\n",
       "      <td>0.802198</td>\n",
       "      <td>0.500000</td>\n",
       "      <td>0.0</td>\n",
       "      <td>0.883178</td>\n",
       "      <td>0.00</td>\n",
       "      <td>0.5</td>\n",
       "      <td>0.0</td>\n",
       "      <td>0.0</td>\n",
       "      <td>1.0</td>\n",
       "      <td>0.0</td>\n",
       "    </tr>\n",
       "  </tbody>\n",
       "</table>\n",
       "</div>"
      ],
      "text/plain": [
       "   satisfaction_level  last_evaluation  number_project  average_montly_hours  \\\n",
       "0            0.494505         0.203125             0.4              0.261682   \n",
       "1            0.890110         0.515625             0.4              0.355140   \n",
       "2            0.879121         0.812500             0.2              0.322430   \n",
       "3            0.945055         0.593750             0.2              0.542056   \n",
       "4            0.802198         0.500000             0.0              0.883178   \n",
       "\n",
       "   time_spend_company  salary  accounting  sales  support  technical  \n",
       "0                0.25     0.5         0.0    1.0      0.0        0.0  \n",
       "1                0.25     0.5         0.0    0.0      0.0        0.0  \n",
       "2                0.50     0.5         0.0    1.0      0.0        0.0  \n",
       "3                0.25     0.5         0.0    1.0      0.0        0.0  \n",
       "4                0.00     0.5         0.0    0.0      1.0        0.0  "
      ]
     },
     "execution_count": 361,
     "metadata": {},
     "output_type": "execute_result"
    }
   ],
   "source": [
    "X_train_rfe = X_train[X_train.columns[rfe.support_]]\n",
    "X_train_rfe.head()"
   ]
  },
  {
   "cell_type": "code",
   "execution_count": 362,
   "id": "06e41471",
   "metadata": {},
   "outputs": [
    {
     "data": {
      "text/html": [
       "<div>\n",
       "<style scoped>\n",
       "    .dataframe tbody tr th:only-of-type {\n",
       "        vertical-align: middle;\n",
       "    }\n",
       "\n",
       "    .dataframe tbody tr th {\n",
       "        vertical-align: top;\n",
       "    }\n",
       "\n",
       "    .dataframe thead th {\n",
       "        text-align: right;\n",
       "    }\n",
       "</style>\n",
       "<table border=\"1\" class=\"dataframe\">\n",
       "  <thead>\n",
       "    <tr style=\"text-align: right;\">\n",
       "      <th></th>\n",
       "      <th>Features</th>\n",
       "      <th>VIF</th>\n",
       "    </tr>\n",
       "  </thead>\n",
       "  <tbody>\n",
       "    <tr>\n",
       "      <th>3</th>\n",
       "      <td>average_montly_hours</td>\n",
       "      <td>5.91</td>\n",
       "    </tr>\n",
       "    <tr>\n",
       "      <th>1</th>\n",
       "      <td>last_evaluation</td>\n",
       "      <td>5.87</td>\n",
       "    </tr>\n",
       "    <tr>\n",
       "      <th>0</th>\n",
       "      <td>satisfaction_level</td>\n",
       "      <td>4.43</td>\n",
       "    </tr>\n",
       "    <tr>\n",
       "      <th>2</th>\n",
       "      <td>number_project</td>\n",
       "      <td>4.05</td>\n",
       "    </tr>\n",
       "    <tr>\n",
       "      <th>4</th>\n",
       "      <td>time_spend_company</td>\n",
       "      <td>2.39</td>\n",
       "    </tr>\n",
       "    <tr>\n",
       "      <th>5</th>\n",
       "      <td>salary</td>\n",
       "      <td>1.82</td>\n",
       "    </tr>\n",
       "    <tr>\n",
       "      <th>7</th>\n",
       "      <td>sales</td>\n",
       "      <td>1.64</td>\n",
       "    </tr>\n",
       "    <tr>\n",
       "      <th>9</th>\n",
       "      <td>technical</td>\n",
       "      <td>1.46</td>\n",
       "    </tr>\n",
       "    <tr>\n",
       "      <th>8</th>\n",
       "      <td>support</td>\n",
       "      <td>1.37</td>\n",
       "    </tr>\n",
       "    <tr>\n",
       "      <th>6</th>\n",
       "      <td>accounting</td>\n",
       "      <td>1.12</td>\n",
       "    </tr>\n",
       "  </tbody>\n",
       "</table>\n",
       "</div>"
      ],
      "text/plain": [
       "               Features   VIF\n",
       "3  average_montly_hours  5.91\n",
       "1       last_evaluation  5.87\n",
       "0    satisfaction_level  4.43\n",
       "2        number_project  4.05\n",
       "4    time_spend_company  2.39\n",
       "5                salary  1.82\n",
       "7                 sales  1.64\n",
       "9             technical  1.46\n",
       "8               support  1.37\n",
       "6            accounting  1.12"
      ]
     },
     "execution_count": 362,
     "metadata": {},
     "output_type": "execute_result"
    }
   ],
   "source": [
    "checkVIF(X_train_rfe)"
   ]
  },
  {
   "cell_type": "code",
   "execution_count": 363,
   "id": "fca2b162",
   "metadata": {},
   "outputs": [
    {
     "name": "stdout",
     "output_type": "stream",
     "text": [
      "Optimization terminated successfully.\n",
      "         Current function value: 0.365338\n",
      "         Iterations 7\n",
      "                           Logit Regression Results                           \n",
      "==============================================================================\n",
      "Dep. Variable:                   left   No. Observations:                 9592\n",
      "Model:                          Logit   Df Residuals:                     9582\n",
      "Method:                           MLE   Df Model:                            9\n",
      "Date:                Wed, 02 Feb 2022   Pseudo R-squ.:                  0.1920\n",
      "Time:                        07:39:02   Log-Likelihood:                -3504.3\n",
      "converged:                       True   LL-Null:                       -4336.8\n",
      "Covariance Type:            nonrobust   LLR p-value:                     0.000\n",
      "========================================================================================\n",
      "                           coef    std err          z      P>|z|      [0.025      0.975]\n",
      "----------------------------------------------------------------------------------------\n",
      "satisfaction_level      -3.7098      0.106    -34.916      0.000      -3.918      -3.502\n",
      "last_evaluation          0.2937      0.124      2.375      0.018       0.051       0.536\n",
      "number_project          -1.6772      0.143    -11.749      0.000      -1.957      -1.397\n",
      "average_montly_hours     0.7024      0.140      5.016      0.000       0.428       0.977\n",
      "time_spend_company       1.8396      0.107     17.191      0.000       1.630       2.049\n",
      "salary                  -1.3491      0.103    -13.132      0.000      -1.550      -1.148\n",
      "accounting               0.0839      0.139      0.606      0.545      -0.188       0.355\n",
      "sales                    0.0732      0.074      0.984      0.325      -0.073       0.219\n",
      "support                  0.0554      0.091      0.607      0.544      -0.124       0.234\n",
      "technical                0.1435      0.084      1.715      0.086      -0.021       0.308\n",
      "========================================================================================\n"
     ]
    }
   ],
   "source": [
    "X_train_new = build_model(X_train_rfe,y_train)"
   ]
  },
  {
   "cell_type": "code",
   "execution_count": 370,
   "id": "de4bc5fd",
   "metadata": {},
   "outputs": [],
   "source": [
    "X_train_new = X_train_rfe.drop(['accounting'], axis = 1, inplace=True)"
   ]
  },
  {
   "cell_type": "code",
   "execution_count": 371,
   "id": "798a7403",
   "metadata": {},
   "outputs": [
    {
     "name": "stdout",
     "output_type": "stream",
     "text": [
      "Optimization terminated successfully.\n",
      "         Current function value: 0.365357\n",
      "         Iterations 7\n",
      "                           Logit Regression Results                           \n",
      "==============================================================================\n",
      "Dep. Variable:                   left   No. Observations:                 9592\n",
      "Model:                          Logit   Df Residuals:                     9583\n",
      "Method:                           MLE   Df Model:                            8\n",
      "Date:                Wed, 02 Feb 2022   Pseudo R-squ.:                  0.1919\n",
      "Time:                        07:41:28   Log-Likelihood:                -3504.5\n",
      "converged:                       True   LL-Null:                       -4336.8\n",
      "Covariance Type:            nonrobust   LLR p-value:                     0.000\n",
      "========================================================================================\n",
      "                           coef    std err          z      P>|z|      [0.025      0.975]\n",
      "----------------------------------------------------------------------------------------\n",
      "satisfaction_level      -3.7043      0.106    -35.006      0.000      -3.912      -3.497\n",
      "last_evaluation          0.2965      0.124      2.400      0.016       0.054       0.539\n",
      "number_project          -1.6758      0.143    -11.741      0.000      -1.956      -1.396\n",
      "average_montly_hours     0.7087      0.140      5.076      0.000       0.435       0.982\n",
      "time_spend_company       1.8418      0.107     17.228      0.000       1.632       2.051\n",
      "salary                  -1.3465      0.103    -13.119      0.000      -1.548      -1.145\n",
      "sales                    0.0640      0.073      0.879      0.379      -0.079       0.207\n",
      "support                  0.0462      0.090      0.514      0.608      -0.130       0.223\n",
      "technical                0.1343      0.082      1.632      0.103      -0.027       0.295\n",
      "========================================================================================\n"
     ]
    }
   ],
   "source": [
    "X_train_new = build_model(X_train_rfe,y_train)"
   ]
  },
  {
   "cell_type": "code",
   "execution_count": 374,
   "id": "4b9d505b",
   "metadata": {},
   "outputs": [],
   "source": [
    "X_train_new = X_train_rfe.drop(['support'], axis = 1, inplace=True)"
   ]
  },
  {
   "cell_type": "code",
   "execution_count": 375,
   "id": "96784cd4",
   "metadata": {},
   "outputs": [
    {
     "name": "stdout",
     "output_type": "stream",
     "text": [
      "Optimization terminated successfully.\n",
      "         Current function value: 0.365371\n",
      "         Iterations 7\n",
      "                           Logit Regression Results                           \n",
      "==============================================================================\n",
      "Dep. Variable:                   left   No. Observations:                 9592\n",
      "Model:                          Logit   Df Residuals:                     9584\n",
      "Method:                           MLE   Df Model:                            7\n",
      "Date:                Wed, 02 Feb 2022   Pseudo R-squ.:                  0.1919\n",
      "Time:                        07:42:01   Log-Likelihood:                -3504.6\n",
      "converged:                       True   LL-Null:                       -4336.8\n",
      "Covariance Type:            nonrobust   LLR p-value:                     0.000\n",
      "========================================================================================\n",
      "                           coef    std err          z      P>|z|      [0.025      0.975]\n",
      "----------------------------------------------------------------------------------------\n",
      "satisfaction_level      -3.6955      0.104    -35.415      0.000      -3.900      -3.491\n",
      "last_evaluation          0.3006      0.123      2.438      0.015       0.059       0.542\n",
      "number_project          -1.6721      0.143    -11.730      0.000      -1.951      -1.393\n",
      "average_montly_hours     0.7130      0.139      5.116      0.000       0.440       0.986\n",
      "time_spend_company       1.8440      0.107     17.266      0.000       1.635       2.053\n",
      "salary                  -1.3446      0.103    -13.112      0.000      -1.546      -1.144\n",
      "sales                    0.0531      0.070      0.764      0.445      -0.083       0.189\n",
      "technical                0.1233      0.079      1.553      0.120      -0.032       0.279\n",
      "========================================================================================\n"
     ]
    }
   ],
   "source": [
    "X_train_new = build_model(X_train_rfe,y_train)"
   ]
  },
  {
   "cell_type": "code",
   "execution_count": 376,
   "id": "a30e1028",
   "metadata": {},
   "outputs": [],
   "source": [
    "X_train_new = X_train_rfe.drop(['sales'], axis = 1, inplace=True)"
   ]
  },
  {
   "cell_type": "code",
   "execution_count": 377,
   "id": "9b802554",
   "metadata": {},
   "outputs": [
    {
     "name": "stdout",
     "output_type": "stream",
     "text": [
      "Optimization terminated successfully.\n",
      "         Current function value: 0.365401\n",
      "         Iterations 7\n",
      "                           Logit Regression Results                           \n",
      "==============================================================================\n",
      "Dep. Variable:                   left   No. Observations:                 9592\n",
      "Model:                          Logit   Df Residuals:                     9585\n",
      "Method:                           MLE   Df Model:                            6\n",
      "Date:                Wed, 02 Feb 2022   Pseudo R-squ.:                  0.1918\n",
      "Time:                        07:42:34   Log-Likelihood:                -3504.9\n",
      "converged:                       True   LL-Null:                       -4336.8\n",
      "Covariance Type:            nonrobust   LLR p-value:                     0.000\n",
      "========================================================================================\n",
      "                           coef    std err          z      P>|z|      [0.025      0.975]\n",
      "----------------------------------------------------------------------------------------\n",
      "satisfaction_level      -3.6835      0.103    -35.736      0.000      -3.886      -3.481\n",
      "last_evaluation          0.3048      0.123      2.475      0.013       0.063       0.546\n",
      "number_project          -1.6698      0.143    -11.714      0.000      -1.949      -1.390\n",
      "average_montly_hours     0.7220      0.139      5.199      0.000       0.450       0.994\n",
      "time_spend_company       1.8497      0.107     17.365      0.000       1.641       2.058\n",
      "salary                  -1.3419      0.102    -13.097      0.000      -1.543      -1.141\n",
      "technical                0.1072      0.076      1.403      0.161      -0.043       0.257\n",
      "========================================================================================\n"
     ]
    }
   ],
   "source": [
    "X_train_new = build_model(X_train_rfe,y_train)"
   ]
  },
  {
   "cell_type": "code",
   "execution_count": 378,
   "id": "4eca5f85",
   "metadata": {},
   "outputs": [],
   "source": [
    "X_train_new = X_train_rfe.drop(['technical'], axis = 1, inplace=True)"
   ]
  },
  {
   "cell_type": "code",
   "execution_count": 379,
   "id": "c6d4c035",
   "metadata": {},
   "outputs": [
    {
     "name": "stdout",
     "output_type": "stream",
     "text": [
      "Optimization terminated successfully.\n",
      "         Current function value: 0.365502\n",
      "         Iterations 7\n",
      "                           Logit Regression Results                           \n",
      "==============================================================================\n",
      "Dep. Variable:                   left   No. Observations:                 9592\n",
      "Model:                          Logit   Df Residuals:                     9586\n",
      "Method:                           MLE   Df Model:                            5\n",
      "Date:                Wed, 02 Feb 2022   Pseudo R-squ.:                  0.1916\n",
      "Time:                        07:43:12   Log-Likelihood:                -3505.9\n",
      "converged:                       True   LL-Null:                       -4336.8\n",
      "Covariance Type:            nonrobust   LLR p-value:                     0.000\n",
      "========================================================================================\n",
      "                           coef    std err          z      P>|z|      [0.025      0.975]\n",
      "----------------------------------------------------------------------------------------\n",
      "satisfaction_level      -3.6693      0.102    -35.813      0.000      -3.870      -3.468\n",
      "last_evaluation          0.3113      0.123      2.530      0.011       0.070       0.552\n",
      "number_project          -1.6612      0.142    -11.664      0.000      -1.940      -1.382\n",
      "average_montly_hours     0.7324      0.139      5.284      0.000       0.461       1.004\n",
      "time_spend_company       1.8503      0.106     17.383      0.000       1.642       2.059\n",
      "salary                  -1.3414      0.102    -13.093      0.000      -1.542      -1.141\n",
      "========================================================================================\n"
     ]
    }
   ],
   "source": [
    "X_train_new = build_model(X_train_rfe,y_train)"
   ]
  },
  {
   "cell_type": "code",
   "execution_count": 380,
   "id": "6dd180dd",
   "metadata": {},
   "outputs": [
    {
     "data": {
      "text/html": [
       "<div>\n",
       "<style scoped>\n",
       "    .dataframe tbody tr th:only-of-type {\n",
       "        vertical-align: middle;\n",
       "    }\n",
       "\n",
       "    .dataframe tbody tr th {\n",
       "        vertical-align: top;\n",
       "    }\n",
       "\n",
       "    .dataframe thead th {\n",
       "        text-align: right;\n",
       "    }\n",
       "</style>\n",
       "<table border=\"1\" class=\"dataframe\">\n",
       "  <thead>\n",
       "    <tr style=\"text-align: right;\">\n",
       "      <th></th>\n",
       "      <th>Features</th>\n",
       "      <th>VIF</th>\n",
       "    </tr>\n",
       "  </thead>\n",
       "  <tbody>\n",
       "    <tr>\n",
       "      <th>1</th>\n",
       "      <td>last_evaluation</td>\n",
       "      <td>5.82</td>\n",
       "    </tr>\n",
       "    <tr>\n",
       "      <th>3</th>\n",
       "      <td>average_montly_hours</td>\n",
       "      <td>5.81</td>\n",
       "    </tr>\n",
       "    <tr>\n",
       "      <th>0</th>\n",
       "      <td>satisfaction_level</td>\n",
       "      <td>4.16</td>\n",
       "    </tr>\n",
       "    <tr>\n",
       "      <th>2</th>\n",
       "      <td>number_project</td>\n",
       "      <td>4.02</td>\n",
       "    </tr>\n",
       "    <tr>\n",
       "      <th>4</th>\n",
       "      <td>time_spend_company</td>\n",
       "      <td>2.37</td>\n",
       "    </tr>\n",
       "    <tr>\n",
       "      <th>5</th>\n",
       "      <td>salary</td>\n",
       "      <td>1.81</td>\n",
       "    </tr>\n",
       "  </tbody>\n",
       "</table>\n",
       "</div>"
      ],
      "text/plain": [
       "               Features   VIF\n",
       "1       last_evaluation  5.82\n",
       "3  average_montly_hours  5.81\n",
       "0    satisfaction_level  4.16\n",
       "2        number_project  4.02\n",
       "4    time_spend_company  2.37\n",
       "5                salary  1.81"
      ]
     },
     "execution_count": 380,
     "metadata": {},
     "output_type": "execute_result"
    }
   ],
   "source": [
    "checkVIF(X_train_new)"
   ]
  },
  {
   "cell_type": "code",
   "execution_count": 381,
   "id": "9cff04d9",
   "metadata": {},
   "outputs": [],
   "source": [
    "X_test_new = X_test[X_train_new.columns]"
   ]
  },
  {
   "cell_type": "code",
   "execution_count": 382,
   "id": "9d2c5058",
   "metadata": {},
   "outputs": [
    {
     "data": {
      "text/html": [
       "<div>\n",
       "<style scoped>\n",
       "    .dataframe tbody tr th:only-of-type {\n",
       "        vertical-align: middle;\n",
       "    }\n",
       "\n",
       "    .dataframe tbody tr th {\n",
       "        vertical-align: top;\n",
       "    }\n",
       "\n",
       "    .dataframe thead th {\n",
       "        text-align: right;\n",
       "    }\n",
       "</style>\n",
       "<table border=\"1\" class=\"dataframe\">\n",
       "  <thead>\n",
       "    <tr style=\"text-align: right;\">\n",
       "      <th></th>\n",
       "      <th>satisfaction_level</th>\n",
       "      <th>last_evaluation</th>\n",
       "      <th>number_project</th>\n",
       "      <th>average_montly_hours</th>\n",
       "      <th>time_spend_company</th>\n",
       "      <th>salary</th>\n",
       "    </tr>\n",
       "  </thead>\n",
       "  <tbody>\n",
       "    <tr>\n",
       "      <th>0</th>\n",
       "      <td>0.923077</td>\n",
       "      <td>0.796875</td>\n",
       "      <td>0.4</td>\n",
       "      <td>0.200935</td>\n",
       "      <td>1.00</td>\n",
       "      <td>0.5</td>\n",
       "    </tr>\n",
       "    <tr>\n",
       "      <th>1</th>\n",
       "      <td>0.923077</td>\n",
       "      <td>0.234375</td>\n",
       "      <td>0.4</td>\n",
       "      <td>0.065421</td>\n",
       "      <td>0.25</td>\n",
       "      <td>0.0</td>\n",
       "    </tr>\n",
       "    <tr>\n",
       "      <th>2</th>\n",
       "      <td>0.978022</td>\n",
       "      <td>0.953125</td>\n",
       "      <td>0.2</td>\n",
       "      <td>0.528037</td>\n",
       "      <td>0.25</td>\n",
       "      <td>0.0</td>\n",
       "    </tr>\n",
       "    <tr>\n",
       "      <th>3</th>\n",
       "      <td>0.197802</td>\n",
       "      <td>0.406250</td>\n",
       "      <td>0.8</td>\n",
       "      <td>0.186916</td>\n",
       "      <td>0.25</td>\n",
       "      <td>1.0</td>\n",
       "    </tr>\n",
       "    <tr>\n",
       "      <th>4</th>\n",
       "      <td>0.989011</td>\n",
       "      <td>0.765625</td>\n",
       "      <td>0.6</td>\n",
       "      <td>0.771028</td>\n",
       "      <td>0.50</td>\n",
       "      <td>0.5</td>\n",
       "    </tr>\n",
       "    <tr>\n",
       "      <th>...</th>\n",
       "      <td>...</td>\n",
       "      <td>...</td>\n",
       "      <td>...</td>\n",
       "      <td>...</td>\n",
       "      <td>...</td>\n",
       "      <td>...</td>\n",
       "    </tr>\n",
       "    <tr>\n",
       "      <th>2394</th>\n",
       "      <td>0.857143</td>\n",
       "      <td>0.296875</td>\n",
       "      <td>0.2</td>\n",
       "      <td>0.640187</td>\n",
       "      <td>0.25</td>\n",
       "      <td>0.5</td>\n",
       "    </tr>\n",
       "    <tr>\n",
       "      <th>2395</th>\n",
       "      <td>0.494505</td>\n",
       "      <td>0.609375</td>\n",
       "      <td>0.4</td>\n",
       "      <td>0.481308</td>\n",
       "      <td>0.00</td>\n",
       "      <td>0.5</td>\n",
       "    </tr>\n",
       "    <tr>\n",
       "      <th>2396</th>\n",
       "      <td>0.626374</td>\n",
       "      <td>0.625000</td>\n",
       "      <td>0.2</td>\n",
       "      <td>0.200935</td>\n",
       "      <td>0.75</td>\n",
       "      <td>0.0</td>\n",
       "    </tr>\n",
       "    <tr>\n",
       "      <th>2397</th>\n",
       "      <td>0.120879</td>\n",
       "      <td>0.531250</td>\n",
       "      <td>0.8</td>\n",
       "      <td>0.864486</td>\n",
       "      <td>0.75</td>\n",
       "      <td>0.5</td>\n",
       "    </tr>\n",
       "    <tr>\n",
       "      <th>2398</th>\n",
       "      <td>0.714286</td>\n",
       "      <td>0.296875</td>\n",
       "      <td>0.6</td>\n",
       "      <td>0.336449</td>\n",
       "      <td>0.50</td>\n",
       "      <td>0.0</td>\n",
       "    </tr>\n",
       "  </tbody>\n",
       "</table>\n",
       "<p>2399 rows × 6 columns</p>\n",
       "</div>"
      ],
      "text/plain": [
       "      satisfaction_level  last_evaluation  number_project  \\\n",
       "0               0.923077         0.796875             0.4   \n",
       "1               0.923077         0.234375             0.4   \n",
       "2               0.978022         0.953125             0.2   \n",
       "3               0.197802         0.406250             0.8   \n",
       "4               0.989011         0.765625             0.6   \n",
       "...                  ...              ...             ...   \n",
       "2394            0.857143         0.296875             0.2   \n",
       "2395            0.494505         0.609375             0.4   \n",
       "2396            0.626374         0.625000             0.2   \n",
       "2397            0.120879         0.531250             0.8   \n",
       "2398            0.714286         0.296875             0.6   \n",
       "\n",
       "      average_montly_hours  time_spend_company  salary  \n",
       "0                 0.200935                1.00     0.5  \n",
       "1                 0.065421                0.25     0.0  \n",
       "2                 0.528037                0.25     0.0  \n",
       "3                 0.186916                0.25     1.0  \n",
       "4                 0.771028                0.50     0.5  \n",
       "...                    ...                 ...     ...  \n",
       "2394              0.640187                0.25     0.5  \n",
       "2395              0.481308                0.00     0.5  \n",
       "2396              0.200935                0.75     0.0  \n",
       "2397              0.864486                0.75     0.5  \n",
       "2398              0.336449                0.50     0.0  \n",
       "\n",
       "[2399 rows x 6 columns]"
      ]
     },
     "execution_count": 382,
     "metadata": {},
     "output_type": "execute_result"
    }
   ],
   "source": [
    "X_test_new"
   ]
  },
  {
   "cell_type": "code",
   "execution_count": 384,
   "id": "d4485093",
   "metadata": {},
   "outputs": [
    {
     "data": {
      "text/plain": [
       "0.8199249687369737"
      ]
     },
     "execution_count": 384,
     "metadata": {},
     "output_type": "execute_result"
    }
   ],
   "source": [
    "logreg = LogisticRegression(class_weight = {0: 0.3, 1: 0.7},\n",
    "                           penalty = 'l2', \n",
    "                           solver = 'liblinear')\n",
    "\n",
    "logreg.fit(X_train_new, y_train)\n",
    "pred = logreg.predict(X_test_new)\n",
    "\n",
    "acc_logreg_VIF = (pred == y_test).mean()\n",
    "acc_logreg_VIF"
   ]
  },
  {
   "cell_type": "code",
   "execution_count": null,
   "id": "b2807f7c",
   "metadata": {},
   "outputs": [],
   "source": [
    "# sfs = SFS(LogisticRegression(class_weight = {0: 0.3, 1: 0.7}, penalty = 'l2', solver = 'liblinear'),\n",
    "#           k_features = (3, 12),\n",
    "#           forward= True,\n",
    "#           floating = False,\n",
    "#           verbose= 2,\n",
    "#           scoring= 'accuracy',\n",
    "#           cv = 4,\n",
    "#           n_jobs= -1\n",
    "#          ).fit(X_train_new, y_train)\n",
    "\n",
    "# print(sfs.k_score_)\n",
    "# print(sfs.k_feature_names_)"
   ]
  },
  {
   "cell_type": "code",
   "execution_count": 385,
   "id": "053ecf7a",
   "metadata": {},
   "outputs": [
    {
     "name": "stdout",
     "output_type": "stream",
     "text": [
      "0.8323603002502085\n",
      "['last_evaluation', 'number_project', 'average_montly_hours']\n",
      "3\n"
     ]
    }
   ],
   "source": [
    "SFS_logreg_score_VIF = sfs.k_score_\n",
    "SFS_logreg_feature_names_VIF = list(sfs.k_feature_names_)\n",
    "SFS_logreg_features_num_VIF = len(sfs.k_feature_idx_)\n",
    "print(SFS_logreg_score_VIF)\n",
    "print(SFS_logreg_feature_names_VIF)\n",
    "print(SFS_logreg_features_num_VIF)"
   ]
  },
  {
   "cell_type": "code",
   "execution_count": 387,
   "id": "117a2246",
   "metadata": {
    "collapsed": true
   },
   "outputs": [
    {
     "name": "stderr",
     "output_type": "stream",
     "text": [
      "[Parallel(n_jobs=-1)]: Using backend LokyBackend with 12 concurrent workers.\n",
      "[Parallel(n_jobs=-1)]: Done   3 out of   6 | elapsed:    1.7s remaining:    1.7s\n",
      "[Parallel(n_jobs=-1)]: Done   6 out of   6 | elapsed:    1.7s finished\n",
      "\n",
      "[2022-02-02 07:48:27] Features: 5/2 -- score: 0.8217264386989158[Parallel(n_jobs=-1)]: Using backend LokyBackend with 12 concurrent workers.\n",
      "[Parallel(n_jobs=-1)]: Done   3 out of   5 | elapsed:    1.3s remaining:    0.8s\n",
      "[Parallel(n_jobs=-1)]: Done   5 out of   5 | elapsed:    1.3s finished\n",
      "\n",
      "[2022-02-02 07:48:28] Features: 4/2 -- score: 0.83267306088407[Parallel(n_jobs=-1)]: Using backend LokyBackend with 12 concurrent workers.\n",
      "[Parallel(n_jobs=-1)]: Done   2 out of   4 | elapsed:    0.0s remaining:    0.0s\n"
     ]
    },
    {
     "name": "stdout",
     "output_type": "stream",
     "text": [
      "0.8384070058381985\n",
      "('satisfaction_level', 'number_project', 'salary')\n"
     ]
    },
    {
     "name": "stderr",
     "output_type": "stream",
     "text": [
      "[Parallel(n_jobs=-1)]: Done   4 out of   4 | elapsed:    1.1s finished\n",
      "\n",
      "[2022-02-02 07:48:30] Features: 3/2 -- score: 0.8384070058381985[Parallel(n_jobs=-1)]: Using backend LokyBackend with 12 concurrent workers.\n",
      "[Parallel(n_jobs=-1)]: Done   3 out of   3 | elapsed:    0.0s finished\n",
      "\n",
      "[2022-02-02 07:48:30] Features: 2/2 -- score: 0.8323603002502085"
     ]
    }
   ],
   "source": [
    "# sbs = SFS(LogisticRegression(class_weight = {0: 0.3, 1: 0.7}, penalty = 'l2', solver = 'liblinear'),\n",
    "#          k_features = (2, 5),\n",
    "#           forward= False,\n",
    "#           floating = False,\n",
    "#           verbose= 2,\n",
    "#           scoring= 'accuracy',\n",
    "#           cv = 4,\n",
    "#           n_jobs= -1\n",
    "#          ).fit(X_train_new, y_train)\n",
    "\n",
    "# print(sbs.k_score_)\n",
    "# print(sbs.k_feature_names_)"
   ]
  },
  {
   "cell_type": "code",
   "execution_count": 388,
   "id": "da5a9d09",
   "metadata": {},
   "outputs": [
    {
     "name": "stdout",
     "output_type": "stream",
     "text": [
      "0.8384070058381985\n",
      "['satisfaction_level', 'number_project', 'salary']\n",
      "3\n"
     ]
    }
   ],
   "source": [
    "SBS_logreg_score_VIF = sbs.k_score_\n",
    "SBS_logreg_feature_names_VIF = list(sbs.k_feature_names_)\n",
    "SBS_logreg_features_num_VIF = len(sbs.k_feature_idx_)\n",
    "print(SBS_logreg_score_VIF)\n",
    "print(SBS_logreg_feature_names_VIF)\n",
    "print(SBS_logreg_features_num_VIF)"
   ]
  },
  {
   "cell_type": "code",
   "execution_count": 389,
   "id": "2be0e3a5",
   "metadata": {},
   "outputs": [
    {
     "data": {
      "text/plain": [
       "(9592, 6)"
      ]
     },
     "execution_count": 389,
     "metadata": {},
     "output_type": "execute_result"
    }
   ],
   "source": [
    "X_train_new.shape"
   ]
  },
  {
   "cell_type": "code",
   "execution_count": 391,
   "id": "21a97f5f",
   "metadata": {},
   "outputs": [
    {
     "name": "stderr",
     "output_type": "stream",
     "text": [
      "Features: 42/42"
     ]
    }
   ],
   "source": [
    "# efs = EFS(LogisticRegression(class_weight = {0: 0.3, 1: 0.7}, penalty = 'l2', solver = 'liblinear'),\n",
    "#          min_features = 3,\n",
    "#           max_features=6,\n",
    "#           scoring= 'accuracy',\n",
    "#           cv = None,\n",
    "#           n_jobs= -1\n",
    "#          ).fit(X_train_new, y_train)"
   ]
  },
  {
   "cell_type": "code",
   "execution_count": 392,
   "id": "f3b1030b",
   "metadata": {},
   "outputs": [
    {
     "name": "stdout",
     "output_type": "stream",
     "text": [
      "0.8371559633027523\n",
      "['satisfaction_level', 'number_project', 'salary']\n",
      "3\n"
     ]
    }
   ],
   "source": [
    "EFS_logreg_score_VIF = efs.best_score_\n",
    "EFS_logreg_feature_names_VIF = list(efs.best_feature_names_)\n",
    "EFS_logreg_features_num_VIF = len(efs.best_idx_)\n",
    "print(EFS_logreg_score_VIF)\n",
    "print(EFS_logreg_feature_names_VIF)\n",
    "print(EFS_logreg_features_num_VIF)"
   ]
  },
  {
   "cell_type": "markdown",
   "id": "dce391d2",
   "metadata": {},
   "source": [
    "# Neural Network"
   ]
  },
  {
   "cell_type": "code",
   "execution_count": 423,
   "id": "bed0771b",
   "metadata": {},
   "outputs": [],
   "source": [
    "from sklearn.neural_network import MLPClassifier"
   ]
  },
  {
   "cell_type": "code",
   "execution_count": 424,
   "id": "09d43c13",
   "metadata": {},
   "outputs": [
    {
     "data": {
      "text/plain": [
       "0.9656410897970531"
      ]
     },
     "execution_count": 424,
     "metadata": {},
     "output_type": "execute_result"
    }
   ],
   "source": [
    "MLP = MLPClassifier()\n",
    "\n",
    "acc = cross_val_score(MLP, X, y, cv=10, scoring='accuracy')\n",
    "\n",
    "acc.mean()"
   ]
  },
  {
   "cell_type": "code",
   "execution_count": 426,
   "id": "3c313019",
   "metadata": {},
   "outputs": [
    {
     "data": {
      "text/plain": [
       "GridSearchCV(cv=10, estimator=MLPClassifier(), n_jobs=-1,\n",
       "             param_grid={'activation': ['relu', 'tanh'],\n",
       "                         'hidden_layer_sizes': [10, 20, (20, 30)],\n",
       "                         'learning_rate': ['invscaling'],\n",
       "                         'learning_rate_init': [0.001, 0.0001],\n",
       "                         'max_iter': [100, 200], 'solver': ['sgd', 'adam']})"
      ]
     },
     "execution_count": 426,
     "metadata": {},
     "output_type": "execute_result"
    }
   ],
   "source": [
    "# MLP = MLPClassifier()\n",
    "\n",
    "# param = {\"activation\" : [\"relu\" , \"tanh\"],\n",
    "#          \"hidden_layer_sizes\":[(10), (20), (20,30)],\n",
    "#          \"max_iter\" : [100, 200],\n",
    "#          \"solver\": [\"sgd\", \"adam\"],\n",
    "#          \"learning_rate_init\": [0.001, 0.0001],\n",
    "#          \"learning_rate\":['invscaling']}\n",
    "\n",
    "# GS = GridSearchCV(MLP, param, cv = 10, n_jobs=-1)\n",
    "# GS.fit(X , y) "
   ]
  },
  {
   "cell_type": "code",
   "execution_count": 427,
   "id": "154aac45",
   "metadata": {},
   "outputs": [
    {
     "data": {
      "text/plain": [
       "{'activation': 'relu',\n",
       " 'hidden_layer_sizes': (20, 30),\n",
       " 'learning_rate': 'invscaling',\n",
       " 'learning_rate_init': 0.001,\n",
       " 'max_iter': 200,\n",
       " 'solver': 'adam'}"
      ]
     },
     "execution_count": 427,
     "metadata": {},
     "output_type": "execute_result"
    }
   ],
   "source": [
    "GS.best_params_"
   ]
  },
  {
   "cell_type": "code",
   "execution_count": 428,
   "id": "c85f58ab",
   "metadata": {},
   "outputs": [
    {
     "data": {
      "text/plain": [
       "0.9690599805393383"
      ]
     },
     "execution_count": 428,
     "metadata": {},
     "output_type": "execute_result"
    }
   ],
   "source": [
    "GS.best_score_"
   ]
  },
  {
   "cell_type": "code",
   "execution_count": 429,
   "id": "06c98909",
   "metadata": {},
   "outputs": [
    {
     "data": {
      "text/plain": [
       "0.9698108840700584"
      ]
     },
     "execution_count": 429,
     "metadata": {},
     "output_type": "execute_result"
    }
   ],
   "source": [
    "MLP = MLPClassifier( activation = 'relu',\n",
    "                      hidden_layer_sizes = (20, 30),\n",
    "                      learning_rate = 'invscaling',\n",
    "                      learning_rate_init = 0.001,\n",
    "                      max_iter = 200,\n",
    "                      solver = 'adam')\n",
    "\n",
    "acc = cross_val_score(MLP, X, y, cv=10, scoring='accuracy', n_jobs=-1)\n",
    "acc_MLP = acc.mean()\n",
    "acc_MLP"
   ]
  },
  {
   "cell_type": "code",
   "execution_count": 430,
   "id": "535a0a46",
   "metadata": {},
   "outputs": [
    {
     "data": {
      "text/plain": [
       "0.976240100041684"
      ]
     },
     "execution_count": 430,
     "metadata": {},
     "output_type": "execute_result"
    }
   ],
   "source": [
    "MLP = MLPClassifier( activation = 'relu',\n",
    "                      hidden_layer_sizes = (20, 30),\n",
    "                      learning_rate = 'invscaling',\n",
    "                      learning_rate_init = 0.001,\n",
    "                      max_iter = 200,\n",
    "                      solver = 'adam')\n",
    "MLP.fit(X_train, y_train)\n",
    "\n",
    "pred = MLP.predict(X_test)\n",
    "\n",
    "acc_MLP_trainTest = (pred==y_test).mean()\n",
    "acc_MLP_trainTest"
   ]
  },
  {
   "cell_type": "code",
   "execution_count": 432,
   "id": "fcd1d45e",
   "metadata": {
    "collapsed": true
   },
   "outputs": [
    {
     "name": "stderr",
     "output_type": "stream",
     "text": [
      "[Parallel(n_jobs=-1)]: Using backend LokyBackend with 12 concurrent workers.\n",
      "[Parallel(n_jobs=-1)]: Done   3 out of  17 | elapsed:    4.3s remaining:   20.3s\n",
      "[Parallel(n_jobs=-1)]: Done  12 out of  17 | elapsed:    6.3s remaining:    2.6s\n",
      "[Parallel(n_jobs=-1)]: Done  17 out of  17 | elapsed:   16.6s finished\n",
      "\n",
      "[2022-02-02 10:32:15] Features: 1/8 -- score: 0.9043994995829858[Parallel(n_jobs=-1)]: Using backend LokyBackend with 12 concurrent workers.\n",
      "[Parallel(n_jobs=-1)]: Done   2 out of  16 | elapsed:   19.2s remaining:  2.3min\n",
      "[Parallel(n_jobs=-1)]: Done  11 out of  16 | elapsed:   25.0s remaining:   11.3s\n",
      "[Parallel(n_jobs=-1)]: Done  16 out of  16 | elapsed:   38.2s finished\n",
      "\n",
      "[2022-02-02 10:32:53] Features: 2/8 -- score: 0.9336947456213511[Parallel(n_jobs=-1)]: Using backend LokyBackend with 12 concurrent workers.\n",
      "[Parallel(n_jobs=-1)]: Done   8 out of  15 | elapsed:   25.9s remaining:   22.6s\n",
      "[Parallel(n_jobs=-1)]: Done  15 out of  15 | elapsed:   39.4s finished\n",
      "\n",
      "[2022-02-02 10:33:32] Features: 3/8 -- score: 0.9628857381150958[Parallel(n_jobs=-1)]: Using backend LokyBackend with 12 concurrent workers.\n",
      "[Parallel(n_jobs=-1)]: Done   7 out of  14 | elapsed:   26.2s remaining:   26.2s\n",
      "[Parallel(n_jobs=-1)]: Done  14 out of  14 | elapsed:   38.8s finished\n",
      "\n",
      "[2022-02-02 10:34:11] Features: 4/8 -- score: 0.966743119266055[Parallel(n_jobs=-1)]: Using backend LokyBackend with 12 concurrent workers.\n",
      "[Parallel(n_jobs=-1)]: Done   4 out of  13 | elapsed:   25.7s remaining:   57.9s\n",
      "[Parallel(n_jobs=-1)]: Done  11 out of  13 | elapsed:   26.2s remaining:    4.7s\n",
      "[Parallel(n_jobs=-1)]: Done  13 out of  13 | elapsed:   37.9s finished\n",
      "\n",
      "[2022-02-02 10:34:49] Features: 5/8 -- score: 0.9719557964970809[Parallel(n_jobs=-1)]: Using backend LokyBackend with 12 concurrent workers.\n",
      "[Parallel(n_jobs=-1)]: Done   3 out of  12 | elapsed:   25.2s remaining:  1.3min\n",
      "[Parallel(n_jobs=-1)]: Done  10 out of  12 | elapsed:   25.6s remaining:    5.0s\n",
      "[Parallel(n_jobs=-1)]: Done  12 out of  12 | elapsed:   25.7s finished\n",
      "\n",
      "[2022-02-02 10:35:15] Features: 6/8 -- score: 0.9728940783986655[Parallel(n_jobs=-1)]: Using backend LokyBackend with 12 concurrent workers.\n",
      "[Parallel(n_jobs=-1)]: Done   6 out of  11 | elapsed:   25.0s remaining:   20.8s\n",
      "[Parallel(n_jobs=-1)]: Done  11 out of  11 | elapsed:   25.3s finished\n",
      "\n",
      "[2022-02-02 10:35:40] Features: 7/8 -- score: 0.9740408673894911[Parallel(n_jobs=-1)]: Using backend LokyBackend with 12 concurrent workers.\n",
      "[Parallel(n_jobs=-1)]: Done   5 out of  10 | elapsed:   23.4s remaining:   23.4s\n"
     ]
    },
    {
     "name": "stdout",
     "output_type": "stream",
     "text": [
      "0.9740408673894911\n",
      "('satisfaction_level', 'last_evaluation', 'number_project', 'average_montly_hours', 'time_spend_company', 'promotion_last_5years', 'marketing')\n"
     ]
    },
    {
     "name": "stderr",
     "output_type": "stream",
     "text": [
      "[Parallel(n_jobs=-1)]: Done  10 out of  10 | elapsed:   23.8s finished\n",
      "\n",
      "[2022-02-02 10:36:04] Features: 8/8 -- score: 0.9725813177648039"
     ]
    }
   ],
   "source": [
    "# sfs = SFS(MLPClassifier( activation = 'relu', hidden_layer_sizes = (20, 30),learning_rate = 'invscaling', \n",
    "#                         learning_rate_init = 0.001, max_iter = 200, solver = 'adam'),\n",
    "#           k_features = (3, 8),\n",
    "#           forward= True,\n",
    "#           floating = False,\n",
    "#           verbose= 2,\n",
    "#           scoring= 'accuracy',\n",
    "#           cv = 4,\n",
    "#           n_jobs= -1\n",
    "#          ).fit(X_train, y_train)\n",
    "\n",
    "# print(sfs.k_score_)\n",
    "# print(sfs.k_feature_names_)"
   ]
  },
  {
   "cell_type": "code",
   "execution_count": 433,
   "id": "24af8612",
   "metadata": {},
   "outputs": [
    {
     "name": "stdout",
     "output_type": "stream",
     "text": [
      "0.9740408673894911\n",
      "['satisfaction_level', 'last_evaluation', 'number_project', 'average_montly_hours', 'time_spend_company', 'promotion_last_5years', 'marketing']\n",
      "7\n"
     ]
    }
   ],
   "source": [
    "SFS_MLP_score = sfs.k_score_\n",
    "SFS_MLP_feature_names = list(sfs.k_feature_names_)\n",
    "SFS_MLP_features_num = len(sfs.k_feature_idx_)\n",
    "print(SFS_MLP_score)\n",
    "print(SFS_MLP_feature_names)\n",
    "print(SFS_MLP_features_num)"
   ]
  },
  {
   "cell_type": "code",
   "execution_count": 434,
   "id": "e82e27f5",
   "metadata": {
    "collapsed": true
   },
   "outputs": [
    {
     "name": "stderr",
     "output_type": "stream",
     "text": [
      "[Parallel(n_jobs=-1)]: Using backend LokyBackend with 12 concurrent workers.\n",
      "[Parallel(n_jobs=-1)]: Done   3 out of  17 | elapsed:   25.3s remaining:  2.0min\n",
      "[Parallel(n_jobs=-1)]: Done  12 out of  17 | elapsed:   26.0s remaining:   10.8s\n",
      "[Parallel(n_jobs=-1)]: Done  17 out of  17 | elapsed:   42.2s finished\n",
      "\n",
      "[2022-02-02 10:37:10] Features: 16/1 -- score: 0.969140950792327[Parallel(n_jobs=-1)]: Using backend LokyBackend with 12 concurrent workers.\n",
      "[Parallel(n_jobs=-1)]: Done   2 out of  16 | elapsed:   27.2s remaining:  3.2min\n",
      "[Parallel(n_jobs=-1)]: Done  11 out of  16 | elapsed:   27.7s remaining:   12.6s\n",
      "[Parallel(n_jobs=-1)]: Done  16 out of  16 | elapsed:   42.4s finished\n",
      "\n",
      "[2022-02-02 10:37:53] Features: 15/1 -- score: 0.9692452043369475[Parallel(n_jobs=-1)]: Using backend LokyBackend with 12 concurrent workers.\n",
      "[Parallel(n_jobs=-1)]: Done   8 out of  15 | elapsed:   28.6s remaining:   25.0s\n",
      "[Parallel(n_jobs=-1)]: Done  15 out of  15 | elapsed:   42.8s finished\n",
      "\n",
      "[2022-02-02 10:38:36] Features: 14/1 -- score: 0.968932443703086[Parallel(n_jobs=-1)]: Using backend LokyBackend with 12 concurrent workers.\n",
      "[Parallel(n_jobs=-1)]: Done   7 out of  14 | elapsed:   28.1s remaining:   28.1s\n",
      "[Parallel(n_jobs=-1)]: Done  14 out of  14 | elapsed:   41.5s finished\n",
      "\n",
      "[2022-02-02 10:39:18] Features: 13/1 -- score: 0.9717472894078398[Parallel(n_jobs=-1)]: Using backend LokyBackend with 12 concurrent workers.\n",
      "[Parallel(n_jobs=-1)]: Done   4 out of  13 | elapsed:   26.5s remaining:   59.8s\n",
      "[Parallel(n_jobs=-1)]: Done  11 out of  13 | elapsed:   27.2s remaining:    4.9s\n",
      "[Parallel(n_jobs=-1)]: Done  13 out of  13 | elapsed:   39.3s finished\n",
      "\n",
      "[2022-02-02 10:39:57] Features: 12/1 -- score: 0.9703919933277732[Parallel(n_jobs=-1)]: Using backend LokyBackend with 12 concurrent workers.\n",
      "[Parallel(n_jobs=-1)]: Done   3 out of  12 | elapsed:   25.8s remaining:  1.3min\n",
      "[Parallel(n_jobs=-1)]: Done  10 out of  12 | elapsed:   26.1s remaining:    5.1s\n",
      "[Parallel(n_jobs=-1)]: Done  12 out of  12 | elapsed:   26.2s finished\n",
      "\n",
      "[2022-02-02 10:40:23] Features: 11/1 -- score: 0.9710175145954962[Parallel(n_jobs=-1)]: Using backend LokyBackend with 12 concurrent workers.\n",
      "[Parallel(n_jobs=-1)]: Done   6 out of  11 | elapsed:   25.3s remaining:   21.1s\n",
      "[Parallel(n_jobs=-1)]: Done  11 out of  11 | elapsed:   25.5s finished\n",
      "\n",
      "[2022-02-02 10:40:49] Features: 10/1 -- score: 0.9725813177648039[Parallel(n_jobs=-1)]: Using backend LokyBackend with 12 concurrent workers.\n",
      "[Parallel(n_jobs=-1)]: Done   5 out of  10 | elapsed:   23.5s remaining:   23.5s\n",
      "[Parallel(n_jobs=-1)]: Done  10 out of  10 | elapsed:   23.6s finished\n",
      "\n",
      "[2022-02-02 10:41:13] Features: 9/1 -- score: 0.9706005004170142[Parallel(n_jobs=-1)]: Using backend LokyBackend with 12 concurrent workers.\n",
      "[Parallel(n_jobs=-1)]: Done   6 out of   9 | elapsed:   21.9s remaining:   10.9s\n",
      "[Parallel(n_jobs=-1)]: Done   9 out of   9 | elapsed:   22.4s finished\n",
      "\n",
      "[2022-02-02 10:41:35] Features: 8/1 -- score: 0.9713302752293578[Parallel(n_jobs=-1)]: Using backend LokyBackend with 12 concurrent workers.\n",
      "[Parallel(n_jobs=-1)]: Done   5 out of   8 | elapsed:   20.2s remaining:   12.1s\n",
      "[Parallel(n_jobs=-1)]: Done   8 out of   8 | elapsed:   20.4s finished\n",
      "\n",
      "[2022-02-02 10:41:56] Features: 7/1 -- score: 0.9723728106755629[Parallel(n_jobs=-1)]: Using backend LokyBackend with 12 concurrent workers.\n",
      "[Parallel(n_jobs=-1)]: Done   4 out of   7 | elapsed:   18.4s remaining:   13.8s\n",
      "[Parallel(n_jobs=-1)]: Done   7 out of   7 | elapsed:   18.7s finished\n",
      "\n",
      "[2022-02-02 10:42:14] Features: 6/1 -- score: 0.9720600500417014[Parallel(n_jobs=-1)]: Using backend LokyBackend with 12 concurrent workers.\n",
      "[Parallel(n_jobs=-1)]: Done   3 out of   6 | elapsed:   17.0s remaining:   17.0s\n",
      "[Parallel(n_jobs=-1)]: Done   6 out of   6 | elapsed:   17.5s finished\n",
      "\n",
      "[2022-02-02 10:42:32] Features: 5/1 -- score: 0.9717472894078398[Parallel(n_jobs=-1)]: Using backend LokyBackend with 12 concurrent workers.\n",
      "[Parallel(n_jobs=-1)]: Done   3 out of   5 | elapsed:   15.8s remaining:   10.5s\n",
      "[Parallel(n_jobs=-1)]: Done   5 out of   5 | elapsed:   16.0s finished\n",
      "\n",
      "[2022-02-02 10:42:48] Features: 4/1 -- score: 0.9694537114261885[Parallel(n_jobs=-1)]: Using backend LokyBackend with 12 concurrent workers.\n",
      "[Parallel(n_jobs=-1)]: Done   2 out of   4 | elapsed:   13.8s remaining:   13.8s\n",
      "[Parallel(n_jobs=-1)]: Done   4 out of   4 | elapsed:   14.1s finished\n",
      "\n",
      "[2022-02-02 10:43:02] Features: 3/1 -- score: 0.9601751459549625[Parallel(n_jobs=-1)]: Using backend LokyBackend with 12 concurrent workers.\n",
      "[Parallel(n_jobs=-1)]: Done   3 out of   3 | elapsed:   13.0s finished\n",
      "\n",
      "[2022-02-02 10:43:15] Features: 2/1 -- score: 0.9342160133444537[Parallel(n_jobs=-1)]: Using backend LokyBackend with 12 concurrent workers.\n"
     ]
    },
    {
     "name": "stdout",
     "output_type": "stream",
     "text": [
      "0.8949124270225187\n",
      "('satisfaction_level',)\n"
     ]
    },
    {
     "name": "stderr",
     "output_type": "stream",
     "text": [
      "[Parallel(n_jobs=-1)]: Done   2 out of   2 | elapsed:   11.8s finished\n",
      "\n",
      "[2022-02-02 10:43:27] Features: 1/1 -- score: 0.8949124270225187"
     ]
    }
   ],
   "source": [
    "# sbs = SFS(MLPClassifier( activation = 'relu', hidden_layer_sizes = (20, 30),learning_rate = 'invscaling', \n",
    "#                         learning_rate_init = 0.001, max_iter = 200, solver = 'adam'),\n",
    "#           forward= False,\n",
    "#           floating = False,\n",
    "#           verbose= 2,\n",
    "#           scoring= 'accuracy',\n",
    "#           cv = 4,\n",
    "#           n_jobs= -1\n",
    "#          ).fit(X_train, y_train)\n",
    "\n",
    "# print(sbs.k_score_)\n",
    "# print(sbs.k_feature_names_)"
   ]
  },
  {
   "cell_type": "code",
   "execution_count": 435,
   "id": "d848ae82",
   "metadata": {},
   "outputs": [
    {
     "name": "stdout",
     "output_type": "stream",
     "text": [
      "0.8949124270225187\n",
      "['satisfaction_level']\n",
      "1\n"
     ]
    }
   ],
   "source": [
    "SBS_MLP_score = sbs.k_score_\n",
    "SBS_MLP_feature_names = list(sbs.k_feature_names_)\n",
    "SBS_MLP_features_num = len(sbs.k_feature_idx_)\n",
    "print(SBS_MLP_score)\n",
    "print(SBS_MLP_feature_names)\n",
    "print(SBS_MLP_features_num)"
   ]
  },
  {
   "cell_type": "code",
   "execution_count": 437,
   "id": "e250faf6",
   "metadata": {},
   "outputs": [
    {
     "name": "stderr",
     "output_type": "stream",
     "text": [
      "Features: 816/816"
     ]
    }
   ],
   "source": [
    "# efs = EFS(MLPClassifier( activation = 'relu', hidden_layer_sizes = (20, 30),learning_rate = 'invscaling', \n",
    "#                         learning_rate_init = 0.001, max_iter = 200, solver = 'adam'),\n",
    "#          min_features = 2,\n",
    "#           max_features=3,\n",
    "#           scoring= 'accuracy',\n",
    "#           cv = None,\n",
    "#           n_jobs= -1\n",
    "#          ).fit(X_train, y_train)"
   ]
  },
  {
   "cell_type": "code",
   "execution_count": 438,
   "id": "85741362",
   "metadata": {},
   "outputs": [
    {
     "name": "stdout",
     "output_type": "stream",
     "text": [
      "0.9696622185154296\n",
      "['satisfaction_level', 'last_evaluation', 'time_spend_company']\n",
      "3\n"
     ]
    }
   ],
   "source": [
    "EFS_MLP_score = efs.best_score_\n",
    "EFS_MLP_feature_names = list(efs.best_feature_names_)\n",
    "EFS_MLP_features_num = len(efs.best_idx_)\n",
    "print(EFS_MLP_score)\n",
    "print(EFS_MLP_feature_names)\n",
    "print(EFS_MLP_features_num)"
   ]
  },
  {
   "cell_type": "code",
   "execution_count": 439,
   "id": "87b742bf",
   "metadata": {},
   "outputs": [],
   "source": [
    "X_train_new = X_train\n",
    "X_test_new = X_test"
   ]
  },
  {
   "cell_type": "code",
   "execution_count": 440,
   "id": "63f3ed29",
   "metadata": {},
   "outputs": [
    {
     "ename": "ValueError",
     "evalue": "when `importance_getter=='auto'`, the underlying estimator MLPClassifier should have `coef_` or `feature_importances_` attribute. Either pass a fitted estimator to feature selector or call fit before calling transform.",
     "output_type": "error",
     "traceback": [
      "\u001b[1;31m---------------------------------------------------------------------------\u001b[0m",
      "\u001b[1;31mValueError\u001b[0m                                Traceback (most recent call last)",
      "\u001b[1;32m<ipython-input-440-44eae7f192cd>\u001b[0m in \u001b[0;36m<module>\u001b[1;34m\u001b[0m\n\u001b[0;32m      7\u001b[0m \u001b[1;33m\u001b[0m\u001b[0m\n\u001b[0;32m      8\u001b[0m     \u001b[0mrfe\u001b[0m \u001b[1;33m=\u001b[0m \u001b[0mRFE\u001b[0m\u001b[1;33m(\u001b[0m\u001b[0mmlp\u001b[0m\u001b[1;33m,\u001b[0m \u001b[0mi\u001b[0m\u001b[1;33m)\u001b[0m \u001b[1;31m#fit RFE model with different number of features 1 to 32\u001b[0m\u001b[1;33m\u001b[0m\u001b[1;33m\u001b[0m\u001b[0m\n\u001b[1;32m----> 9\u001b[1;33m     \u001b[0mrfe\u001b[0m \u001b[1;33m=\u001b[0m \u001b[0mrfe\u001b[0m\u001b[1;33m.\u001b[0m\u001b[0mfit\u001b[0m\u001b[1;33m(\u001b[0m\u001b[0mX_train\u001b[0m\u001b[1;33m,\u001b[0m \u001b[0my_train\u001b[0m\u001b[1;33m)\u001b[0m\u001b[1;33m\u001b[0m\u001b[1;33m\u001b[0m\u001b[0m\n\u001b[0m\u001b[0;32m     10\u001b[0m \u001b[1;33m\u001b[0m\u001b[0m\n\u001b[0;32m     11\u001b[0m     \u001b[0my_pred\u001b[0m\u001b[1;33m=\u001b[0m \u001b[0mrfe\u001b[0m\u001b[1;33m.\u001b[0m\u001b[0mpredict\u001b[0m\u001b[1;33m(\u001b[0m\u001b[0mX_test\u001b[0m\u001b[1;33m)\u001b[0m\u001b[1;33m\u001b[0m\u001b[1;33m\u001b[0m\u001b[0m\n",
      "\u001b[1;32m~\\anaconda3\\lib\\site-packages\\sklearn\\feature_selection\\_rfe.py\u001b[0m in \u001b[0;36mfit\u001b[1;34m(self, X, y)\u001b[0m\n\u001b[0;32m    182\u001b[0m             \u001b[0mThe\u001b[0m \u001b[0mtarget\u001b[0m \u001b[0mvalues\u001b[0m\u001b[1;33m.\u001b[0m\u001b[1;33m\u001b[0m\u001b[1;33m\u001b[0m\u001b[0m\n\u001b[0;32m    183\u001b[0m         \"\"\"\n\u001b[1;32m--> 184\u001b[1;33m         \u001b[1;32mreturn\u001b[0m \u001b[0mself\u001b[0m\u001b[1;33m.\u001b[0m\u001b[0m_fit\u001b[0m\u001b[1;33m(\u001b[0m\u001b[0mX\u001b[0m\u001b[1;33m,\u001b[0m \u001b[0my\u001b[0m\u001b[1;33m)\u001b[0m\u001b[1;33m\u001b[0m\u001b[1;33m\u001b[0m\u001b[0m\n\u001b[0m\u001b[0;32m    185\u001b[0m \u001b[1;33m\u001b[0m\u001b[0m\n\u001b[0;32m    186\u001b[0m     \u001b[1;32mdef\u001b[0m \u001b[0m_fit\u001b[0m\u001b[1;33m(\u001b[0m\u001b[0mself\u001b[0m\u001b[1;33m,\u001b[0m \u001b[0mX\u001b[0m\u001b[1;33m,\u001b[0m \u001b[0my\u001b[0m\u001b[1;33m,\u001b[0m \u001b[0mstep_score\u001b[0m\u001b[1;33m=\u001b[0m\u001b[1;32mNone\u001b[0m\u001b[1;33m)\u001b[0m\u001b[1;33m:\u001b[0m\u001b[1;33m\u001b[0m\u001b[1;33m\u001b[0m\u001b[0m\n",
      "\u001b[1;32m~\\anaconda3\\lib\\site-packages\\sklearn\\feature_selection\\_rfe.py\u001b[0m in \u001b[0;36m_fit\u001b[1;34m(self, X, y, step_score)\u001b[0m\n\u001b[0;32m    242\u001b[0m \u001b[1;33m\u001b[0m\u001b[0m\n\u001b[0;32m    243\u001b[0m             \u001b[1;31m# Get importance and rank them\u001b[0m\u001b[1;33m\u001b[0m\u001b[1;33m\u001b[0m\u001b[1;33m\u001b[0m\u001b[0m\n\u001b[1;32m--> 244\u001b[1;33m             importances = _get_feature_importances(\n\u001b[0m\u001b[0;32m    245\u001b[0m                 \u001b[0mestimator\u001b[0m\u001b[1;33m,\u001b[0m \u001b[0mself\u001b[0m\u001b[1;33m.\u001b[0m\u001b[0mimportance_getter\u001b[0m\u001b[1;33m,\u001b[0m \u001b[0mtransform_func\u001b[0m\u001b[1;33m=\u001b[0m\u001b[1;34m\"square\"\u001b[0m\u001b[1;33m,\u001b[0m\u001b[1;33m\u001b[0m\u001b[1;33m\u001b[0m\u001b[0m\n\u001b[0;32m    246\u001b[0m             )\n",
      "\u001b[1;32m~\\anaconda3\\lib\\site-packages\\sklearn\\feature_selection\\_base.py\u001b[0m in \u001b[0;36m_get_feature_importances\u001b[1;34m(estimator, getter, transform_func, norm_order)\u001b[0m\n\u001b[0;32m    171\u001b[0m                 \u001b[0mgetter\u001b[0m \u001b[1;33m=\u001b[0m \u001b[0mattrgetter\u001b[0m\u001b[1;33m(\u001b[0m\u001b[1;34m'feature_importances_'\u001b[0m\u001b[1;33m)\u001b[0m\u001b[1;33m\u001b[0m\u001b[1;33m\u001b[0m\u001b[0m\n\u001b[0;32m    172\u001b[0m             \u001b[1;32melse\u001b[0m\u001b[1;33m:\u001b[0m\u001b[1;33m\u001b[0m\u001b[1;33m\u001b[0m\u001b[0m\n\u001b[1;32m--> 173\u001b[1;33m                 raise ValueError(\n\u001b[0m\u001b[0;32m    174\u001b[0m                     \u001b[1;34mf\"when `importance_getter=='auto'`, the underlying \"\u001b[0m\u001b[1;33m\u001b[0m\u001b[1;33m\u001b[0m\u001b[0m\n\u001b[0;32m    175\u001b[0m                     \u001b[1;34mf\"estimator {estimator.__class__.__name__} should have \"\u001b[0m\u001b[1;33m\u001b[0m\u001b[1;33m\u001b[0m\u001b[0m\n",
      "\u001b[1;31mValueError\u001b[0m: when `importance_getter=='auto'`, the underlying estimator MLPClassifier should have `coef_` or `feature_importances_` attribute. Either pass a fitted estimator to feature selector or call fit before calling transform."
     ]
    }
   ],
   "source": [
    "for i in range(1, X_train.shape[1]+1):\n",
    "#     lm = LinearRegression() #creat LR model on train set\n",
    "#     lm.fit(X_train,y_train)\n",
    "    \n",
    "    mlp = MLPClassifier()\n",
    "    mlp.fit(X_train, y_train)\n",
    "    \n",
    "    rfe = RFE(mlp, i) #fit RFE model with different number of features 1 to 32\n",
    "    rfe = rfe.fit(X_train, y_train)\n",
    "    \n",
    "    y_pred= rfe.predict(X_test)\n",
    "    acc = accuracy_score(y_test, y_pred)\n",
    "    \n",
    "    if acc>0.80:\n",
    "        best_n_feature = i\n",
    "        print('best number of feature:',best_n_feature)\n",
    "        print('acc based on best number of feature:',acc)"
   ]
  },
  {
   "cell_type": "markdown",
   "id": "1d9da6eb",
   "metadata": {},
   "source": [
    "# SVM"
   ]
  },
  {
   "cell_type": "code",
   "execution_count": 441,
   "id": "99192f80",
   "metadata": {},
   "outputs": [],
   "source": [
    "from sklearn.svm import SVC"
   ]
  },
  {
   "cell_type": "code",
   "execution_count": 442,
   "id": "458c574b",
   "metadata": {},
   "outputs": [
    {
     "data": {
      "text/plain": [
       "0.9541321239922157"
      ]
     },
     "execution_count": 442,
     "metadata": {},
     "output_type": "execute_result"
    }
   ],
   "source": [
    "SVM = SVC()\n",
    "\n",
    "acc_SVM = cross_val_score(SVM, X, y, cv=10, scoring='accuracy')\n",
    "\n",
    "acc_SVM.mean()"
   ]
  },
  {
   "cell_type": "code",
   "execution_count": null,
   "id": "07cca25d",
   "metadata": {},
   "outputs": [],
   "source": [
    "# SVM = SVC()\n",
    "\n",
    "# params = {\"kernel\":['linear', 'poly', 'rbf'],\n",
    "#          \"class_weight\":['balanced', {0:0.4, 1:0.6}],\n",
    "#          \"gamma\" : [0.01, 0.1, 0.3, 0.7],\n",
    "#          \"C\" : [0.01 , 0.1, 20, 100]}\n",
    "\n",
    "# GS = GridSearchCV(SVM, params, cv=10, scoring='accuracy', n_jobs=-1)\n",
    "\n",
    "# GS.fit(X, y)"
   ]
  },
  {
   "cell_type": "code",
   "execution_count": null,
   "id": "e2c3f192",
   "metadata": {},
   "outputs": [],
   "source": [
    "GS.best_params_"
   ]
  },
  {
   "cell_type": "code",
   "execution_count": null,
   "id": "9e204df6",
   "metadata": {},
   "outputs": [],
   "source": [
    "GS.best_score_"
   ]
  },
  {
   "cell_type": "code",
   "execution_count": 445,
   "id": "63c24d80",
   "metadata": {},
   "outputs": [
    {
     "data": {
      "text/plain": [
       "0.7190407978871283"
      ]
     },
     "execution_count": 445,
     "metadata": {},
     "output_type": "execute_result"
    }
   ],
   "source": [
    "SVM = SVC(C = 0.01,\n",
    "          class_weight = 'balanced',\n",
    "          degree = 2,\n",
    "          gamma = 0.5,\n",
    "          kernel = 'poly')\n",
    "\n",
    "acc = cross_val_score(SVM, X, y, cv=10, scoring='accuracy', n_jobs=-1)\n",
    "acc_SVM = acc.mean()\n",
    "acc_SVM"
   ]
  },
  {
   "cell_type": "code",
   "execution_count": 446,
   "id": "b6da199e",
   "metadata": {},
   "outputs": [
    {
     "data": {
      "text/plain": [
       "0.7298874531054607"
      ]
     },
     "execution_count": 446,
     "metadata": {},
     "output_type": "execute_result"
    }
   ],
   "source": [
    "SVM = SVC(C = 0.01,\n",
    "          class_weight = 'balanced',\n",
    "          degree = 2,\n",
    "          gamma = 0.5,\n",
    "          kernel = 'poly')\n",
    "\n",
    "SVM.fit(X_train, y_train)\n",
    "\n",
    "pred = SVM.predict(X_test)\n",
    "\n",
    "acc_SVM_trainTest = (pred==y_test).mean()\n",
    "acc_SVM_trainTest"
   ]
  },
  {
   "cell_type": "code",
   "execution_count": 447,
   "id": "e9bde582",
   "metadata": {
    "collapsed": true
   },
   "outputs": [
    {
     "name": "stderr",
     "output_type": "stream",
     "text": [
      "[Parallel(n_jobs=-1)]: Using backend LokyBackend with 12 concurrent workers.\n",
      "[Parallel(n_jobs=-1)]: Done   3 out of  17 | elapsed:    8.5s remaining:   39.9s\n",
      "[Parallel(n_jobs=-1)]: Done  12 out of  17 | elapsed:   11.9s remaining:    4.9s\n",
      "[Parallel(n_jobs=-1)]: Done  17 out of  17 | elapsed:   14.9s finished\n",
      "\n",
      "[2022-02-02 11:12:38] Features: 1/6 -- score: 0.4738323603002502[Parallel(n_jobs=-1)]: Using backend LokyBackend with 12 concurrent workers.\n",
      "[Parallel(n_jobs=-1)]: Done   2 out of  16 | elapsed:   11.6s remaining:  1.4min\n",
      "[Parallel(n_jobs=-1)]: Done  11 out of  16 | elapsed:   12.7s remaining:    5.7s\n",
      "[Parallel(n_jobs=-1)]: Done  16 out of  16 | elapsed:   19.5s finished\n",
      "\n",
      "[2022-02-02 11:12:57] Features: 2/6 -- score: 0.6419933277731443[Parallel(n_jobs=-1)]: Using backend LokyBackend with 12 concurrent workers.\n",
      "[Parallel(n_jobs=-1)]: Done   8 out of  15 | elapsed:   13.6s remaining:   11.9s\n",
      "[Parallel(n_jobs=-1)]: Done  15 out of  15 | elapsed:   20.1s finished\n",
      "\n",
      "[2022-02-02 11:13:17] Features: 3/6 -- score: 0.8182860717264386[Parallel(n_jobs=-1)]: Using backend LokyBackend with 12 concurrent workers.\n",
      "[Parallel(n_jobs=-1)]: Done   7 out of  14 | elapsed:   13.9s remaining:   13.9s\n",
      "[Parallel(n_jobs=-1)]: Done  14 out of  14 | elapsed:   20.2s finished\n",
      "\n",
      "[2022-02-02 11:13:38] Features: 4/6 -- score: 0.8182860717264386[Parallel(n_jobs=-1)]: Using backend LokyBackend with 12 concurrent workers.\n",
      "[Parallel(n_jobs=-1)]: Done   4 out of  13 | elapsed:   14.3s remaining:   32.4s\n",
      "[Parallel(n_jobs=-1)]: Done  11 out of  13 | elapsed:   14.9s remaining:    2.6s\n",
      "[Parallel(n_jobs=-1)]: Done  13 out of  13 | elapsed:   20.4s finished\n",
      "\n",
      "[2022-02-02 11:13:58] Features: 5/6 -- score: 0.8181818181818181[Parallel(n_jobs=-1)]: Using backend LokyBackend with 12 concurrent workers.\n",
      "[Parallel(n_jobs=-1)]: Done   3 out of  12 | elapsed:   14.0s remaining:   42.2s\n"
     ]
    },
    {
     "name": "stdout",
     "output_type": "stream",
     "text": [
      "0.8182860717264386\n",
      "('satisfaction_level', 'number_project', 'average_montly_hours')\n"
     ]
    },
    {
     "name": "stderr",
     "output_type": "stream",
     "text": [
      "[Parallel(n_jobs=-1)]: Done  10 out of  12 | elapsed:   14.8s remaining:    2.9s\n",
      "[Parallel(n_jobs=-1)]: Done  12 out of  12 | elapsed:   14.9s finished\n",
      "\n",
      "[2022-02-02 11:14:13] Features: 6/6 -- score: 0.8176605504587156"
     ]
    }
   ],
   "source": [
    "sfs = SFS(SVC(C = 0.01, class_weight = 'balanced', degree = 2, gamma = 0.5, kernel = 'poly'),\n",
    "          k_features = (3, 6),\n",
    "          forward= True,\n",
    "          floating = False,\n",
    "          verbose= 2,\n",
    "          scoring= 'accuracy',\n",
    "          cv = 4,\n",
    "          n_jobs= -1\n",
    "         ).fit(X_train, y_train)\n",
    "\n",
    "print(sfs.k_score_)\n",
    "print(sfs.k_feature_names_)"
   ]
  },
  {
   "cell_type": "code",
   "execution_count": 448,
   "id": "1a067355",
   "metadata": {},
   "outputs": [
    {
     "name": "stdout",
     "output_type": "stream",
     "text": [
      "0.8182860717264386\n",
      "['satisfaction_level', 'number_project', 'average_montly_hours']\n",
      "3\n"
     ]
    }
   ],
   "source": [
    "SFS_SVM_score = sfs.k_score_\n",
    "SFS_SVM_feature_names = list(sfs.k_feature_names_)\n",
    "SFS_SVM_features_num = len(sfs.k_feature_idx_)\n",
    "print(SFS_SVM_score)\n",
    "print(SFS_SVM_feature_names)\n",
    "print(SFS_SVM_features_num)"
   ]
  },
  {
   "cell_type": "code",
   "execution_count": 450,
   "id": "57525977",
   "metadata": {
    "collapsed": true
   },
   "outputs": [
    {
     "name": "stderr",
     "output_type": "stream",
     "text": [
      "[Parallel(n_jobs=-1)]: Using backend LokyBackend with 12 concurrent workers.\n",
      "[Parallel(n_jobs=-1)]: Done   3 out of  17 | elapsed:   19.2s remaining:  1.5min\n",
      "[Parallel(n_jobs=-1)]: Done  12 out of  17 | elapsed:   20.6s remaining:    8.5s\n",
      "[Parallel(n_jobs=-1)]: Done  17 out of  17 | elapsed:   29.7s finished\n",
      "\n",
      "[2022-02-02 11:16:15] Features: 16/3 -- score: 0.8182860717264387[Parallel(n_jobs=-1)]: Using backend LokyBackend with 12 concurrent workers.\n",
      "[Parallel(n_jobs=-1)]: Done   2 out of  16 | elapsed:   19.2s remaining:  2.3min\n",
      "[Parallel(n_jobs=-1)]: Done  11 out of  16 | elapsed:   21.6s remaining:    9.8s\n",
      "[Parallel(n_jobs=-1)]: Done  16 out of  16 | elapsed:   29.6s finished\n",
      "\n",
      "[2022-02-02 11:16:45] Features: 15/3 -- score: 0.8220391993327774[Parallel(n_jobs=-1)]: Using backend LokyBackend with 12 concurrent workers.\n",
      "[Parallel(n_jobs=-1)]: Done   8 out of  15 | elapsed:   19.4s remaining:   17.0s\n",
      "[Parallel(n_jobs=-1)]: Done  15 out of  15 | elapsed:   27.7s finished\n",
      "\n",
      "[2022-02-02 11:17:13] Features: 14/3 -- score: 0.8244370308590492[Parallel(n_jobs=-1)]: Using backend LokyBackend with 12 concurrent workers.\n",
      "[Parallel(n_jobs=-1)]: Done   7 out of  14 | elapsed:   18.7s remaining:   18.7s\n",
      "[Parallel(n_jobs=-1)]: Done  14 out of  14 | elapsed:   25.6s finished\n",
      "\n",
      "[2022-02-02 11:17:39] Features: 13/3 -- score: 0.8251668056713928[Parallel(n_jobs=-1)]: Using backend LokyBackend with 12 concurrent workers.\n",
      "[Parallel(n_jobs=-1)]: Done   4 out of  13 | elapsed:   17.4s remaining:   39.3s\n",
      "[Parallel(n_jobs=-1)]: Done  11 out of  13 | elapsed:   18.4s remaining:    3.3s\n",
      "[Parallel(n_jobs=-1)]: Done  13 out of  13 | elapsed:   24.7s finished\n",
      "\n",
      "[2022-02-02 11:18:04] Features: 12/3 -- score: 0.8256880733944953[Parallel(n_jobs=-1)]: Using backend LokyBackend with 12 concurrent workers.\n",
      "[Parallel(n_jobs=-1)]: Done   3 out of  12 | elapsed:   18.9s remaining:   57.0s\n",
      "[Parallel(n_jobs=-1)]: Done  10 out of  12 | elapsed:   19.5s remaining:    3.8s\n",
      "[Parallel(n_jobs=-1)]: Done  12 out of  12 | elapsed:   19.7s finished\n",
      "\n",
      "[2022-02-02 11:18:23] Features: 11/3 -- score: 0.8341326105087573[Parallel(n_jobs=-1)]: Using backend LokyBackend with 12 concurrent workers.\n",
      "[Parallel(n_jobs=-1)]: Done   6 out of  11 | elapsed:   16.2s remaining:   13.5s\n",
      "[Parallel(n_jobs=-1)]: Done  11 out of  11 | elapsed:   16.9s finished\n",
      "\n",
      "[2022-02-02 11:18:40] Features: 10/3 -- score: 0.8408048373644703[Parallel(n_jobs=-1)]: Using backend LokyBackend with 12 concurrent workers.\n",
      "[Parallel(n_jobs=-1)]: Done   5 out of  10 | elapsed:   16.9s remaining:   16.9s\n",
      "[Parallel(n_jobs=-1)]: Done  10 out of  10 | elapsed:   17.0s finished\n",
      "\n",
      "[2022-02-02 11:18:57] Features: 9/3 -- score: 0.8424728940783985[Parallel(n_jobs=-1)]: Using backend LokyBackend with 12 concurrent workers.\n",
      "[Parallel(n_jobs=-1)]: Done   6 out of   9 | elapsed:   15.1s remaining:    7.5s\n",
      "[Parallel(n_jobs=-1)]: Done   9 out of   9 | elapsed:   15.1s finished\n",
      "\n",
      "[2022-02-02 11:19:13] Features: 8/3 -- score: 0.842577147623019[Parallel(n_jobs=-1)]: Using backend LokyBackend with 12 concurrent workers.\n",
      "[Parallel(n_jobs=-1)]: Done   5 out of   8 | elapsed:   12.9s remaining:    7.7s\n",
      "[Parallel(n_jobs=-1)]: Done   8 out of   8 | elapsed:   13.0s finished\n",
      "\n",
      "[2022-02-02 11:19:26] Features: 7/3 -- score: 0.8426814011676398[Parallel(n_jobs=-1)]: Using backend LokyBackend with 12 concurrent workers.\n",
      "[Parallel(n_jobs=-1)]: Done   4 out of   7 | elapsed:   11.2s remaining:    8.4s\n",
      "[Parallel(n_jobs=-1)]: Done   7 out of   7 | elapsed:   11.5s finished\n",
      "\n",
      "[2022-02-02 11:19:37] Features: 6/3 -- score: 0.8430984153461218[Parallel(n_jobs=-1)]: Using backend LokyBackend with 12 concurrent workers.\n",
      "[Parallel(n_jobs=-1)]: Done   3 out of   6 | elapsed:   10.2s remaining:   10.2s\n",
      "[Parallel(n_jobs=-1)]: Done   6 out of   6 | elapsed:   10.5s finished\n",
      "\n",
      "[2022-02-02 11:19:48] Features: 5/3 -- score: 0.8433069224353629[Parallel(n_jobs=-1)]: Using backend LokyBackend with 12 concurrent workers.\n",
      "[Parallel(n_jobs=-1)]: Done   3 out of   5 | elapsed:    9.0s remaining:    6.0s\n",
      "[Parallel(n_jobs=-1)]: Done   5 out of   5 | elapsed:    9.1s finished\n",
      "\n",
      "[2022-02-02 11:19:57] Features: 4/3 -- score: 0.8427856547122603[Parallel(n_jobs=-1)]: Using backend LokyBackend with 12 concurrent workers.\n",
      "[Parallel(n_jobs=-1)]: Done   2 out of   4 | elapsed:    8.3s remaining:    8.3s\n",
      "[Parallel(n_jobs=-1)]: Done   4 out of   4 | elapsed:    8.5s finished\n"
     ]
    },
    {
     "name": "stdout",
     "output_type": "stream",
     "text": [
      "0.8433069224353629\n",
      "('last_evaluation', 'number_project', 'average_montly_hours', 'promotion_last_5years', 'marketing')\n"
     ]
    },
    {
     "name": "stderr",
     "output_type": "stream",
     "text": [
      "\n",
      "[2022-02-02 11:20:06] Features: 3/3 -- score: 0.842160133444537"
     ]
    }
   ],
   "source": [
    "sbs = SFS(SVC(C = 0.01, class_weight = 'balanced', degree = 2, gamma = 0.5, kernel = 'poly'),\n",
    "          k_features = (3, 5),\n",
    "          forward= False,\n",
    "          floating = False,\n",
    "          verbose= 2,\n",
    "          scoring= 'accuracy',\n",
    "          cv = 4,\n",
    "          n_jobs= -1\n",
    "         ).fit(X_train, y_train)\n",
    "\n",
    "print(sbs.k_score_)\n",
    "print(sbs.k_feature_names_)"
   ]
  },
  {
   "cell_type": "code",
   "execution_count": 451,
   "id": "9b54ae63",
   "metadata": {},
   "outputs": [
    {
     "name": "stdout",
     "output_type": "stream",
     "text": [
      "0.8433069224353629\n",
      "['last_evaluation', 'number_project', 'average_montly_hours', 'promotion_last_5years', 'marketing']\n",
      "5\n"
     ]
    }
   ],
   "source": [
    "SBS_SVM_score = sbs.k_score_\n",
    "SBS_SVM_feature_names = list(sbs.k_feature_names_)\n",
    "SBS_SVM_features_num = len(sbs.k_feature_idx_)\n",
    "print(SBS_SVM_score)\n",
    "print(SBS_SVM_feature_names)\n",
    "print(SBS_SVM_features_num)"
   ]
  },
  {
   "cell_type": "code",
   "execution_count": 452,
   "id": "07dce185",
   "metadata": {},
   "outputs": [
    {
     "name": "stderr",
     "output_type": "stream",
     "text": [
      "Features: 136/136"
     ]
    }
   ],
   "source": [
    "efs = EFS(SVC(C = 0.01, class_weight = 'balanced', degree = 2, gamma = 0.5, kernel = 'poly'),\n",
    "         min_features = 2,\n",
    "          max_features=2,\n",
    "          scoring= 'accuracy',\n",
    "          cv = None,\n",
    "          n_jobs= -1\n",
    "         ).fit(X_train, y_train)"
   ]
  },
  {
   "cell_type": "code",
   "execution_count": 453,
   "id": "06bd6250",
   "metadata": {},
   "outputs": [
    {
     "name": "stdout",
     "output_type": "stream",
     "text": [
      "0.8332985821517932\n",
      "['last_evaluation', 'number_project']\n",
      "2\n"
     ]
    }
   ],
   "source": [
    "EFS_SVM_score = efs.best_score_\n",
    "EFS_SVM_feature_names = list(efs.best_feature_names_)\n",
    "EFS_SVM_features_num = len(efs.best_idx_)\n",
    "print(EFS_SVM_score)\n",
    "print(EFS_SVM_feature_names)\n",
    "print(EFS_SVM_features_num)"
   ]
  },
  {
   "cell_type": "code",
   "execution_count": 454,
   "id": "db2480b6",
   "metadata": {},
   "outputs": [],
   "source": [
    "X_train_new = X_train\n",
    "X_test_new = X_test"
   ]
  },
  {
   "cell_type": "code",
   "execution_count": 455,
   "id": "db4d0227",
   "metadata": {},
   "outputs": [
    {
     "ename": "ValueError",
     "evalue": "when `importance_getter=='auto'`, the underlying estimator SVC should have `coef_` or `feature_importances_` attribute. Either pass a fitted estimator to feature selector or call fit before calling transform.",
     "output_type": "error",
     "traceback": [
      "\u001b[1;31m---------------------------------------------------------------------------\u001b[0m",
      "\u001b[1;31mValueError\u001b[0m                                Traceback (most recent call last)",
      "\u001b[1;32m<ipython-input-455-cc29e95a71ea>\u001b[0m in \u001b[0;36m<module>\u001b[1;34m\u001b[0m\n\u001b[0;32m      5\u001b[0m \u001b[1;33m\u001b[0m\u001b[0m\n\u001b[0;32m      6\u001b[0m     \u001b[0mrfe\u001b[0m \u001b[1;33m=\u001b[0m \u001b[0mRFE\u001b[0m\u001b[1;33m(\u001b[0m\u001b[0msvm\u001b[0m\u001b[1;33m,\u001b[0m \u001b[0mi\u001b[0m\u001b[1;33m)\u001b[0m \u001b[1;31m#fit RFE model with different number of features 1 to 32\u001b[0m\u001b[1;33m\u001b[0m\u001b[1;33m\u001b[0m\u001b[0m\n\u001b[1;32m----> 7\u001b[1;33m     \u001b[0mrfe\u001b[0m \u001b[1;33m=\u001b[0m \u001b[0mrfe\u001b[0m\u001b[1;33m.\u001b[0m\u001b[0mfit\u001b[0m\u001b[1;33m(\u001b[0m\u001b[0mX_train\u001b[0m\u001b[1;33m,\u001b[0m \u001b[0my_train\u001b[0m\u001b[1;33m)\u001b[0m\u001b[1;33m\u001b[0m\u001b[1;33m\u001b[0m\u001b[0m\n\u001b[0m\u001b[0;32m      8\u001b[0m \u001b[1;33m\u001b[0m\u001b[0m\n\u001b[0;32m      9\u001b[0m     \u001b[0my_pred\u001b[0m\u001b[1;33m=\u001b[0m \u001b[0mrfe\u001b[0m\u001b[1;33m.\u001b[0m\u001b[0mpredict\u001b[0m\u001b[1;33m(\u001b[0m\u001b[0mX_test\u001b[0m\u001b[1;33m)\u001b[0m\u001b[1;33m\u001b[0m\u001b[1;33m\u001b[0m\u001b[0m\n",
      "\u001b[1;32m~\\anaconda3\\lib\\site-packages\\sklearn\\feature_selection\\_rfe.py\u001b[0m in \u001b[0;36mfit\u001b[1;34m(self, X, y)\u001b[0m\n\u001b[0;32m    182\u001b[0m             \u001b[0mThe\u001b[0m \u001b[0mtarget\u001b[0m \u001b[0mvalues\u001b[0m\u001b[1;33m.\u001b[0m\u001b[1;33m\u001b[0m\u001b[1;33m\u001b[0m\u001b[0m\n\u001b[0;32m    183\u001b[0m         \"\"\"\n\u001b[1;32m--> 184\u001b[1;33m         \u001b[1;32mreturn\u001b[0m \u001b[0mself\u001b[0m\u001b[1;33m.\u001b[0m\u001b[0m_fit\u001b[0m\u001b[1;33m(\u001b[0m\u001b[0mX\u001b[0m\u001b[1;33m,\u001b[0m \u001b[0my\u001b[0m\u001b[1;33m)\u001b[0m\u001b[1;33m\u001b[0m\u001b[1;33m\u001b[0m\u001b[0m\n\u001b[0m\u001b[0;32m    185\u001b[0m \u001b[1;33m\u001b[0m\u001b[0m\n\u001b[0;32m    186\u001b[0m     \u001b[1;32mdef\u001b[0m \u001b[0m_fit\u001b[0m\u001b[1;33m(\u001b[0m\u001b[0mself\u001b[0m\u001b[1;33m,\u001b[0m \u001b[0mX\u001b[0m\u001b[1;33m,\u001b[0m \u001b[0my\u001b[0m\u001b[1;33m,\u001b[0m \u001b[0mstep_score\u001b[0m\u001b[1;33m=\u001b[0m\u001b[1;32mNone\u001b[0m\u001b[1;33m)\u001b[0m\u001b[1;33m:\u001b[0m\u001b[1;33m\u001b[0m\u001b[1;33m\u001b[0m\u001b[0m\n",
      "\u001b[1;32m~\\anaconda3\\lib\\site-packages\\sklearn\\feature_selection\\_rfe.py\u001b[0m in \u001b[0;36m_fit\u001b[1;34m(self, X, y, step_score)\u001b[0m\n\u001b[0;32m    242\u001b[0m \u001b[1;33m\u001b[0m\u001b[0m\n\u001b[0;32m    243\u001b[0m             \u001b[1;31m# Get importance and rank them\u001b[0m\u001b[1;33m\u001b[0m\u001b[1;33m\u001b[0m\u001b[1;33m\u001b[0m\u001b[0m\n\u001b[1;32m--> 244\u001b[1;33m             importances = _get_feature_importances(\n\u001b[0m\u001b[0;32m    245\u001b[0m                 \u001b[0mestimator\u001b[0m\u001b[1;33m,\u001b[0m \u001b[0mself\u001b[0m\u001b[1;33m.\u001b[0m\u001b[0mimportance_getter\u001b[0m\u001b[1;33m,\u001b[0m \u001b[0mtransform_func\u001b[0m\u001b[1;33m=\u001b[0m\u001b[1;34m\"square\"\u001b[0m\u001b[1;33m,\u001b[0m\u001b[1;33m\u001b[0m\u001b[1;33m\u001b[0m\u001b[0m\n\u001b[0;32m    246\u001b[0m             )\n",
      "\u001b[1;32m~\\anaconda3\\lib\\site-packages\\sklearn\\feature_selection\\_base.py\u001b[0m in \u001b[0;36m_get_feature_importances\u001b[1;34m(estimator, getter, transform_func, norm_order)\u001b[0m\n\u001b[0;32m    171\u001b[0m                 \u001b[0mgetter\u001b[0m \u001b[1;33m=\u001b[0m \u001b[0mattrgetter\u001b[0m\u001b[1;33m(\u001b[0m\u001b[1;34m'feature_importances_'\u001b[0m\u001b[1;33m)\u001b[0m\u001b[1;33m\u001b[0m\u001b[1;33m\u001b[0m\u001b[0m\n\u001b[0;32m    172\u001b[0m             \u001b[1;32melse\u001b[0m\u001b[1;33m:\u001b[0m\u001b[1;33m\u001b[0m\u001b[1;33m\u001b[0m\u001b[0m\n\u001b[1;32m--> 173\u001b[1;33m                 raise ValueError(\n\u001b[0m\u001b[0;32m    174\u001b[0m                     \u001b[1;34mf\"when `importance_getter=='auto'`, the underlying \"\u001b[0m\u001b[1;33m\u001b[0m\u001b[1;33m\u001b[0m\u001b[0m\n\u001b[0;32m    175\u001b[0m                     \u001b[1;34mf\"estimator {estimator.__class__.__name__} should have \"\u001b[0m\u001b[1;33m\u001b[0m\u001b[1;33m\u001b[0m\u001b[0m\n",
      "\u001b[1;31mValueError\u001b[0m: when `importance_getter=='auto'`, the underlying estimator SVC should have `coef_` or `feature_importances_` attribute. Either pass a fitted estimator to feature selector or call fit before calling transform."
     ]
    }
   ],
   "source": [
    "for i in range(1, X_train.shape[1]+1):\n",
    "    \n",
    "    svm = SVC()\n",
    "    svm.fit(X_train, y_train)\n",
    "    \n",
    "    rfe = RFE(svm, i) #fit RFE model with different number of features 1 to 32\n",
    "    rfe = rfe.fit(X_train, y_train)\n",
    "    \n",
    "    y_pred= rfe.predict(X_test)\n",
    "    acc = accuracy_score(y_test, y_pred)\n",
    "    \n",
    "    if acc>0.80:\n",
    "        best_n_feature = i\n",
    "        print('best number of feature:',best_n_feature)\n",
    "        print('acc based on best number of feature:',acc)"
   ]
  },
  {
   "cell_type": "markdown",
   "id": "d25a22c6",
   "metadata": {},
   "source": [
    "# RandomForest"
   ]
  },
  {
   "cell_type": "code",
   "execution_count": 456,
   "id": "08391c7e",
   "metadata": {},
   "outputs": [],
   "source": [
    "from sklearn.ensemble import RandomForestClassifier"
   ]
  },
  {
   "cell_type": "code",
   "execution_count": 457,
   "id": "90e532af",
   "metadata": {},
   "outputs": [
    {
     "name": "stderr",
     "output_type": "stream",
     "text": [
      "Features: 816/816"
     ]
    }
   ],
   "source": [
    "efs = EFS(RandomForestClassifier(n_estimators=100, random_state=0, n_jobs = -1),\n",
    "          min_features = 2,\n",
    "          max_features=3,\n",
    "          scoring= 'accuracy',\n",
    "          cv = None,\n",
    "          n_jobs= -1\n",
    "         ).fit(X_train, y_train)"
   ]
  },
  {
   "cell_type": "code",
   "execution_count": 470,
   "id": "f8a22e9a",
   "metadata": {},
   "outputs": [
    {
     "name": "stdout",
     "output_type": "stream",
     "text": [
      "0.9985404503753128\n",
      "['satisfaction_level', 'last_evaluation', 'average_montly_hours']\n",
      "3\n"
     ]
    }
   ],
   "source": [
    "EFS_RandomForest_score = efs.best_score_\n",
    "EFS_RandomForest_feature_names = list(efs.best_feature_names_)\n",
    "EFS_RandomForest_features_num = len(efs.best_idx_)\n",
    "print(EFS_RandomForest_score)\n",
    "print(EFS_RandomForest_feature_names)\n",
    "print(EFS_RandomForest_features_num)"
   ]
  },
  {
   "cell_type": "code",
   "execution_count": 472,
   "id": "3d32282c",
   "metadata": {},
   "outputs": [
    {
     "data": {
      "text/plain": [
       "0.9985404503753128"
      ]
     },
     "execution_count": 472,
     "metadata": {},
     "output_type": "execute_result"
    }
   ],
   "source": [
    "acc_RandomForest = EFS_RandomForest_score\n",
    "acc_RandomForest"
   ]
  },
  {
   "cell_type": "markdown",
   "id": "fd738a7e",
   "metadata": {},
   "source": [
    "# evaluation charts for model comparison"
   ]
  },
  {
   "cell_type": "code",
   "execution_count": 462,
   "id": "3e0a7c65",
   "metadata": {},
   "outputs": [],
   "source": [
    "header = pd.MultiIndex.from_product([ ['Accuracy Resualt'],\n",
    "                                       ['K-Fold:cv =10', 'Train:0.8-Test:0.2', 'VIF'] ])\n",
    "\n",
    "\n",
    "method = ['DecisionTreeClassifier', 'KNeighborsClassifier', 'naiveBayes_GaussianNB',\n",
    "         'LogisticRegression', 'Neural Network', 'SVM', 'RandomForest']\n",
    "\n",
    "differentDataSetMethod = ['K-Fold:cv =10','K-Fold&with10Features', 'K-Fold&ItrativeImpute',\n",
    "                          'K-Fold&KNN_FancyIMpute', 'Train:0.8-Test:0.2']\n",
    "\n",
    "Tree =   [acc_tree, acc_tree_trainTest, acc_tree_VIF]\n",
    "KNN =    [acc_KNN, acc_KNN_train_test, np.nan]\n",
    "NB_GNB = [acc_GaussianNB, acc_GaussianNB_trainTest, np.nan]\n",
    "LogReg = [acc_logreg, acc_logreg_trainTest, acc_logreg_VIF]\n",
    "NN_MLP = [acc_MLP, acc_MLP_trainTest, np.nan]\n",
    "SVM    = [acc_SVM, acc_SVM_trainTest, np.nan]\n",
    "RandomForest = [np.nan, acc_RandomForest, np.nan]\n",
    "\n",
    "d = ([ Tree, KNN, NB_GNB, LogReg, NN_MLP, SVM, RandomForest])\n",
    "\n",
    "Resualt = pd.DataFrame(d,\n",
    "                      index=method,\n",
    "                      columns=header)"
   ]
  },
  {
   "cell_type": "code",
   "execution_count": 463,
   "id": "18ac8e8a",
   "metadata": {},
   "outputs": [
    {
     "data": {
      "text/html": [
       "<div>\n",
       "<style scoped>\n",
       "    .dataframe tbody tr th:only-of-type {\n",
       "        vertical-align: middle;\n",
       "    }\n",
       "\n",
       "    .dataframe tbody tr th {\n",
       "        vertical-align: top;\n",
       "    }\n",
       "\n",
       "    .dataframe thead tr th {\n",
       "        text-align: left;\n",
       "    }\n",
       "</style>\n",
       "<table border=\"1\" class=\"dataframe\">\n",
       "  <thead>\n",
       "    <tr>\n",
       "      <th></th>\n",
       "      <th colspan=\"3\" halign=\"left\">Accuracy Resualt</th>\n",
       "    </tr>\n",
       "    <tr>\n",
       "      <th></th>\n",
       "      <th>K-Fold:cv =10</th>\n",
       "      <th>Train:0.8-Test:0.2</th>\n",
       "      <th>VIF</th>\n",
       "    </tr>\n",
       "  </thead>\n",
       "  <tbody>\n",
       "    <tr>\n",
       "      <th>DecisionTreeClassifier</th>\n",
       "      <td>0.982987</td>\n",
       "      <td>0.969154</td>\n",
       "      <td>0.972489</td>\n",
       "    </tr>\n",
       "    <tr>\n",
       "      <th>KNeighborsClassifier</th>\n",
       "      <td>0.959303</td>\n",
       "      <td>0.952897</td>\n",
       "      <td>NaN</td>\n",
       "    </tr>\n",
       "    <tr>\n",
       "      <th>naiveBayes_GaussianNB</th>\n",
       "      <td>0.818532</td>\n",
       "      <td>0.839933</td>\n",
       "      <td>NaN</td>\n",
       "    </tr>\n",
       "    <tr>\n",
       "      <th>LogisticRegression</th>\n",
       "      <td>0.815359</td>\n",
       "      <td>0.822426</td>\n",
       "      <td>0.819925</td>\n",
       "    </tr>\n",
       "    <tr>\n",
       "      <th>Neural Network</th>\n",
       "      <td>0.969811</td>\n",
       "      <td>0.976240</td>\n",
       "      <td>NaN</td>\n",
       "    </tr>\n",
       "    <tr>\n",
       "      <th>SVM</th>\n",
       "      <td>0.719041</td>\n",
       "      <td>0.729887</td>\n",
       "      <td>NaN</td>\n",
       "    </tr>\n",
       "    <tr>\n",
       "      <th>RandomForest</th>\n",
       "      <td>NaN</td>\n",
       "      <td>0.998540</td>\n",
       "      <td>NaN</td>\n",
       "    </tr>\n",
       "  </tbody>\n",
       "</table>\n",
       "</div>"
      ],
      "text/plain": [
       "                       Accuracy Resualt                             \n",
       "                          K-Fold:cv =10 Train:0.8-Test:0.2       VIF\n",
       "DecisionTreeClassifier         0.982987           0.969154  0.972489\n",
       "KNeighborsClassifier           0.959303           0.952897       NaN\n",
       "naiveBayes_GaussianNB          0.818532           0.839933       NaN\n",
       "LogisticRegression             0.815359           0.822426  0.819925\n",
       "Neural Network                 0.969811           0.976240       NaN\n",
       "SVM                            0.719041           0.729887       NaN\n",
       "RandomForest                        NaN           0.998540       NaN"
      ]
     },
     "execution_count": 463,
     "metadata": {},
     "output_type": "execute_result"
    }
   ],
   "source": [
    "Resualt"
   ]
  },
  {
   "cell_type": "code",
   "execution_count": 464,
   "id": "14bd0ed4",
   "metadata": {},
   "outputs": [
    {
     "data": {
      "text/html": [
       "<style type=\"text/css\">\n",
       "#T_ef376_row0_col0, #T_ef376_row0_col2, #T_ef376_row6_col1 {\n",
       "  background-color: #00441b;\n",
       "  color: #f1f1f1;\n",
       "}\n",
       "#T_ef376_row0_col1 {\n",
       "  background-color: #00682a;\n",
       "  color: #f1f1f1;\n",
       "}\n",
       "#T_ef376_row1_col0 {\n",
       "  background-color: #006027;\n",
       "  color: #f1f1f1;\n",
       "}\n",
       "#T_ef376_row1_col1 {\n",
       "  background-color: #0c7735;\n",
       "  color: #f1f1f1;\n",
       "}\n",
       "#T_ef376_row1_col2, #T_ef376_row2_col2, #T_ef376_row4_col2, #T_ef376_row5_col2, #T_ef376_row6_col0, #T_ef376_row6_col2 {\n",
       "  background-color: #000000;\n",
       "  color: #f1f1f1;\n",
       "}\n",
       "#T_ef376_row2_col0 {\n",
       "  background-color: #a0d99b;\n",
       "  color: #000000;\n",
       "}\n",
       "#T_ef376_row2_col1 {\n",
       "  background-color: #95d391;\n",
       "  color: #000000;\n",
       "}\n",
       "#T_ef376_row3_col0 {\n",
       "  background-color: #a4da9e;\n",
       "  color: #000000;\n",
       "}\n",
       "#T_ef376_row3_col1 {\n",
       "  background-color: #aadda4;\n",
       "  color: #000000;\n",
       "}\n",
       "#T_ef376_row3_col2, #T_ef376_row5_col0, #T_ef376_row5_col1 {\n",
       "  background-color: #f7fcf5;\n",
       "  color: #000000;\n",
       "}\n",
       "#T_ef376_row4_col0 {\n",
       "  background-color: #005321;\n",
       "  color: #f1f1f1;\n",
       "}\n",
       "#T_ef376_row4_col1 {\n",
       "  background-color: #005f26;\n",
       "  color: #f1f1f1;\n",
       "}\n",
       "</style>\n",
       "<table id=\"T_ef376\">\n",
       "  <thead>\n",
       "    <tr>\n",
       "      <th class=\"blank level0\" >&nbsp;</th>\n",
       "      <th id=\"T_ef376_level0_col0\" class=\"col_heading level0 col0\" colspan=\"3\">Accuracy Resualt</th>\n",
       "    </tr>\n",
       "    <tr>\n",
       "      <th class=\"blank level1\" >&nbsp;</th>\n",
       "      <th id=\"T_ef376_level1_col0\" class=\"col_heading level1 col0\" >K-Fold:cv =10</th>\n",
       "      <th id=\"T_ef376_level1_col1\" class=\"col_heading level1 col1\" >Train:0.8-Test:0.2</th>\n",
       "      <th id=\"T_ef376_level1_col2\" class=\"col_heading level1 col2\" >VIF</th>\n",
       "    </tr>\n",
       "  </thead>\n",
       "  <tbody>\n",
       "    <tr>\n",
       "      <th id=\"T_ef376_level0_row0\" class=\"row_heading level0 row0\" >DecisionTreeClassifier</th>\n",
       "      <td id=\"T_ef376_row0_col0\" class=\"data row0 col0\" >0.982987</td>\n",
       "      <td id=\"T_ef376_row0_col1\" class=\"data row0 col1\" >0.969154</td>\n",
       "      <td id=\"T_ef376_row0_col2\" class=\"data row0 col2\" >0.972489</td>\n",
       "    </tr>\n",
       "    <tr>\n",
       "      <th id=\"T_ef376_level0_row1\" class=\"row_heading level0 row1\" >KNeighborsClassifier</th>\n",
       "      <td id=\"T_ef376_row1_col0\" class=\"data row1 col0\" >0.959303</td>\n",
       "      <td id=\"T_ef376_row1_col1\" class=\"data row1 col1\" >0.952897</td>\n",
       "      <td id=\"T_ef376_row1_col2\" class=\"data row1 col2\" >nan</td>\n",
       "    </tr>\n",
       "    <tr>\n",
       "      <th id=\"T_ef376_level0_row2\" class=\"row_heading level0 row2\" >naiveBayes_GaussianNB</th>\n",
       "      <td id=\"T_ef376_row2_col0\" class=\"data row2 col0\" >0.818532</td>\n",
       "      <td id=\"T_ef376_row2_col1\" class=\"data row2 col1\" >0.839933</td>\n",
       "      <td id=\"T_ef376_row2_col2\" class=\"data row2 col2\" >nan</td>\n",
       "    </tr>\n",
       "    <tr>\n",
       "      <th id=\"T_ef376_level0_row3\" class=\"row_heading level0 row3\" >LogisticRegression</th>\n",
       "      <td id=\"T_ef376_row3_col0\" class=\"data row3 col0\" >0.815359</td>\n",
       "      <td id=\"T_ef376_row3_col1\" class=\"data row3 col1\" >0.822426</td>\n",
       "      <td id=\"T_ef376_row3_col2\" class=\"data row3 col2\" >0.819925</td>\n",
       "    </tr>\n",
       "    <tr>\n",
       "      <th id=\"T_ef376_level0_row4\" class=\"row_heading level0 row4\" >Neural Network</th>\n",
       "      <td id=\"T_ef376_row4_col0\" class=\"data row4 col0\" >0.969811</td>\n",
       "      <td id=\"T_ef376_row4_col1\" class=\"data row4 col1\" >0.976240</td>\n",
       "      <td id=\"T_ef376_row4_col2\" class=\"data row4 col2\" >nan</td>\n",
       "    </tr>\n",
       "    <tr>\n",
       "      <th id=\"T_ef376_level0_row5\" class=\"row_heading level0 row5\" >SVM</th>\n",
       "      <td id=\"T_ef376_row5_col0\" class=\"data row5 col0\" >0.719041</td>\n",
       "      <td id=\"T_ef376_row5_col1\" class=\"data row5 col1\" >0.729887</td>\n",
       "      <td id=\"T_ef376_row5_col2\" class=\"data row5 col2\" >nan</td>\n",
       "    </tr>\n",
       "    <tr>\n",
       "      <th id=\"T_ef376_level0_row6\" class=\"row_heading level0 row6\" >RandomForest</th>\n",
       "      <td id=\"T_ef376_row6_col0\" class=\"data row6 col0\" >nan</td>\n",
       "      <td id=\"T_ef376_row6_col1\" class=\"data row6 col1\" >0.998540</td>\n",
       "      <td id=\"T_ef376_row6_col2\" class=\"data row6 col2\" >nan</td>\n",
       "    </tr>\n",
       "  </tbody>\n",
       "</table>\n"
      ],
      "text/plain": [
       "<pandas.io.formats.style.Styler at 0x1ad0697ea90>"
      ]
     },
     "execution_count": 464,
     "metadata": {},
     "output_type": "execute_result"
    }
   ],
   "source": [
    "Resualt.style.background_gradient(cmap='Greens')"
   ]
  },
  {
   "cell_type": "code",
   "execution_count": 487,
   "id": "d82cfca1",
   "metadata": {},
   "outputs": [],
   "source": [
    "# Resualt.to_csv('F:/O_C/T_U_C/dS_C9/7_Py(T)/3T/projects_classification/HR/Resualt/resualt.csv')"
   ]
  },
  {
   "cell_type": "code",
   "execution_count": 465,
   "id": "7a0425f9",
   "metadata": {},
   "outputs": [],
   "source": [
    "Resualt_Stack = Resualt.stack()"
   ]
  },
  {
   "cell_type": "code",
   "execution_count": 466,
   "id": "6a890aef",
   "metadata": {},
   "outputs": [
    {
     "data": {
      "text/html": [
       "<div>\n",
       "<style scoped>\n",
       "    .dataframe tbody tr th:only-of-type {\n",
       "        vertical-align: middle;\n",
       "    }\n",
       "\n",
       "    .dataframe tbody tr th {\n",
       "        vertical-align: top;\n",
       "    }\n",
       "\n",
       "    .dataframe thead th {\n",
       "        text-align: right;\n",
       "    }\n",
       "</style>\n",
       "<table border=\"1\" class=\"dataframe\">\n",
       "  <thead>\n",
       "    <tr style=\"text-align: right;\">\n",
       "      <th></th>\n",
       "      <th></th>\n",
       "      <th>Accuracy Resualt</th>\n",
       "    </tr>\n",
       "  </thead>\n",
       "  <tbody>\n",
       "    <tr>\n",
       "      <th rowspan=\"3\" valign=\"top\">DecisionTreeClassifier</th>\n",
       "      <th>K-Fold:cv =10</th>\n",
       "      <td>0.982987</td>\n",
       "    </tr>\n",
       "    <tr>\n",
       "      <th>Train:0.8-Test:0.2</th>\n",
       "      <td>0.969154</td>\n",
       "    </tr>\n",
       "    <tr>\n",
       "      <th>VIF</th>\n",
       "      <td>0.972489</td>\n",
       "    </tr>\n",
       "    <tr>\n",
       "      <th rowspan=\"2\" valign=\"top\">KNeighborsClassifier</th>\n",
       "      <th>K-Fold:cv =10</th>\n",
       "      <td>0.959303</td>\n",
       "    </tr>\n",
       "    <tr>\n",
       "      <th>Train:0.8-Test:0.2</th>\n",
       "      <td>0.952897</td>\n",
       "    </tr>\n",
       "    <tr>\n",
       "      <th rowspan=\"2\" valign=\"top\">naiveBayes_GaussianNB</th>\n",
       "      <th>K-Fold:cv =10</th>\n",
       "      <td>0.818532</td>\n",
       "    </tr>\n",
       "    <tr>\n",
       "      <th>Train:0.8-Test:0.2</th>\n",
       "      <td>0.839933</td>\n",
       "    </tr>\n",
       "    <tr>\n",
       "      <th rowspan=\"3\" valign=\"top\">LogisticRegression</th>\n",
       "      <th>K-Fold:cv =10</th>\n",
       "      <td>0.815359</td>\n",
       "    </tr>\n",
       "    <tr>\n",
       "      <th>Train:0.8-Test:0.2</th>\n",
       "      <td>0.822426</td>\n",
       "    </tr>\n",
       "    <tr>\n",
       "      <th>VIF</th>\n",
       "      <td>0.819925</td>\n",
       "    </tr>\n",
       "    <tr>\n",
       "      <th rowspan=\"2\" valign=\"top\">Neural Network</th>\n",
       "      <th>K-Fold:cv =10</th>\n",
       "      <td>0.969811</td>\n",
       "    </tr>\n",
       "    <tr>\n",
       "      <th>Train:0.8-Test:0.2</th>\n",
       "      <td>0.976240</td>\n",
       "    </tr>\n",
       "    <tr>\n",
       "      <th rowspan=\"2\" valign=\"top\">SVM</th>\n",
       "      <th>K-Fold:cv =10</th>\n",
       "      <td>0.719041</td>\n",
       "    </tr>\n",
       "    <tr>\n",
       "      <th>Train:0.8-Test:0.2</th>\n",
       "      <td>0.729887</td>\n",
       "    </tr>\n",
       "    <tr>\n",
       "      <th>RandomForest</th>\n",
       "      <th>Train:0.8-Test:0.2</th>\n",
       "      <td>0.998540</td>\n",
       "    </tr>\n",
       "  </tbody>\n",
       "</table>\n",
       "</div>"
      ],
      "text/plain": [
       "                                           Accuracy Resualt\n",
       "DecisionTreeClassifier K-Fold:cv =10               0.982987\n",
       "                       Train:0.8-Test:0.2          0.969154\n",
       "                       VIF                         0.972489\n",
       "KNeighborsClassifier   K-Fold:cv =10               0.959303\n",
       "                       Train:0.8-Test:0.2          0.952897\n",
       "naiveBayes_GaussianNB  K-Fold:cv =10               0.818532\n",
       "                       Train:0.8-Test:0.2          0.839933\n",
       "LogisticRegression     K-Fold:cv =10               0.815359\n",
       "                       Train:0.8-Test:0.2          0.822426\n",
       "                       VIF                         0.819925\n",
       "Neural Network         K-Fold:cv =10               0.969811\n",
       "                       Train:0.8-Test:0.2          0.976240\n",
       "SVM                    K-Fold:cv =10               0.719041\n",
       "                       Train:0.8-Test:0.2          0.729887\n",
       "RandomForest           Train:0.8-Test:0.2          0.998540"
      ]
     },
     "execution_count": 466,
     "metadata": {},
     "output_type": "execute_result"
    }
   ],
   "source": [
    "Resualt_Stack"
   ]
  },
  {
   "cell_type": "code",
   "execution_count": 467,
   "id": "ddbdfdb2",
   "metadata": {},
   "outputs": [
    {
     "data": {
      "text/html": [
       "<style type=\"text/css\">\n",
       "#T_9b245_row0_col0 {\n",
       "  background-color: #005622;\n",
       "  color: #f1f1f1;\n",
       "}\n",
       "#T_9b245_row1_col0, #T_9b245_row10_col0 {\n",
       "  background-color: #006529;\n",
       "  color: #f1f1f1;\n",
       "}\n",
       "#T_9b245_row2_col0 {\n",
       "  background-color: #006227;\n",
       "  color: #f1f1f1;\n",
       "}\n",
       "#T_9b245_row3_col0 {\n",
       "  background-color: #03702e;\n",
       "  color: #f1f1f1;\n",
       "}\n",
       "#T_9b245_row4_col0 {\n",
       "  background-color: #0a7633;\n",
       "  color: #f1f1f1;\n",
       "}\n",
       "#T_9b245_row5_col0 {\n",
       "  background-color: #a7dba0;\n",
       "  color: #000000;\n",
       "}\n",
       "#T_9b245_row6_col0 {\n",
       "  background-color: #8dd08a;\n",
       "  color: #000000;\n",
       "}\n",
       "#T_9b245_row7_col0 {\n",
       "  background-color: #aadda4;\n",
       "  color: #000000;\n",
       "}\n",
       "#T_9b245_row8_col0 {\n",
       "  background-color: #a3da9d;\n",
       "  color: #000000;\n",
       "}\n",
       "#T_9b245_row9_col0 {\n",
       "  background-color: #a5db9f;\n",
       "  color: #000000;\n",
       "}\n",
       "#T_9b245_row11_col0 {\n",
       "  background-color: #005e26;\n",
       "  color: #f1f1f1;\n",
       "}\n",
       "#T_9b245_row12_col0 {\n",
       "  background-color: #f7fcf5;\n",
       "  color: #000000;\n",
       "}\n",
       "#T_9b245_row13_col0 {\n",
       "  background-color: #f2faef;\n",
       "  color: #000000;\n",
       "}\n",
       "#T_9b245_row14_col0 {\n",
       "  background-color: #00441b;\n",
       "  color: #f1f1f1;\n",
       "}\n",
       "</style>\n",
       "<table id=\"T_9b245\">\n",
       "  <thead>\n",
       "    <tr>\n",
       "      <th class=\"blank\" >&nbsp;</th>\n",
       "      <th class=\"blank level0\" >&nbsp;</th>\n",
       "      <th id=\"T_9b245_level0_col0\" class=\"col_heading level0 col0\" >Accuracy Resualt</th>\n",
       "    </tr>\n",
       "  </thead>\n",
       "  <tbody>\n",
       "    <tr>\n",
       "      <th id=\"T_9b245_level0_row0\" class=\"row_heading level0 row0\" rowspan=\"3\">DecisionTreeClassifier</th>\n",
       "      <th id=\"T_9b245_level1_row0\" class=\"row_heading level1 row0\" >K-Fold:cv =10</th>\n",
       "      <td id=\"T_9b245_row0_col0\" class=\"data row0 col0\" >0.982987</td>\n",
       "    </tr>\n",
       "    <tr>\n",
       "      <th id=\"T_9b245_level1_row1\" class=\"row_heading level1 row1\" >Train:0.8-Test:0.2</th>\n",
       "      <td id=\"T_9b245_row1_col0\" class=\"data row1 col0\" >0.969154</td>\n",
       "    </tr>\n",
       "    <tr>\n",
       "      <th id=\"T_9b245_level1_row2\" class=\"row_heading level1 row2\" >VIF</th>\n",
       "      <td id=\"T_9b245_row2_col0\" class=\"data row2 col0\" >0.972489</td>\n",
       "    </tr>\n",
       "    <tr>\n",
       "      <th id=\"T_9b245_level0_row3\" class=\"row_heading level0 row3\" rowspan=\"2\">KNeighborsClassifier</th>\n",
       "      <th id=\"T_9b245_level1_row3\" class=\"row_heading level1 row3\" >K-Fold:cv =10</th>\n",
       "      <td id=\"T_9b245_row3_col0\" class=\"data row3 col0\" >0.959303</td>\n",
       "    </tr>\n",
       "    <tr>\n",
       "      <th id=\"T_9b245_level1_row4\" class=\"row_heading level1 row4\" >Train:0.8-Test:0.2</th>\n",
       "      <td id=\"T_9b245_row4_col0\" class=\"data row4 col0\" >0.952897</td>\n",
       "    </tr>\n",
       "    <tr>\n",
       "      <th id=\"T_9b245_level0_row5\" class=\"row_heading level0 row5\" rowspan=\"2\">naiveBayes_GaussianNB</th>\n",
       "      <th id=\"T_9b245_level1_row5\" class=\"row_heading level1 row5\" >K-Fold:cv =10</th>\n",
       "      <td id=\"T_9b245_row5_col0\" class=\"data row5 col0\" >0.818532</td>\n",
       "    </tr>\n",
       "    <tr>\n",
       "      <th id=\"T_9b245_level1_row6\" class=\"row_heading level1 row6\" >Train:0.8-Test:0.2</th>\n",
       "      <td id=\"T_9b245_row6_col0\" class=\"data row6 col0\" >0.839933</td>\n",
       "    </tr>\n",
       "    <tr>\n",
       "      <th id=\"T_9b245_level0_row7\" class=\"row_heading level0 row7\" rowspan=\"3\">LogisticRegression</th>\n",
       "      <th id=\"T_9b245_level1_row7\" class=\"row_heading level1 row7\" >K-Fold:cv =10</th>\n",
       "      <td id=\"T_9b245_row7_col0\" class=\"data row7 col0\" >0.815359</td>\n",
       "    </tr>\n",
       "    <tr>\n",
       "      <th id=\"T_9b245_level1_row8\" class=\"row_heading level1 row8\" >Train:0.8-Test:0.2</th>\n",
       "      <td id=\"T_9b245_row8_col0\" class=\"data row8 col0\" >0.822426</td>\n",
       "    </tr>\n",
       "    <tr>\n",
       "      <th id=\"T_9b245_level1_row9\" class=\"row_heading level1 row9\" >VIF</th>\n",
       "      <td id=\"T_9b245_row9_col0\" class=\"data row9 col0\" >0.819925</td>\n",
       "    </tr>\n",
       "    <tr>\n",
       "      <th id=\"T_9b245_level0_row10\" class=\"row_heading level0 row10\" rowspan=\"2\">Neural Network</th>\n",
       "      <th id=\"T_9b245_level1_row10\" class=\"row_heading level1 row10\" >K-Fold:cv =10</th>\n",
       "      <td id=\"T_9b245_row10_col0\" class=\"data row10 col0\" >0.969811</td>\n",
       "    </tr>\n",
       "    <tr>\n",
       "      <th id=\"T_9b245_level1_row11\" class=\"row_heading level1 row11\" >Train:0.8-Test:0.2</th>\n",
       "      <td id=\"T_9b245_row11_col0\" class=\"data row11 col0\" >0.976240</td>\n",
       "    </tr>\n",
       "    <tr>\n",
       "      <th id=\"T_9b245_level0_row12\" class=\"row_heading level0 row12\" rowspan=\"2\">SVM</th>\n",
       "      <th id=\"T_9b245_level1_row12\" class=\"row_heading level1 row12\" >K-Fold:cv =10</th>\n",
       "      <td id=\"T_9b245_row12_col0\" class=\"data row12 col0\" >0.719041</td>\n",
       "    </tr>\n",
       "    <tr>\n",
       "      <th id=\"T_9b245_level1_row13\" class=\"row_heading level1 row13\" >Train:0.8-Test:0.2</th>\n",
       "      <td id=\"T_9b245_row13_col0\" class=\"data row13 col0\" >0.729887</td>\n",
       "    </tr>\n",
       "    <tr>\n",
       "      <th id=\"T_9b245_level0_row14\" class=\"row_heading level0 row14\" >RandomForest</th>\n",
       "      <th id=\"T_9b245_level1_row14\" class=\"row_heading level1 row14\" >Train:0.8-Test:0.2</th>\n",
       "      <td id=\"T_9b245_row14_col0\" class=\"data row14 col0\" >0.998540</td>\n",
       "    </tr>\n",
       "  </tbody>\n",
       "</table>\n"
      ],
      "text/plain": [
       "<pandas.io.formats.style.Styler at 0x1ad0697ebe0>"
      ]
     },
     "execution_count": 467,
     "metadata": {},
     "output_type": "execute_result"
    }
   ],
   "source": [
    "Resualt_Stack.style.background_gradient(cmap='Greens')"
   ]
  },
  {
   "cell_type": "code",
   "execution_count": 488,
   "id": "f59f283f",
   "metadata": {},
   "outputs": [],
   "source": [
    "# Resualt_Stack.to_csv('F:/O_C/T_U_C/dS_C9/7_Py(T)/3T/projects_classification/HR/Resualt/resualt_Stack.csv')"
   ]
  },
  {
   "cell_type": "code",
   "execution_count": 473,
   "id": "bf99eadd",
   "metadata": {},
   "outputs": [],
   "source": [
    "header = pd.MultiIndex.from_product([ ['Accuracy Resualt'],\n",
    "                                       ['SBS','SFS', 'EFS', 'SBS_VIF','SFS_VIF', 'EFS_VIF'] ])\n",
    "\n",
    "\n",
    "method = ['DecisionTreeClassifier', 'KNeighborsClassifier', 'naiveBayes_GaussianNB',\n",
    "         'LogisticRegression', 'Neural Network', 'SVM', 'RandomForest']\n",
    "\n",
    "Tree =   [SBS_Tree_score, SFS_Tree_score, EFS_Tree_score, SFS_Tree_score_VIF, SFS_Tree_score_VIF, EFS_Tree_score_VIF]\n",
    "KNN =    [SBS_KNN_score, SFS_KNN_score, EFS_KNN_score, np.nan, np.nan, np.nan]\n",
    "NB_GNB = [SBS_GaussianNB_score, SFS_KNN_score, EFS_KNN_score, np.nan, np.nan, np.nan]\n",
    "LogReg = [SBS_logreg_score, SFS_logreg_score, EFS_logreg_score, SBS_logreg_score_VIF, SFS_logreg_score_VIF, EFS_logreg_score_VIF]\n",
    "NN_MLP = [SBS_MLP_score, SFS_MLP_score, EFS_MLP_score, np.nan, np.nan, np.nan]\n",
    "SVM    = [SBS_SVM_score, SFS_SVM_score, EFS_SVM_score, np.nan, np.nan, np.nan]\n",
    "RandomForest = [np.nan , np.nan,EFS_RandomForest_score, np.nan, np.nan, np.nan]\n",
    "\n",
    "d = ([ Tree, KNN, NB_GNB, LogReg, NN_MLP, SVM, RandomForest])\n",
    "\n",
    "Resualt_search = pd.DataFrame(d,\n",
    "                      index=method,\n",
    "                      columns=header)"
   ]
  },
  {
   "cell_type": "code",
   "execution_count": 474,
   "id": "601a3228",
   "metadata": {},
   "outputs": [
    {
     "data": {
      "text/html": [
       "<div>\n",
       "<style scoped>\n",
       "    .dataframe tbody tr th:only-of-type {\n",
       "        vertical-align: middle;\n",
       "    }\n",
       "\n",
       "    .dataframe tbody tr th {\n",
       "        vertical-align: top;\n",
       "    }\n",
       "\n",
       "    .dataframe thead tr th {\n",
       "        text-align: left;\n",
       "    }\n",
       "</style>\n",
       "<table border=\"1\" class=\"dataframe\">\n",
       "  <thead>\n",
       "    <tr>\n",
       "      <th></th>\n",
       "      <th colspan=\"6\" halign=\"left\">Accuracy Resualt</th>\n",
       "    </tr>\n",
       "    <tr>\n",
       "      <th></th>\n",
       "      <th>SBS</th>\n",
       "      <th>SFS</th>\n",
       "      <th>EFS</th>\n",
       "      <th>SBS_VIF</th>\n",
       "      <th>SFS_VIF</th>\n",
       "      <th>EFS_VIF</th>\n",
       "    </tr>\n",
       "  </thead>\n",
       "  <tbody>\n",
       "    <tr>\n",
       "      <th>DecisionTreeClassifier</th>\n",
       "      <td>0.972164</td>\n",
       "      <td>0.971122</td>\n",
       "      <td>0.977690</td>\n",
       "      <td>0.971122</td>\n",
       "      <td>0.971122</td>\n",
       "      <td>0.977690</td>\n",
       "    </tr>\n",
       "    <tr>\n",
       "      <th>KNeighborsClassifier</th>\n",
       "      <td>0.974145</td>\n",
       "      <td>0.974145</td>\n",
       "      <td>0.974458</td>\n",
       "      <td>NaN</td>\n",
       "      <td>NaN</td>\n",
       "      <td>NaN</td>\n",
       "    </tr>\n",
       "    <tr>\n",
       "      <th>naiveBayes_GaussianNB</th>\n",
       "      <td>0.862698</td>\n",
       "      <td>0.974145</td>\n",
       "      <td>0.974458</td>\n",
       "      <td>NaN</td>\n",
       "      <td>NaN</td>\n",
       "      <td>NaN</td>\n",
       "    </tr>\n",
       "    <tr>\n",
       "      <th>LogisticRegression</th>\n",
       "      <td>0.849249</td>\n",
       "      <td>0.832360</td>\n",
       "      <td>0.849979</td>\n",
       "      <td>0.838407</td>\n",
       "      <td>0.832360</td>\n",
       "      <td>0.837156</td>\n",
       "    </tr>\n",
       "    <tr>\n",
       "      <th>Neural Network</th>\n",
       "      <td>0.894912</td>\n",
       "      <td>0.974041</td>\n",
       "      <td>0.969662</td>\n",
       "      <td>NaN</td>\n",
       "      <td>NaN</td>\n",
       "      <td>NaN</td>\n",
       "    </tr>\n",
       "    <tr>\n",
       "      <th>SVM</th>\n",
       "      <td>0.843307</td>\n",
       "      <td>0.818286</td>\n",
       "      <td>0.833299</td>\n",
       "      <td>NaN</td>\n",
       "      <td>NaN</td>\n",
       "      <td>NaN</td>\n",
       "    </tr>\n",
       "    <tr>\n",
       "      <th>RandomForest</th>\n",
       "      <td>NaN</td>\n",
       "      <td>NaN</td>\n",
       "      <td>0.998540</td>\n",
       "      <td>NaN</td>\n",
       "      <td>NaN</td>\n",
       "      <td>NaN</td>\n",
       "    </tr>\n",
       "  </tbody>\n",
       "</table>\n",
       "</div>"
      ],
      "text/plain": [
       "                       Accuracy Resualt                                \\\n",
       "                                    SBS       SFS       EFS   SBS_VIF   \n",
       "DecisionTreeClassifier         0.972164  0.971122  0.977690  0.971122   \n",
       "KNeighborsClassifier           0.974145  0.974145  0.974458       NaN   \n",
       "naiveBayes_GaussianNB          0.862698  0.974145  0.974458       NaN   \n",
       "LogisticRegression             0.849249  0.832360  0.849979  0.838407   \n",
       "Neural Network                 0.894912  0.974041  0.969662       NaN   \n",
       "SVM                            0.843307  0.818286  0.833299       NaN   \n",
       "RandomForest                        NaN       NaN  0.998540       NaN   \n",
       "\n",
       "                                            \n",
       "                         SFS_VIF   EFS_VIF  \n",
       "DecisionTreeClassifier  0.971122  0.977690  \n",
       "KNeighborsClassifier         NaN       NaN  \n",
       "naiveBayes_GaussianNB        NaN       NaN  \n",
       "LogisticRegression      0.832360  0.837156  \n",
       "Neural Network               NaN       NaN  \n",
       "SVM                          NaN       NaN  \n",
       "RandomForest                 NaN       NaN  "
      ]
     },
     "execution_count": 474,
     "metadata": {},
     "output_type": "execute_result"
    }
   ],
   "source": [
    "Resualt_search"
   ]
  },
  {
   "cell_type": "code",
   "execution_count": 475,
   "id": "e139ee88",
   "metadata": {},
   "outputs": [
    {
     "data": {
      "text/html": [
       "<style type=\"text/css\">\n",
       "#T_2814c_row0_col0 {\n",
       "  background-color: #00481d;\n",
       "  color: #f1f1f1;\n",
       "}\n",
       "#T_2814c_row0_col1 {\n",
       "  background-color: #00491d;\n",
       "  color: #f1f1f1;\n",
       "}\n",
       "#T_2814c_row0_col2 {\n",
       "  background-color: #006d2c;\n",
       "  color: #f1f1f1;\n",
       "}\n",
       "#T_2814c_row0_col3, #T_2814c_row0_col4, #T_2814c_row0_col5, #T_2814c_row1_col0, #T_2814c_row1_col1, #T_2814c_row2_col1, #T_2814c_row4_col1, #T_2814c_row6_col2 {\n",
       "  background-color: #00441b;\n",
       "  color: #f1f1f1;\n",
       "}\n",
       "#T_2814c_row1_col2, #T_2814c_row2_col2 {\n",
       "  background-color: #067230;\n",
       "  color: #f1f1f1;\n",
       "}\n",
       "#T_2814c_row1_col3, #T_2814c_row1_col4, #T_2814c_row1_col5, #T_2814c_row2_col3, #T_2814c_row2_col4, #T_2814c_row2_col5, #T_2814c_row4_col3, #T_2814c_row4_col4, #T_2814c_row4_col5, #T_2814c_row5_col3, #T_2814c_row5_col4, #T_2814c_row5_col5, #T_2814c_row6_col0, #T_2814c_row6_col1, #T_2814c_row6_col3, #T_2814c_row6_col4, #T_2814c_row6_col5 {\n",
       "  background-color: #000000;\n",
       "  color: #f1f1f1;\n",
       "}\n",
       "#T_2814c_row2_col0 {\n",
       "  background-color: #e0f3db;\n",
       "  color: #000000;\n",
       "}\n",
       "#T_2814c_row3_col0 {\n",
       "  background-color: #f1faee;\n",
       "  color: #000000;\n",
       "}\n",
       "#T_2814c_row3_col1 {\n",
       "  background-color: #eaf7e6;\n",
       "  color: #000000;\n",
       "}\n",
       "#T_2814c_row3_col2 {\n",
       "  background-color: #e9f7e5;\n",
       "  color: #000000;\n",
       "}\n",
       "#T_2814c_row3_col3, #T_2814c_row3_col4, #T_2814c_row3_col5, #T_2814c_row5_col0, #T_2814c_row5_col1, #T_2814c_row5_col2 {\n",
       "  background-color: #f7fcf5;\n",
       "  color: #000000;\n",
       "}\n",
       "#T_2814c_row4_col0 {\n",
       "  background-color: #9bd696;\n",
       "  color: #000000;\n",
       "}\n",
       "#T_2814c_row4_col2 {\n",
       "  background-color: #0d7836;\n",
       "  color: #f1f1f1;\n",
       "}\n",
       "</style>\n",
       "<table id=\"T_2814c\">\n",
       "  <thead>\n",
       "    <tr>\n",
       "      <th class=\"blank level0\" >&nbsp;</th>\n",
       "      <th id=\"T_2814c_level0_col0\" class=\"col_heading level0 col0\" colspan=\"6\">Accuracy Resualt</th>\n",
       "    </tr>\n",
       "    <tr>\n",
       "      <th class=\"blank level1\" >&nbsp;</th>\n",
       "      <th id=\"T_2814c_level1_col0\" class=\"col_heading level1 col0\" >SBS</th>\n",
       "      <th id=\"T_2814c_level1_col1\" class=\"col_heading level1 col1\" >SFS</th>\n",
       "      <th id=\"T_2814c_level1_col2\" class=\"col_heading level1 col2\" >EFS</th>\n",
       "      <th id=\"T_2814c_level1_col3\" class=\"col_heading level1 col3\" >SBS_VIF</th>\n",
       "      <th id=\"T_2814c_level1_col4\" class=\"col_heading level1 col4\" >SFS_VIF</th>\n",
       "      <th id=\"T_2814c_level1_col5\" class=\"col_heading level1 col5\" >EFS_VIF</th>\n",
       "    </tr>\n",
       "  </thead>\n",
       "  <tbody>\n",
       "    <tr>\n",
       "      <th id=\"T_2814c_level0_row0\" class=\"row_heading level0 row0\" >DecisionTreeClassifier</th>\n",
       "      <td id=\"T_2814c_row0_col0\" class=\"data row0 col0\" >0.972164</td>\n",
       "      <td id=\"T_2814c_row0_col1\" class=\"data row0 col1\" >0.971122</td>\n",
       "      <td id=\"T_2814c_row0_col2\" class=\"data row0 col2\" >0.977690</td>\n",
       "      <td id=\"T_2814c_row0_col3\" class=\"data row0 col3\" >0.971122</td>\n",
       "      <td id=\"T_2814c_row0_col4\" class=\"data row0 col4\" >0.971122</td>\n",
       "      <td id=\"T_2814c_row0_col5\" class=\"data row0 col5\" >0.977690</td>\n",
       "    </tr>\n",
       "    <tr>\n",
       "      <th id=\"T_2814c_level0_row1\" class=\"row_heading level0 row1\" >KNeighborsClassifier</th>\n",
       "      <td id=\"T_2814c_row1_col0\" class=\"data row1 col0\" >0.974145</td>\n",
       "      <td id=\"T_2814c_row1_col1\" class=\"data row1 col1\" >0.974145</td>\n",
       "      <td id=\"T_2814c_row1_col2\" class=\"data row1 col2\" >0.974458</td>\n",
       "      <td id=\"T_2814c_row1_col3\" class=\"data row1 col3\" >nan</td>\n",
       "      <td id=\"T_2814c_row1_col4\" class=\"data row1 col4\" >nan</td>\n",
       "      <td id=\"T_2814c_row1_col5\" class=\"data row1 col5\" >nan</td>\n",
       "    </tr>\n",
       "    <tr>\n",
       "      <th id=\"T_2814c_level0_row2\" class=\"row_heading level0 row2\" >naiveBayes_GaussianNB</th>\n",
       "      <td id=\"T_2814c_row2_col0\" class=\"data row2 col0\" >0.862698</td>\n",
       "      <td id=\"T_2814c_row2_col1\" class=\"data row2 col1\" >0.974145</td>\n",
       "      <td id=\"T_2814c_row2_col2\" class=\"data row2 col2\" >0.974458</td>\n",
       "      <td id=\"T_2814c_row2_col3\" class=\"data row2 col3\" >nan</td>\n",
       "      <td id=\"T_2814c_row2_col4\" class=\"data row2 col4\" >nan</td>\n",
       "      <td id=\"T_2814c_row2_col5\" class=\"data row2 col5\" >nan</td>\n",
       "    </tr>\n",
       "    <tr>\n",
       "      <th id=\"T_2814c_level0_row3\" class=\"row_heading level0 row3\" >LogisticRegression</th>\n",
       "      <td id=\"T_2814c_row3_col0\" class=\"data row3 col0\" >0.849249</td>\n",
       "      <td id=\"T_2814c_row3_col1\" class=\"data row3 col1\" >0.832360</td>\n",
       "      <td id=\"T_2814c_row3_col2\" class=\"data row3 col2\" >0.849979</td>\n",
       "      <td id=\"T_2814c_row3_col3\" class=\"data row3 col3\" >0.838407</td>\n",
       "      <td id=\"T_2814c_row3_col4\" class=\"data row3 col4\" >0.832360</td>\n",
       "      <td id=\"T_2814c_row3_col5\" class=\"data row3 col5\" >0.837156</td>\n",
       "    </tr>\n",
       "    <tr>\n",
       "      <th id=\"T_2814c_level0_row4\" class=\"row_heading level0 row4\" >Neural Network</th>\n",
       "      <td id=\"T_2814c_row4_col0\" class=\"data row4 col0\" >0.894912</td>\n",
       "      <td id=\"T_2814c_row4_col1\" class=\"data row4 col1\" >0.974041</td>\n",
       "      <td id=\"T_2814c_row4_col2\" class=\"data row4 col2\" >0.969662</td>\n",
       "      <td id=\"T_2814c_row4_col3\" class=\"data row4 col3\" >nan</td>\n",
       "      <td id=\"T_2814c_row4_col4\" class=\"data row4 col4\" >nan</td>\n",
       "      <td id=\"T_2814c_row4_col5\" class=\"data row4 col5\" >nan</td>\n",
       "    </tr>\n",
       "    <tr>\n",
       "      <th id=\"T_2814c_level0_row5\" class=\"row_heading level0 row5\" >SVM</th>\n",
       "      <td id=\"T_2814c_row5_col0\" class=\"data row5 col0\" >0.843307</td>\n",
       "      <td id=\"T_2814c_row5_col1\" class=\"data row5 col1\" >0.818286</td>\n",
       "      <td id=\"T_2814c_row5_col2\" class=\"data row5 col2\" >0.833299</td>\n",
       "      <td id=\"T_2814c_row5_col3\" class=\"data row5 col3\" >nan</td>\n",
       "      <td id=\"T_2814c_row5_col4\" class=\"data row5 col4\" >nan</td>\n",
       "      <td id=\"T_2814c_row5_col5\" class=\"data row5 col5\" >nan</td>\n",
       "    </tr>\n",
       "    <tr>\n",
       "      <th id=\"T_2814c_level0_row6\" class=\"row_heading level0 row6\" >RandomForest</th>\n",
       "      <td id=\"T_2814c_row6_col0\" class=\"data row6 col0\" >nan</td>\n",
       "      <td id=\"T_2814c_row6_col1\" class=\"data row6 col1\" >nan</td>\n",
       "      <td id=\"T_2814c_row6_col2\" class=\"data row6 col2\" >0.998540</td>\n",
       "      <td id=\"T_2814c_row6_col3\" class=\"data row6 col3\" >nan</td>\n",
       "      <td id=\"T_2814c_row6_col4\" class=\"data row6 col4\" >nan</td>\n",
       "      <td id=\"T_2814c_row6_col5\" class=\"data row6 col5\" >nan</td>\n",
       "    </tr>\n",
       "  </tbody>\n",
       "</table>\n"
      ],
      "text/plain": [
       "<pandas.io.formats.style.Styler at 0x1ad06b6ddf0>"
      ]
     },
     "execution_count": 475,
     "metadata": {},
     "output_type": "execute_result"
    }
   ],
   "source": [
    "Resualt_search.style.background_gradient(cmap='Greens')"
   ]
  },
  {
   "cell_type": "code",
   "execution_count": 489,
   "id": "4b6b6acf",
   "metadata": {},
   "outputs": [],
   "source": [
    "# Resualt_search.to_csv('F:/O_C/T_U_C/dS_C9/7_Py(T)/3T/projects_classification/HR/Resualt/resualt_search.csv')"
   ]
  },
  {
   "cell_type": "code",
   "execution_count": 476,
   "id": "ca459b2c",
   "metadata": {},
   "outputs": [],
   "source": [
    "Resualt_search_Stack = Resualt_search.stack()"
   ]
  },
  {
   "cell_type": "code",
   "execution_count": 477,
   "id": "18c60fa7",
   "metadata": {},
   "outputs": [
    {
     "data": {
      "text/html": [
       "<div>\n",
       "<style scoped>\n",
       "    .dataframe tbody tr th:only-of-type {\n",
       "        vertical-align: middle;\n",
       "    }\n",
       "\n",
       "    .dataframe tbody tr th {\n",
       "        vertical-align: top;\n",
       "    }\n",
       "\n",
       "    .dataframe thead th {\n",
       "        text-align: right;\n",
       "    }\n",
       "</style>\n",
       "<table border=\"1\" class=\"dataframe\">\n",
       "  <thead>\n",
       "    <tr style=\"text-align: right;\">\n",
       "      <th></th>\n",
       "      <th></th>\n",
       "      <th>Accuracy Resualt</th>\n",
       "    </tr>\n",
       "  </thead>\n",
       "  <tbody>\n",
       "    <tr>\n",
       "      <th rowspan=\"6\" valign=\"top\">DecisionTreeClassifier</th>\n",
       "      <th>EFS</th>\n",
       "      <td>0.977690</td>\n",
       "    </tr>\n",
       "    <tr>\n",
       "      <th>EFS_VIF</th>\n",
       "      <td>0.977690</td>\n",
       "    </tr>\n",
       "    <tr>\n",
       "      <th>SBS</th>\n",
       "      <td>0.972164</td>\n",
       "    </tr>\n",
       "    <tr>\n",
       "      <th>SBS_VIF</th>\n",
       "      <td>0.971122</td>\n",
       "    </tr>\n",
       "    <tr>\n",
       "      <th>SFS</th>\n",
       "      <td>0.971122</td>\n",
       "    </tr>\n",
       "    <tr>\n",
       "      <th>SFS_VIF</th>\n",
       "      <td>0.971122</td>\n",
       "    </tr>\n",
       "    <tr>\n",
       "      <th rowspan=\"3\" valign=\"top\">KNeighborsClassifier</th>\n",
       "      <th>EFS</th>\n",
       "      <td>0.974458</td>\n",
       "    </tr>\n",
       "    <tr>\n",
       "      <th>SBS</th>\n",
       "      <td>0.974145</td>\n",
       "    </tr>\n",
       "    <tr>\n",
       "      <th>SFS</th>\n",
       "      <td>0.974145</td>\n",
       "    </tr>\n",
       "    <tr>\n",
       "      <th rowspan=\"3\" valign=\"top\">naiveBayes_GaussianNB</th>\n",
       "      <th>EFS</th>\n",
       "      <td>0.974458</td>\n",
       "    </tr>\n",
       "    <tr>\n",
       "      <th>SBS</th>\n",
       "      <td>0.862698</td>\n",
       "    </tr>\n",
       "    <tr>\n",
       "      <th>SFS</th>\n",
       "      <td>0.974145</td>\n",
       "    </tr>\n",
       "    <tr>\n",
       "      <th rowspan=\"6\" valign=\"top\">LogisticRegression</th>\n",
       "      <th>EFS</th>\n",
       "      <td>0.849979</td>\n",
       "    </tr>\n",
       "    <tr>\n",
       "      <th>EFS_VIF</th>\n",
       "      <td>0.837156</td>\n",
       "    </tr>\n",
       "    <tr>\n",
       "      <th>SBS</th>\n",
       "      <td>0.849249</td>\n",
       "    </tr>\n",
       "    <tr>\n",
       "      <th>SBS_VIF</th>\n",
       "      <td>0.838407</td>\n",
       "    </tr>\n",
       "    <tr>\n",
       "      <th>SFS</th>\n",
       "      <td>0.832360</td>\n",
       "    </tr>\n",
       "    <tr>\n",
       "      <th>SFS_VIF</th>\n",
       "      <td>0.832360</td>\n",
       "    </tr>\n",
       "    <tr>\n",
       "      <th rowspan=\"3\" valign=\"top\">Neural Network</th>\n",
       "      <th>EFS</th>\n",
       "      <td>0.969662</td>\n",
       "    </tr>\n",
       "    <tr>\n",
       "      <th>SBS</th>\n",
       "      <td>0.894912</td>\n",
       "    </tr>\n",
       "    <tr>\n",
       "      <th>SFS</th>\n",
       "      <td>0.974041</td>\n",
       "    </tr>\n",
       "    <tr>\n",
       "      <th rowspan=\"3\" valign=\"top\">SVM</th>\n",
       "      <th>EFS</th>\n",
       "      <td>0.833299</td>\n",
       "    </tr>\n",
       "    <tr>\n",
       "      <th>SBS</th>\n",
       "      <td>0.843307</td>\n",
       "    </tr>\n",
       "    <tr>\n",
       "      <th>SFS</th>\n",
       "      <td>0.818286</td>\n",
       "    </tr>\n",
       "    <tr>\n",
       "      <th>RandomForest</th>\n",
       "      <th>EFS</th>\n",
       "      <td>0.998540</td>\n",
       "    </tr>\n",
       "  </tbody>\n",
       "</table>\n",
       "</div>"
      ],
      "text/plain": [
       "                                Accuracy Resualt\n",
       "DecisionTreeClassifier EFS              0.977690\n",
       "                       EFS_VIF          0.977690\n",
       "                       SBS              0.972164\n",
       "                       SBS_VIF          0.971122\n",
       "                       SFS              0.971122\n",
       "                       SFS_VIF          0.971122\n",
       "KNeighborsClassifier   EFS              0.974458\n",
       "                       SBS              0.974145\n",
       "                       SFS              0.974145\n",
       "naiveBayes_GaussianNB  EFS              0.974458\n",
       "                       SBS              0.862698\n",
       "                       SFS              0.974145\n",
       "LogisticRegression     EFS              0.849979\n",
       "                       EFS_VIF          0.837156\n",
       "                       SBS              0.849249\n",
       "                       SBS_VIF          0.838407\n",
       "                       SFS              0.832360\n",
       "                       SFS_VIF          0.832360\n",
       "Neural Network         EFS              0.969662\n",
       "                       SBS              0.894912\n",
       "                       SFS              0.974041\n",
       "SVM                    EFS              0.833299\n",
       "                       SBS              0.843307\n",
       "                       SFS              0.818286\n",
       "RandomForest           EFS              0.998540"
      ]
     },
     "execution_count": 477,
     "metadata": {},
     "output_type": "execute_result"
    }
   ],
   "source": [
    "Resualt_search_Stack"
   ]
  },
  {
   "cell_type": "code",
   "execution_count": 478,
   "id": "e9d2246e",
   "metadata": {},
   "outputs": [
    {
     "data": {
      "text/html": [
       "<style type=\"text/css\">\n",
       "#T_bff4b_row0_col0, #T_bff4b_row1_col0 {\n",
       "  background-color: #b70026;\n",
       "  color: #f1f1f1;\n",
       "}\n",
       "#T_bff4b_row2_col0 {\n",
       "  background-color: #c30424;\n",
       "  color: #f1f1f1;\n",
       "}\n",
       "#T_bff4b_row3_col0, #T_bff4b_row4_col0, #T_bff4b_row5_col0 {\n",
       "  background-color: #c40524;\n",
       "  color: #f1f1f1;\n",
       "}\n",
       "#T_bff4b_row6_col0, #T_bff4b_row7_col0, #T_bff4b_row8_col0, #T_bff4b_row9_col0, #T_bff4b_row11_col0, #T_bff4b_row20_col0 {\n",
       "  background-color: #c00225;\n",
       "  color: #f1f1f1;\n",
       "}\n",
       "#T_bff4b_row10_col0 {\n",
       "  background-color: #fed977;\n",
       "  color: #000000;\n",
       "}\n",
       "#T_bff4b_row12_col0 {\n",
       "  background-color: #ffe58f;\n",
       "  color: #000000;\n",
       "}\n",
       "#T_bff4b_row13_col0 {\n",
       "  background-color: #fff0a8;\n",
       "  color: #000000;\n",
       "}\n",
       "#T_bff4b_row14_col0 {\n",
       "  background-color: #ffe691;\n",
       "  color: #000000;\n",
       "}\n",
       "#T_bff4b_row15_col0 {\n",
       "  background-color: #ffefa5;\n",
       "  color: #000000;\n",
       "}\n",
       "#T_bff4b_row16_col0, #T_bff4b_row17_col0 {\n",
       "  background-color: #fff4b2;\n",
       "  color: #000000;\n",
       "}\n",
       "#T_bff4b_row18_col0 {\n",
       "  background-color: #c80723;\n",
       "  color: #f1f1f1;\n",
       "}\n",
       "#T_bff4b_row19_col0 {\n",
       "  background-color: #fea446;\n",
       "  color: #000000;\n",
       "}\n",
       "#T_bff4b_row21_col0 {\n",
       "  background-color: #fff3af;\n",
       "  color: #000000;\n",
       "}\n",
       "#T_bff4b_row22_col0 {\n",
       "  background-color: #ffeb9c;\n",
       "  color: #000000;\n",
       "}\n",
       "#T_bff4b_row23_col0 {\n",
       "  background-color: #ffffcc;\n",
       "  color: #000000;\n",
       "}\n",
       "#T_bff4b_row24_col0 {\n",
       "  background-color: #800026;\n",
       "  color: #f1f1f1;\n",
       "}\n",
       "</style>\n",
       "<table id=\"T_bff4b\">\n",
       "  <thead>\n",
       "    <tr>\n",
       "      <th class=\"blank\" >&nbsp;</th>\n",
       "      <th class=\"blank level0\" >&nbsp;</th>\n",
       "      <th id=\"T_bff4b_level0_col0\" class=\"col_heading level0 col0\" >Accuracy Resualt</th>\n",
       "    </tr>\n",
       "  </thead>\n",
       "  <tbody>\n",
       "    <tr>\n",
       "      <th id=\"T_bff4b_level0_row0\" class=\"row_heading level0 row0\" rowspan=\"6\">DecisionTreeClassifier</th>\n",
       "      <th id=\"T_bff4b_level1_row0\" class=\"row_heading level1 row0\" >EFS</th>\n",
       "      <td id=\"T_bff4b_row0_col0\" class=\"data row0 col0\" >0.977690</td>\n",
       "    </tr>\n",
       "    <tr>\n",
       "      <th id=\"T_bff4b_level1_row1\" class=\"row_heading level1 row1\" >EFS_VIF</th>\n",
       "      <td id=\"T_bff4b_row1_col0\" class=\"data row1 col0\" >0.977690</td>\n",
       "    </tr>\n",
       "    <tr>\n",
       "      <th id=\"T_bff4b_level1_row2\" class=\"row_heading level1 row2\" >SBS</th>\n",
       "      <td id=\"T_bff4b_row2_col0\" class=\"data row2 col0\" >0.972164</td>\n",
       "    </tr>\n",
       "    <tr>\n",
       "      <th id=\"T_bff4b_level1_row3\" class=\"row_heading level1 row3\" >SBS_VIF</th>\n",
       "      <td id=\"T_bff4b_row3_col0\" class=\"data row3 col0\" >0.971122</td>\n",
       "    </tr>\n",
       "    <tr>\n",
       "      <th id=\"T_bff4b_level1_row4\" class=\"row_heading level1 row4\" >SFS</th>\n",
       "      <td id=\"T_bff4b_row4_col0\" class=\"data row4 col0\" >0.971122</td>\n",
       "    </tr>\n",
       "    <tr>\n",
       "      <th id=\"T_bff4b_level1_row5\" class=\"row_heading level1 row5\" >SFS_VIF</th>\n",
       "      <td id=\"T_bff4b_row5_col0\" class=\"data row5 col0\" >0.971122</td>\n",
       "    </tr>\n",
       "    <tr>\n",
       "      <th id=\"T_bff4b_level0_row6\" class=\"row_heading level0 row6\" rowspan=\"3\">KNeighborsClassifier</th>\n",
       "      <th id=\"T_bff4b_level1_row6\" class=\"row_heading level1 row6\" >EFS</th>\n",
       "      <td id=\"T_bff4b_row6_col0\" class=\"data row6 col0\" >0.974458</td>\n",
       "    </tr>\n",
       "    <tr>\n",
       "      <th id=\"T_bff4b_level1_row7\" class=\"row_heading level1 row7\" >SBS</th>\n",
       "      <td id=\"T_bff4b_row7_col0\" class=\"data row7 col0\" >0.974145</td>\n",
       "    </tr>\n",
       "    <tr>\n",
       "      <th id=\"T_bff4b_level1_row8\" class=\"row_heading level1 row8\" >SFS</th>\n",
       "      <td id=\"T_bff4b_row8_col0\" class=\"data row8 col0\" >0.974145</td>\n",
       "    </tr>\n",
       "    <tr>\n",
       "      <th id=\"T_bff4b_level0_row9\" class=\"row_heading level0 row9\" rowspan=\"3\">naiveBayes_GaussianNB</th>\n",
       "      <th id=\"T_bff4b_level1_row9\" class=\"row_heading level1 row9\" >EFS</th>\n",
       "      <td id=\"T_bff4b_row9_col0\" class=\"data row9 col0\" >0.974458</td>\n",
       "    </tr>\n",
       "    <tr>\n",
       "      <th id=\"T_bff4b_level1_row10\" class=\"row_heading level1 row10\" >SBS</th>\n",
       "      <td id=\"T_bff4b_row10_col0\" class=\"data row10 col0\" >0.862698</td>\n",
       "    </tr>\n",
       "    <tr>\n",
       "      <th id=\"T_bff4b_level1_row11\" class=\"row_heading level1 row11\" >SFS</th>\n",
       "      <td id=\"T_bff4b_row11_col0\" class=\"data row11 col0\" >0.974145</td>\n",
       "    </tr>\n",
       "    <tr>\n",
       "      <th id=\"T_bff4b_level0_row12\" class=\"row_heading level0 row12\" rowspan=\"6\">LogisticRegression</th>\n",
       "      <th id=\"T_bff4b_level1_row12\" class=\"row_heading level1 row12\" >EFS</th>\n",
       "      <td id=\"T_bff4b_row12_col0\" class=\"data row12 col0\" >0.849979</td>\n",
       "    </tr>\n",
       "    <tr>\n",
       "      <th id=\"T_bff4b_level1_row13\" class=\"row_heading level1 row13\" >EFS_VIF</th>\n",
       "      <td id=\"T_bff4b_row13_col0\" class=\"data row13 col0\" >0.837156</td>\n",
       "    </tr>\n",
       "    <tr>\n",
       "      <th id=\"T_bff4b_level1_row14\" class=\"row_heading level1 row14\" >SBS</th>\n",
       "      <td id=\"T_bff4b_row14_col0\" class=\"data row14 col0\" >0.849249</td>\n",
       "    </tr>\n",
       "    <tr>\n",
       "      <th id=\"T_bff4b_level1_row15\" class=\"row_heading level1 row15\" >SBS_VIF</th>\n",
       "      <td id=\"T_bff4b_row15_col0\" class=\"data row15 col0\" >0.838407</td>\n",
       "    </tr>\n",
       "    <tr>\n",
       "      <th id=\"T_bff4b_level1_row16\" class=\"row_heading level1 row16\" >SFS</th>\n",
       "      <td id=\"T_bff4b_row16_col0\" class=\"data row16 col0\" >0.832360</td>\n",
       "    </tr>\n",
       "    <tr>\n",
       "      <th id=\"T_bff4b_level1_row17\" class=\"row_heading level1 row17\" >SFS_VIF</th>\n",
       "      <td id=\"T_bff4b_row17_col0\" class=\"data row17 col0\" >0.832360</td>\n",
       "    </tr>\n",
       "    <tr>\n",
       "      <th id=\"T_bff4b_level0_row18\" class=\"row_heading level0 row18\" rowspan=\"3\">Neural Network</th>\n",
       "      <th id=\"T_bff4b_level1_row18\" class=\"row_heading level1 row18\" >EFS</th>\n",
       "      <td id=\"T_bff4b_row18_col0\" class=\"data row18 col0\" >0.969662</td>\n",
       "    </tr>\n",
       "    <tr>\n",
       "      <th id=\"T_bff4b_level1_row19\" class=\"row_heading level1 row19\" >SBS</th>\n",
       "      <td id=\"T_bff4b_row19_col0\" class=\"data row19 col0\" >0.894912</td>\n",
       "    </tr>\n",
       "    <tr>\n",
       "      <th id=\"T_bff4b_level1_row20\" class=\"row_heading level1 row20\" >SFS</th>\n",
       "      <td id=\"T_bff4b_row20_col0\" class=\"data row20 col0\" >0.974041</td>\n",
       "    </tr>\n",
       "    <tr>\n",
       "      <th id=\"T_bff4b_level0_row21\" class=\"row_heading level0 row21\" rowspan=\"3\">SVM</th>\n",
       "      <th id=\"T_bff4b_level1_row21\" class=\"row_heading level1 row21\" >EFS</th>\n",
       "      <td id=\"T_bff4b_row21_col0\" class=\"data row21 col0\" >0.833299</td>\n",
       "    </tr>\n",
       "    <tr>\n",
       "      <th id=\"T_bff4b_level1_row22\" class=\"row_heading level1 row22\" >SBS</th>\n",
       "      <td id=\"T_bff4b_row22_col0\" class=\"data row22 col0\" >0.843307</td>\n",
       "    </tr>\n",
       "    <tr>\n",
       "      <th id=\"T_bff4b_level1_row23\" class=\"row_heading level1 row23\" >SFS</th>\n",
       "      <td id=\"T_bff4b_row23_col0\" class=\"data row23 col0\" >0.818286</td>\n",
       "    </tr>\n",
       "    <tr>\n",
       "      <th id=\"T_bff4b_level0_row24\" class=\"row_heading level0 row24\" >RandomForest</th>\n",
       "      <th id=\"T_bff4b_level1_row24\" class=\"row_heading level1 row24\" >EFS</th>\n",
       "      <td id=\"T_bff4b_row24_col0\" class=\"data row24 col0\" >0.998540</td>\n",
       "    </tr>\n",
       "  </tbody>\n",
       "</table>\n"
      ],
      "text/plain": [
       "<pandas.io.formats.style.Styler at 0x1ad04ebe610>"
      ]
     },
     "execution_count": 478,
     "metadata": {},
     "output_type": "execute_result"
    }
   ],
   "source": [
    "Resualt_search_Stack.style.background_gradient(cmap='YlOrRd')"
   ]
  },
  {
   "cell_type": "code",
   "execution_count": 493,
   "id": "e76b456c",
   "metadata": {},
   "outputs": [],
   "source": [
    "Resualt_search_Stack.to_csv('F:/O_C/T_U_C/dS_C9/7_Py(T)/3T/projects_classification/HR/Resualt/resualt_search_stack.csv')"
   ]
  },
  {
   "cell_type": "code",
   "execution_count": 480,
   "id": "cfa9b2fd",
   "metadata": {},
   "outputs": [],
   "source": [
    "header = pd.MultiIndex.from_product([ ['SBS', 'numberOfFeatures',\n",
    "                                       'SFS', 'numberOfFeatures',\n",
    "                                       'EFS', 'numberOfFeatures'  ] ])\n",
    "\n",
    "\n",
    "method = ['DecisionTreeClassifier', 'KNeighborsClassifier', 'naiveBayes_GaussianNB',\n",
    "         'LogisticRegression', 'Neural Network', 'SVM', 'RandomForest']\n",
    "\n",
    "Tree =   [SBS_Tree_score, SBS_Tree_features_num,\n",
    "          SFS_Tree_score, SFS_Tree_features_num,\n",
    "          EFS_Tree_score, EFS_Tree_features_num]\n",
    "KNN =    [SBS_KNN_score, SBS_KNN_features_num,\n",
    "          SFS_KNN_score, SFS_KNN_features_num,\n",
    "          EFS_KNN_score, EFS_KNN_features_num]\n",
    "NB_GNB = [SBS_GaussianNB_score, SBS_GaussianNB_features_num,\n",
    "          SFS_GaussianNB_score, SFS_GaussianNB_features_num,\n",
    "          EFS_GaussianNB_score, EFS_GaussianNB_features_num]\n",
    "LogReg = [SBS_logreg_score, SBS_logreg_features_num,\n",
    "          SFS_logreg_score, SFS_logreg_features_num,\n",
    "          EFS_logreg_score, EFS_logreg_features_num]\n",
    "NN_MLP = [SBS_MLP_score, SBS_MLP_features_num,\n",
    "          SFS_MLP_score, SFS_MLP_features_num,\n",
    "          EFS_MLP_score, EFS_MLP_features_num]\n",
    "SVM    = [SBS_SVM_score, SBS_SVM_features_num,\n",
    "          SFS_SVM_score, SFS_SVM_features_num,\n",
    "          EFS_SVM_score, EFS_SVM_features_num]\n",
    "RandomForest = [np.nan , np.nan,\n",
    "                np.nan, np.nan,\n",
    "                EFS_RandomForest_score, EFS_RandomForest_features_num]\n",
    "\n",
    "d = ([ Tree, KNN, NB_GNB, LogReg, NN_MLP, SVM, RandomForest])\n",
    "\n",
    "Resualt_Search_acc_NumFeatures = pd.DataFrame(d,\n",
    "                                  index=method,\n",
    "                                  columns=header)\n"
   ]
  },
  {
   "cell_type": "code",
   "execution_count": 483,
   "id": "7826bc31",
   "metadata": {},
   "outputs": [
    {
     "data": {
      "text/html": [
       "<div>\n",
       "<style scoped>\n",
       "    .dataframe tbody tr th:only-of-type {\n",
       "        vertical-align: middle;\n",
       "    }\n",
       "\n",
       "    .dataframe tbody tr th {\n",
       "        vertical-align: top;\n",
       "    }\n",
       "\n",
       "    .dataframe thead tr th {\n",
       "        text-align: left;\n",
       "    }\n",
       "</style>\n",
       "<table border=\"1\" class=\"dataframe\">\n",
       "  <thead>\n",
       "    <tr>\n",
       "      <th></th>\n",
       "      <th>SBS</th>\n",
       "      <th>numberOfFeatures</th>\n",
       "      <th>SFS</th>\n",
       "      <th>numberOfFeatures</th>\n",
       "      <th>EFS</th>\n",
       "      <th>numberOfFeatures</th>\n",
       "    </tr>\n",
       "  </thead>\n",
       "  <tbody>\n",
       "    <tr>\n",
       "      <th>DecisionTreeClassifier</th>\n",
       "      <td>0.972164</td>\n",
       "      <td>13.0</td>\n",
       "      <td>0.971122</td>\n",
       "      <td>5.0</td>\n",
       "      <td>0.977690</td>\n",
       "      <td>5</td>\n",
       "    </tr>\n",
       "    <tr>\n",
       "      <th>KNeighborsClassifier</th>\n",
       "      <td>0.974145</td>\n",
       "      <td>6.0</td>\n",
       "      <td>0.974145</td>\n",
       "      <td>6.0</td>\n",
       "      <td>0.974458</td>\n",
       "      <td>3</td>\n",
       "    </tr>\n",
       "    <tr>\n",
       "      <th>naiveBayes_GaussianNB</th>\n",
       "      <td>0.862698</td>\n",
       "      <td>7.0</td>\n",
       "      <td>0.859570</td>\n",
       "      <td>3.0</td>\n",
       "      <td>0.871768</td>\n",
       "      <td>6</td>\n",
       "    </tr>\n",
       "    <tr>\n",
       "      <th>LogisticRegression</th>\n",
       "      <td>0.849249</td>\n",
       "      <td>8.0</td>\n",
       "      <td>0.832360</td>\n",
       "      <td>3.0</td>\n",
       "      <td>0.849979</td>\n",
       "      <td>5</td>\n",
       "    </tr>\n",
       "    <tr>\n",
       "      <th>Neural Network</th>\n",
       "      <td>0.894912</td>\n",
       "      <td>1.0</td>\n",
       "      <td>0.974041</td>\n",
       "      <td>7.0</td>\n",
       "      <td>0.969662</td>\n",
       "      <td>3</td>\n",
       "    </tr>\n",
       "    <tr>\n",
       "      <th>SVM</th>\n",
       "      <td>0.843307</td>\n",
       "      <td>5.0</td>\n",
       "      <td>0.818286</td>\n",
       "      <td>3.0</td>\n",
       "      <td>0.833299</td>\n",
       "      <td>2</td>\n",
       "    </tr>\n",
       "    <tr>\n",
       "      <th>RandomForest</th>\n",
       "      <td>NaN</td>\n",
       "      <td>NaN</td>\n",
       "      <td>NaN</td>\n",
       "      <td>NaN</td>\n",
       "      <td>0.998540</td>\n",
       "      <td>3</td>\n",
       "    </tr>\n",
       "  </tbody>\n",
       "</table>\n",
       "</div>"
      ],
      "text/plain": [
       "                             SBS numberOfFeatures       SFS numberOfFeatures  \\\n",
       "DecisionTreeClassifier  0.972164             13.0  0.971122              5.0   \n",
       "KNeighborsClassifier    0.974145              6.0  0.974145              6.0   \n",
       "naiveBayes_GaussianNB   0.862698              7.0  0.859570              3.0   \n",
       "LogisticRegression      0.849249              8.0  0.832360              3.0   \n",
       "Neural Network          0.894912              1.0  0.974041              7.0   \n",
       "SVM                     0.843307              5.0  0.818286              3.0   \n",
       "RandomForest                 NaN              NaN       NaN              NaN   \n",
       "\n",
       "                             EFS numberOfFeatures  \n",
       "DecisionTreeClassifier  0.977690                5  \n",
       "KNeighborsClassifier    0.974458                3  \n",
       "naiveBayes_GaussianNB   0.871768                6  \n",
       "LogisticRegression      0.849979                5  \n",
       "Neural Network          0.969662                3  \n",
       "SVM                     0.833299                2  \n",
       "RandomForest            0.998540                3  "
      ]
     },
     "execution_count": 483,
     "metadata": {},
     "output_type": "execute_result"
    }
   ],
   "source": [
    "Resualt_Search_acc_NumFeatures"
   ]
  },
  {
   "cell_type": "code",
   "execution_count": 492,
   "id": "d2501971",
   "metadata": {},
   "outputs": [],
   "source": [
    "Resualt_Search_acc_NumFeatures.to_csv('F:/O_C/T_U_C/dS_C9/7_Py(T)/3T/projects_classification/HR/Resualt/Resualt_Search_acc_NumFeatures.csv')"
   ]
  },
  {
   "cell_type": "code",
   "execution_count": null,
   "id": "b0fd704d",
   "metadata": {},
   "outputs": [],
   "source": []
  }
 ],
 "metadata": {
  "kernelspec": {
   "display_name": "Python 3",
   "language": "python",
   "name": "python3"
  }
 },
 "nbformat": 4,
 "nbformat_minor": 5
}
